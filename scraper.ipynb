{
 "cells": [
  {
   "attachments": {},
   "cell_type": "markdown",
   "metadata": {},
   "source": [
    "This notebook collects all the game ID's from the Steam Web API: https://steamcommunity.com/dev and additional informattion from the Storefront API: https://wiki.teamfortress.com/wiki/User:RJackson/StorefrontAPI.\n",
    "Then "
   ]
  },
  {
   "cell_type": "code",
   "execution_count": 15,
   "metadata": {},
   "outputs": [],
   "source": [
    "import json\n",
    "from urllib.request import urlopen\n",
    "import pandas as pd\n",
    "import os\n",
    "from tqdm.notebook import tqdm\n",
    "import numpy as np\n",
    "import time\n",
    "\n",
    "# variable\n",
    "num_apps = 2000 # number of reviews to scrape, if 0 all reviews will be scraped\n",
    "# 5 minute bucket for 200 Requests, 100000 per day\n",
    "\n",
    "all_games_url = \"https://api.steampowered.com/ISteamApps/GetAppList/v2/\"\n",
    "review_url = \"https://store.steampowered.com/appreviews/\"\n",
    "app_details_url = \"https://store.steampowered.com/api/appdetails?appids=\""
   ]
  },
  {
   "cell_type": "code",
   "execution_count": 16,
   "metadata": {},
   "outputs": [
    {
     "data": {
      "application/vnd.jupyter.widget-view+json": {
       "model_id": "09b871a02e5041fb9a2bc5f0cfeb48a0",
       "version_major": 2,
       "version_minor": 0
      },
      "text/plain": [
       "  0%|          | 0/2000 [00:00<?, ?it/s]"
      ]
     },
     "metadata": {},
     "output_type": "display_data"
    }
   ],
   "source": [
    "# get all app ID\n",
    "with urlopen(all_games_url) as url:\n",
    "    apps = pd.json_normalize(json.load(url)[\"applist\"], record_path =['apps'])\n",
    "\n",
    "# pre-clean empty names\n",
    "apps = apps.drop(apps[apps.name == \"\"].index)\n",
    "\n",
    "# check if all should be scraped\n",
    "if num_apps == 0: num_apps = len(apps)\n",
    "\n",
    "# if data file not  exists \n",
    "if not os.path.exists(\"raw_data.csv\"):\n",
    "    \n",
    "    # initialize empty one\n",
    "    df = pd.DataFrame()\n",
    "\n",
    "else: \n",
    "    # read out    \n",
    "    df = pd.read_csv('raw_data.csv', index_col=0, low_memory=False)\n",
    "    \n",
    "    # select all new apps\n",
    "    apps = apps.drop(apps[apps.appid.isin(df.appid)].index)\n",
    "\n",
    "# select random num_apps of all apps\n",
    "apps = apps.sample(frac=1).head(num_apps)\n",
    "\n",
    "reviews = pd.DataFrame()\n",
    "details = pd.DataFrame()\n",
    "\n",
    "# iterate through the appids\n",
    "for i, appid in enumerate(tqdm(apps.appid)):\n",
    "\n",
    "    # every 200 API calls wait 5 minutes to reset the bucket\n",
    "    if i%200 == 0 and i != 0:\n",
    "        time.sleep(300)\n",
    "    \n",
    "    # create specific detail url\n",
    "    with urlopen(app_details_url + str(appid)) as url:\n",
    "        \n",
    "        # collect details\n",
    "        app_details = json.load(url)[str(appid)]\n",
    "        \n",
    "        # if api call was successfull\n",
    "        if app_details[\"success\"]:\n",
    "            \n",
    "            # concat to details frame\n",
    "            details = pd.concat([details, pd.DataFrame([app_details[\"data\"]])])\n",
    "            \n",
    "            # create specific review url\n",
    "            with urlopen(review_url + str(appid) + \"?json=1\") as url:\n",
    "                \n",
    "                # concat to reviews frame\n",
    "                reviews = pd.concat([reviews, pd.DataFrame([json.load(url)['query_summary']])])\n",
    "        \n",
    "        else:\n",
    "            # if detail call were not successfull delete row in app df\n",
    "            apps = apps.drop(apps[apps.appid == appid].index) \n",
    "\n",
    "# concate new data together and append to old data\n",
    "df = pd.concat([df, \n",
    "                pd.concat([apps.reset_index(drop=True), \n",
    "                reviews.reset_index(drop=True),\n",
    "                details.drop([\"steam_appid\", \"name\"], axis = 1).reset_index(drop=True)],\n",
    "                    axis = 1)], ignore_index = True)\n",
    "\n",
    "# overwrite csv\n",
    "df.to_csv('raw_data.csv')\n",
    "df.sample(1000).to_csv('raw_data_small.csv')\n"
   ]
  }
 ],
 "metadata": {
  "kernelspec": {
   "display_name": "base",
   "language": "python",
   "name": "python3"
  },
  "language_info": {
   "codemirror_mode": {
    "name": "ipython",
    "version": 3
   },
   "file_extension": ".py",
   "mimetype": "text/x-python",
   "name": "python",
   "nbconvert_exporter": "python",
   "pygments_lexer": "ipython3",
   "version": "3.8.8"
  },
  "orig_nbformat": 4,
  "vscode": {
   "interpreter": {
    "hash": "0e9a04e0a5c422eb7d17f089ac60eed9f8e8db0d5bb014daab27a4ac46018303"
   }
  }
 },
 "nbformat": 4,
 "nbformat_minor": 2
}
