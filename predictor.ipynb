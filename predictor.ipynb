{
 "cells": [
  {
   "attachments": {},
   "cell_type": "markdown",
   "metadata": {},
   "source": [
    "This notebook collects all the game ID's from "
   ]
  },
  {
   "cell_type": "code",
   "execution_count": 1,
   "metadata": {},
   "outputs": [],
   "source": [
    "import json\n",
    "from urllib.request import urlopen\n",
    "import pandas as pd\n",
    "import os\n",
    "from tqdm.notebook import tqdm\n",
    "\n",
    "# variables\n",
    "scrape_reviews = True # if data should be scraped or loaded from csv\n",
    "reviews2scrap = 0 # number of reviews to scrape, if 0 all reviews will be scraped\n",
    "all_games_url = \"http://api.steampowered.com/ISteamApps/GetAppList/v0002/?key=STEAMKEY&format=json\"\n",
    "game_detail_url = \"http://store.steampowered.com/api/appdetails?appids=\"\n",
    "review_url = 'https://store.steampowered.com/appreviews/'\n"
   ]
  },
  {
   "cell_type": "code",
   "execution_count": 2,
   "metadata": {},
   "outputs": [
    {
     "data": {
      "application/vnd.jupyter.widget-view+json": {
       "model_id": "8aa790e5aafb4919af7e5ce4d38de77b",
       "version_major": 2,
       "version_minor": 0
      },
      "text/plain": [
       "  0%|          | 0/151528 [00:00<?, ?it/s]"
      ]
     },
     "metadata": {},
     "output_type": "display_data"
    }
   ],
   "source": [
    "# Scraping the data\n",
    "\n",
    "if scrape_reviews:\n",
    "    # get all app ID\n",
    "    with urlopen(all_games_url) as url:\n",
    "        df = pd.json_normalize(json.load(url)[\"applist\"], record_path =['apps'])\n",
    "        \n",
    "    # add review column\n",
    "    df[\"review_score\"] = \"\"\n",
    "    df[\"num_reviews\"] = \"\"\n",
    "    \n",
    "    # check if all should be scraped\n",
    "    if reviews2scrap == 0: reviews2scrap = len(df)\n",
    "    \n",
    "    # scrap first reviews2scrap reviews\n",
    "    for appid in tqdm(df.head(reviews2scrap)[\"appid\"]):\n",
    "        # create specific review url\n",
    "        with urlopen(review_url + str(appid) + \"?json=1\") as url:\n",
    "            # append review score\n",
    "            temp = json.load(url)\n",
    "            df.loc[df.appid == appid, \"review_score\"] = temp[\"query_summary\"][\"review_score\"]\n",
    "            df.loc[df.appid == appid, \"num_reviews\"] = temp[\"query_summary\"][\"num_reviews\"]\n",
    "\n",
    "    df.to_csv('raw_data.csv')\n",
    "\n",
    "else:\n",
    "    df = pd.read_csv('raw_data.csv', index_col=0)"
   ]
  },
  {
   "cell_type": "code",
   "execution_count": null,
   "metadata": {},
   "outputs": [],
   "source": [
    "# Cleaning the data\n",
    "# games that have no reviews\n",
    "df.drop(df[df.num_reviews == 0].index, inplace=True)\n",
    "\n",
    "# games for which information was not fetched\n",
    "df.drop(df[df.num_reviews == \"\"].index, inplace=True)\n",
    "df.drop(df[df.review_score == \"\"].index, inplace=True)\n",
    "df.to_csv('clean_data.csv')\n"
   ]
  }
 ],
 "metadata": {
  "kernelspec": {
   "display_name": "base",
   "language": "python",
   "name": "python3"
  },
  "language_info": {
   "codemirror_mode": {
    "name": "ipython",
    "version": 3
   },
   "file_extension": ".py",
   "mimetype": "text/x-python",
   "name": "python",
   "nbconvert_exporter": "python",
   "pygments_lexer": "ipython3",
   "version": "3.9.7"
  },
  "orig_nbformat": 4,
  "vscode": {
   "interpreter": {
    "hash": "c238c9d30ef68eafba9d9c8a783187179ae927635ef9ffb6ae99fa0aea57322b"
   }
  }
 },
 "nbformat": 4,
 "nbformat_minor": 2
}
