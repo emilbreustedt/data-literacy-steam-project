{
 "cells": [
  {
   "cell_type": "code",
   "execution_count": 1231,
   "metadata": {},
   "outputs": [],
   "source": [
    "import pandas as pd\n",
    "import matplotlib.pyplot as plt\n",
    "import numpy as np"
   ]
  },
  {
   "cell_type": "code",
   "execution_count": 1232,
   "metadata": {},
   "outputs": [],
   "source": [
    "from sklearn.linear_model import LinearRegression\n",
    "from sklearn.model_selection import train_test_split\n",
    "from sklearn.metrics import mean_squared_error\n",
    "from sklearn.metrics import r2_score\n",
    "from sklearn.metrics import explained_variance_score\n",
    "from sklearn.neural_network import MLPRegressor\n",
    "from sklearn.model_selection import GridSearchCV"
   ]
  },
  {
   "cell_type": "code",
   "execution_count": 1233,
   "metadata": {},
   "outputs": [],
   "source": [
    "import copy\n",
    "from scipy import stats\n",
    "from sklearn.preprocessing import PowerTransformer"
   ]
  },
  {
   "cell_type": "code",
   "execution_count": 1234,
   "metadata": {},
   "outputs": [
    {
     "data": {
      "text/html": [
       "<div>\n",
       "<style scoped>\n",
       "    .dataframe tbody tr th:only-of-type {\n",
       "        vertical-align: middle;\n",
       "    }\n",
       "\n",
       "    .dataframe tbody tr th {\n",
       "        vertical-align: top;\n",
       "    }\n",
       "\n",
       "    .dataframe thead th {\n",
       "        text-align: right;\n",
       "    }\n",
       "</style>\n",
       "<table border=\"1\" class=\"dataframe\">\n",
       "  <thead>\n",
       "    <tr style=\"text-align: right;\">\n",
       "      <th></th>\n",
       "      <th>required_age</th>\n",
       "      <th>price</th>\n",
       "      <th>relase_year</th>\n",
       "      <th>Violent</th>\n",
       "      <th>Simulation</th>\n",
       "      <th>Free to Play</th>\n",
       "      <th>Early Access</th>\n",
       "      <th>Strategy</th>\n",
       "      <th>Gore</th>\n",
       "      <th>Sexual Content</th>\n",
       "      <th>...</th>\n",
       "      <th>Steam Cloud</th>\n",
       "      <th>VR Support</th>\n",
       "      <th>LAN Co-op</th>\n",
       "      <th>Multi-player</th>\n",
       "      <th>Additional High-Quality Audio</th>\n",
       "      <th>Remote Play on Tablet</th>\n",
       "      <th>windows</th>\n",
       "      <th>mac</th>\n",
       "      <th>linux</th>\n",
       "      <th>score</th>\n",
       "    </tr>\n",
       "  </thead>\n",
       "  <tbody>\n",
       "    <tr>\n",
       "      <th>0</th>\n",
       "      <td>0</td>\n",
       "      <td>1379</td>\n",
       "      <td>2021</td>\n",
       "      <td>0</td>\n",
       "      <td>1</td>\n",
       "      <td>0</td>\n",
       "      <td>1</td>\n",
       "      <td>0</td>\n",
       "      <td>0</td>\n",
       "      <td>0</td>\n",
       "      <td>...</td>\n",
       "      <td>0</td>\n",
       "      <td>0</td>\n",
       "      <td>0</td>\n",
       "      <td>0</td>\n",
       "      <td>0</td>\n",
       "      <td>0</td>\n",
       "      <td>1</td>\n",
       "      <td>0</td>\n",
       "      <td>0</td>\n",
       "      <td>0.955032</td>\n",
       "    </tr>\n",
       "    <tr>\n",
       "      <th>1</th>\n",
       "      <td>0</td>\n",
       "      <td>399</td>\n",
       "      <td>2021</td>\n",
       "      <td>0</td>\n",
       "      <td>0</td>\n",
       "      <td>0</td>\n",
       "      <td>0</td>\n",
       "      <td>0</td>\n",
       "      <td>0</td>\n",
       "      <td>0</td>\n",
       "      <td>...</td>\n",
       "      <td>0</td>\n",
       "      <td>0</td>\n",
       "      <td>0</td>\n",
       "      <td>1</td>\n",
       "      <td>0</td>\n",
       "      <td>0</td>\n",
       "      <td>1</td>\n",
       "      <td>0</td>\n",
       "      <td>0</td>\n",
       "      <td>0.733668</td>\n",
       "    </tr>\n",
       "    <tr>\n",
       "      <th>2</th>\n",
       "      <td>0</td>\n",
       "      <td>499</td>\n",
       "      <td>2021</td>\n",
       "      <td>0</td>\n",
       "      <td>1</td>\n",
       "      <td>0</td>\n",
       "      <td>0</td>\n",
       "      <td>1</td>\n",
       "      <td>0</td>\n",
       "      <td>0</td>\n",
       "      <td>...</td>\n",
       "      <td>0</td>\n",
       "      <td>0</td>\n",
       "      <td>0</td>\n",
       "      <td>1</td>\n",
       "      <td>0</td>\n",
       "      <td>0</td>\n",
       "      <td>1</td>\n",
       "      <td>0</td>\n",
       "      <td>0</td>\n",
       "      <td>0.921053</td>\n",
       "    </tr>\n",
       "    <tr>\n",
       "      <th>3</th>\n",
       "      <td>0</td>\n",
       "      <td>5999</td>\n",
       "      <td>2022</td>\n",
       "      <td>0</td>\n",
       "      <td>0</td>\n",
       "      <td>0</td>\n",
       "      <td>0</td>\n",
       "      <td>0</td>\n",
       "      <td>0</td>\n",
       "      <td>0</td>\n",
       "      <td>...</td>\n",
       "      <td>1</td>\n",
       "      <td>0</td>\n",
       "      <td>0</td>\n",
       "      <td>0</td>\n",
       "      <td>0</td>\n",
       "      <td>0</td>\n",
       "      <td>1</td>\n",
       "      <td>0</td>\n",
       "      <td>0</td>\n",
       "      <td>0.953191</td>\n",
       "    </tr>\n",
       "    <tr>\n",
       "      <th>4</th>\n",
       "      <td>0</td>\n",
       "      <td>799</td>\n",
       "      <td>2021</td>\n",
       "      <td>0</td>\n",
       "      <td>0</td>\n",
       "      <td>0</td>\n",
       "      <td>0</td>\n",
       "      <td>0</td>\n",
       "      <td>0</td>\n",
       "      <td>0</td>\n",
       "      <td>...</td>\n",
       "      <td>0</td>\n",
       "      <td>0</td>\n",
       "      <td>0</td>\n",
       "      <td>0</td>\n",
       "      <td>0</td>\n",
       "      <td>0</td>\n",
       "      <td>1</td>\n",
       "      <td>0</td>\n",
       "      <td>0</td>\n",
       "      <td>0.971429</td>\n",
       "    </tr>\n",
       "    <tr>\n",
       "      <th>...</th>\n",
       "      <td>...</td>\n",
       "      <td>...</td>\n",
       "      <td>...</td>\n",
       "      <td>...</td>\n",
       "      <td>...</td>\n",
       "      <td>...</td>\n",
       "      <td>...</td>\n",
       "      <td>...</td>\n",
       "      <td>...</td>\n",
       "      <td>...</td>\n",
       "      <td>...</td>\n",
       "      <td>...</td>\n",
       "      <td>...</td>\n",
       "      <td>...</td>\n",
       "      <td>...</td>\n",
       "      <td>...</td>\n",
       "      <td>...</td>\n",
       "      <td>...</td>\n",
       "      <td>...</td>\n",
       "      <td>...</td>\n",
       "      <td>...</td>\n",
       "    </tr>\n",
       "    <tr>\n",
       "      <th>9995</th>\n",
       "      <td>0</td>\n",
       "      <td>599</td>\n",
       "      <td>2017</td>\n",
       "      <td>0</td>\n",
       "      <td>0</td>\n",
       "      <td>0</td>\n",
       "      <td>0</td>\n",
       "      <td>0</td>\n",
       "      <td>0</td>\n",
       "      <td>0</td>\n",
       "      <td>...</td>\n",
       "      <td>1</td>\n",
       "      <td>0</td>\n",
       "      <td>0</td>\n",
       "      <td>0</td>\n",
       "      <td>0</td>\n",
       "      <td>0</td>\n",
       "      <td>1</td>\n",
       "      <td>1</td>\n",
       "      <td>1</td>\n",
       "      <td>0.921875</td>\n",
       "    </tr>\n",
       "    <tr>\n",
       "      <th>9996</th>\n",
       "      <td>0</td>\n",
       "      <td>1679</td>\n",
       "      <td>2020</td>\n",
       "      <td>0</td>\n",
       "      <td>0</td>\n",
       "      <td>0</td>\n",
       "      <td>1</td>\n",
       "      <td>0</td>\n",
       "      <td>0</td>\n",
       "      <td>0</td>\n",
       "      <td>...</td>\n",
       "      <td>0</td>\n",
       "      <td>0</td>\n",
       "      <td>0</td>\n",
       "      <td>1</td>\n",
       "      <td>0</td>\n",
       "      <td>0</td>\n",
       "      <td>1</td>\n",
       "      <td>0</td>\n",
       "      <td>0</td>\n",
       "      <td>0.660407</td>\n",
       "    </tr>\n",
       "    <tr>\n",
       "      <th>9997</th>\n",
       "      <td>0</td>\n",
       "      <td>4999</td>\n",
       "      <td>2020</td>\n",
       "      <td>0</td>\n",
       "      <td>0</td>\n",
       "      <td>0</td>\n",
       "      <td>0</td>\n",
       "      <td>0</td>\n",
       "      <td>0</td>\n",
       "      <td>0</td>\n",
       "      <td>...</td>\n",
       "      <td>1</td>\n",
       "      <td>0</td>\n",
       "      <td>0</td>\n",
       "      <td>1</td>\n",
       "      <td>0</td>\n",
       "      <td>1</td>\n",
       "      <td>1</td>\n",
       "      <td>0</td>\n",
       "      <td>0</td>\n",
       "      <td>0.677665</td>\n",
       "    </tr>\n",
       "    <tr>\n",
       "      <th>9998</th>\n",
       "      <td>0</td>\n",
       "      <td>1999</td>\n",
       "      <td>2017</td>\n",
       "      <td>0</td>\n",
       "      <td>0</td>\n",
       "      <td>0</td>\n",
       "      <td>0</td>\n",
       "      <td>0</td>\n",
       "      <td>0</td>\n",
       "      <td>0</td>\n",
       "      <td>...</td>\n",
       "      <td>1</td>\n",
       "      <td>0</td>\n",
       "      <td>0</td>\n",
       "      <td>1</td>\n",
       "      <td>0</td>\n",
       "      <td>0</td>\n",
       "      <td>1</td>\n",
       "      <td>1</td>\n",
       "      <td>0</td>\n",
       "      <td>0.973799</td>\n",
       "    </tr>\n",
       "    <tr>\n",
       "      <th>9999</th>\n",
       "      <td>0</td>\n",
       "      <td>2499</td>\n",
       "      <td>2019</td>\n",
       "      <td>0</td>\n",
       "      <td>0</td>\n",
       "      <td>0</td>\n",
       "      <td>0</td>\n",
       "      <td>0</td>\n",
       "      <td>0</td>\n",
       "      <td>0</td>\n",
       "      <td>...</td>\n",
       "      <td>0</td>\n",
       "      <td>0</td>\n",
       "      <td>0</td>\n",
       "      <td>0</td>\n",
       "      <td>0</td>\n",
       "      <td>0</td>\n",
       "      <td>1</td>\n",
       "      <td>0</td>\n",
       "      <td>0</td>\n",
       "      <td>0.601449</td>\n",
       "    </tr>\n",
       "  </tbody>\n",
       "</table>\n",
       "<p>10000 rows × 63 columns</p>\n",
       "</div>"
      ],
      "text/plain": [
       "      required_age  price  relase_year  Violent  Simulation  Free to Play  \\\n",
       "0                0   1379         2021        0           1             0   \n",
       "1                0    399         2021        0           0             0   \n",
       "2                0    499         2021        0           1             0   \n",
       "3                0   5999         2022        0           0             0   \n",
       "4                0    799         2021        0           0             0   \n",
       "...            ...    ...          ...      ...         ...           ...   \n",
       "9995             0    599         2017        0           0             0   \n",
       "9996             0   1679         2020        0           0             0   \n",
       "9997             0   4999         2020        0           0             0   \n",
       "9998             0   1999         2017        0           0             0   \n",
       "9999             0   2499         2019        0           0             0   \n",
       "\n",
       "      Early Access  Strategy  Gore  Sexual Content  ...  Steam Cloud  \\\n",
       "0                1         0     0               0  ...            0   \n",
       "1                0         0     0               0  ...            0   \n",
       "2                0         1     0               0  ...            0   \n",
       "3                0         0     0               0  ...            1   \n",
       "4                0         0     0               0  ...            0   \n",
       "...            ...       ...   ...             ...  ...          ...   \n",
       "9995             0         0     0               0  ...            1   \n",
       "9996             1         0     0               0  ...            0   \n",
       "9997             0         0     0               0  ...            1   \n",
       "9998             0         0     0               0  ...            1   \n",
       "9999             0         0     0               0  ...            0   \n",
       "\n",
       "      VR Support  LAN Co-op  Multi-player  Additional High-Quality Audio  \\\n",
       "0              0          0             0                              0   \n",
       "1              0          0             1                              0   \n",
       "2              0          0             1                              0   \n",
       "3              0          0             0                              0   \n",
       "4              0          0             0                              0   \n",
       "...          ...        ...           ...                            ...   \n",
       "9995           0          0             0                              0   \n",
       "9996           0          0             1                              0   \n",
       "9997           0          0             1                              0   \n",
       "9998           0          0             1                              0   \n",
       "9999           0          0             0                              0   \n",
       "\n",
       "      Remote Play on Tablet  windows  mac  linux     score  \n",
       "0                         0        1    0      0  0.955032  \n",
       "1                         0        1    0      0  0.733668  \n",
       "2                         0        1    0      0  0.921053  \n",
       "3                         0        1    0      0  0.953191  \n",
       "4                         0        1    0      0  0.971429  \n",
       "...                     ...      ...  ...    ...       ...  \n",
       "9995                      0        1    1      1  0.921875  \n",
       "9996                      0        1    0      0  0.660407  \n",
       "9997                      1        1    0      0  0.677665  \n",
       "9998                      0        1    1      0  0.973799  \n",
       "9999                      0        1    0      0  0.601449  \n",
       "\n",
       "[10000 rows x 63 columns]"
      ]
     },
     "execution_count": 1234,
     "metadata": {},
     "output_type": "execute_result"
    }
   ],
   "source": [
    "df = pd.read_csv(\"clean_data.csv\", index_col=0)\n",
    "df"
   ]
  },
  {
   "cell_type": "markdown",
   "metadata": {},
   "source": [
    "# Fitting linear regression with all variables"
   ]
  },
  {
   "cell_type": "code",
   "execution_count": null,
   "metadata": {},
   "outputs": [],
   "source": []
  },
  {
   "cell_type": "code",
   "execution_count": 1235,
   "metadata": {},
   "outputs": [
    {
     "data": {
      "text/plain": [
       "63"
      ]
     },
     "execution_count": 1235,
     "metadata": {},
     "output_type": "execute_result"
    }
   ],
   "source": [
    "len(df.columns)"
   ]
  },
  {
   "cell_type": "code",
   "execution_count": 1236,
   "metadata": {},
   "outputs": [
    {
     "data": {
      "image/png": "[encoded data removed]",
      "text/plain": [
       "<Figure size 1800x576 with 1 Axes>"
      ]
     },
     "metadata": {
      "needs_background": "light"
     },
     "output_type": "display_data"
    }
   ],
   "source": [
    "plt.figure(figsize=(25,8))\n",
    "bars = df.corr()['score'].sort_values(ascending=False).plot(kind='bar')"
   ]
  },
  {
   "cell_type": "markdown",
   "metadata": {},
   "source": [
    "# check IVs for correlation"
   ]
  },
  {
   "cell_type": "code",
   "execution_count": 1237,
   "metadata": {},
   "outputs": [],
   "source": [
    "corr = df.iloc[:,0:-1].corr()\n",
    "#corr.style.background_gradient(cmap='coolwarm')"
   ]
  },
  {
   "cell_type": "code",
   "execution_count": 1238,
   "metadata": {},
   "outputs": [],
   "source": [
    "high_corr1, high_corr2 = np.where(np.abs(corr)>0.5)"
   ]
  },
  {
   "cell_type": "code",
   "execution_count": 1239,
   "metadata": {},
   "outputs": [],
   "source": [
    "#high_corr1, high_corr2"
   ]
  },
  {
   "cell_type": "markdown",
   "metadata": {},
   "source": [
    "## see which IVs have correlation higher than 0.5"
   ]
  },
  {
   "cell_type": "code",
   "execution_count": 1240,
   "metadata": {},
   "outputs": [],
   "source": [
    "# get indicics of highly correlated features in feature matrix\n",
    "A = []\n",
    "for i in range(len(high_corr1)):\n",
    "    if high_corr1[i]!=high_corr2[i]:\n",
    "        A.append((high_corr1[i],high_corr2[i]))\n",
    "    "
   ]
  },
  {
   "cell_type": "code",
   "execution_count": 1241,
   "metadata": {},
   "outputs": [],
   "source": [
    "#len(A)"
   ]
  },
  {
   "cell_type": "code",
   "execution_count": 1242,
   "metadata": {},
   "outputs": [],
   "source": [
    "# transform indices to names of columns, add to tuple together with correlation of the features\n",
    "B = []\n",
    "for i in range(len(A)):\n",
    "    B.append((df.columns[A[i][0]],df.columns[A[i][1]], round(corr.iloc[A[i][0],A[i][1]],3)))\n",
    "    "
   ]
  },
  {
   "cell_type": "code",
   "execution_count": 1243,
   "metadata": {},
   "outputs": [
    {
     "data": {
      "text/plain": [
       "[('Violent', 'Gore', 0.689),\n",
       " ('Gore', 'Violent', 0.689),\n",
       " ('Sexual Content', 'Nudity', 0.572),\n",
       " ('Nudity', 'Sexual Content', 0.572),\n",
       " ('Massively Multiplayer', 'MMO', 0.671),\n",
       " ('Online Co-op', 'Co-op', 0.753),\n",
       " ('Online Co-op', 'Multi-player', 0.515),\n",
       " ('PvP', 'Online PvP', 0.896),\n",
       " ('PvP', 'Shared/Split Screen PvP', 0.57),\n",
       " ('PvP', 'Multi-player', 0.632),\n",
       " ('Co-op', 'Online Co-op', 0.753),\n",
       " ('Co-op', 'Multi-player', 0.654),\n",
       " ('Includes level editor', 'Steam Workshop', 0.507),\n",
       " ('Remote Play Together', 'Shared/Split Screen PvP', 0.641),\n",
       " ('Remote Play Together', 'Shared/Split Screen Co-op', 0.611),\n",
       " ('Remote Play Together', 'Shared/Split Screen', 0.809),\n",
       " ('Online PvP', 'PvP', 0.896),\n",
       " ('Online PvP', 'Multi-player', 0.572),\n",
       " ('VR Only', 'Tracked Controller Support', 0.864),\n",
       " ('Remote Play on Phone', 'Remote Play on Tablet', 0.874),\n",
       " ('LAN PvP', 'LAN Co-op', 0.621),\n",
       " ('Tracked Controller Support', 'VR Only', 0.864),\n",
       " ('Shared/Split Screen PvP', 'PvP', 0.57),\n",
       " ('Shared/Split Screen PvP', 'Remote Play Together', 0.641),\n",
       " ('Shared/Split Screen PvP', 'Shared/Split Screen', 0.596),\n",
       " ('Shared/Split Screen Co-op', 'Remote Play Together', 0.611),\n",
       " ('Shared/Split Screen Co-op', 'Shared/Split Screen', 0.609),\n",
       " ('Shared/Split Screen', 'Remote Play Together', 0.809),\n",
       " ('Shared/Split Screen', 'Shared/Split Screen PvP', 0.596),\n",
       " ('Shared/Split Screen', 'Shared/Split Screen Co-op', 0.609),\n",
       " ('Steam Workshop', 'Includes level editor', 0.507),\n",
       " ('MMO', 'Massively Multiplayer', 0.671),\n",
       " ('LAN Co-op', 'LAN PvP', 0.621),\n",
       " ('Multi-player', 'Online Co-op', 0.515),\n",
       " ('Multi-player', 'PvP', 0.632),\n",
       " ('Multi-player', 'Co-op', 0.654),\n",
       " ('Multi-player', 'Online PvP', 0.572),\n",
       " ('Remote Play on Tablet', 'Remote Play on Phone', 0.874),\n",
       " ('mac', 'linux', 0.654),\n",
       " ('linux', 'mac', 0.654)]"
      ]
     },
     "execution_count": 1243,
     "metadata": {},
     "output_type": "execute_result"
    }
   ],
   "source": [
    "B"
   ]
  },
  {
   "cell_type": "code",
   "execution_count": null,
   "metadata": {},
   "outputs": [],
   "source": []
  },
  {
   "cell_type": "markdown",
   "metadata": {},
   "source": [
    "## makes regression more reasonable but slightly reduces predictive performance"
   ]
  },
  {
   "cell_type": "markdown",
   "metadata": {},
   "source": [
    "reduce:\\\n",
    "MMO/Massive Multiplayer,\\\n",
    "Gore/Violent,\\\n",
    "Remote-Play Tablet/Phone,\\\n",
    "Coop/Online coop,\\\n",
    "Online PVP/PVP,\\\n",
    "Remove  Tracked-ControllerSupport/VR.\\\n",
    "Only to one column each\\\n",
    "Remove Shared/Split screen variable as correlation with several variables is very high"
   ]
  },
  {
   "cell_type": "markdown",
   "metadata": {},
   "source": [
    "how to treat Shared/Split Screen [PvP, Co-op]?"
   ]
  },
  {
   "cell_type": "code",
   "execution_count": 1244,
   "metadata": {},
   "outputs": [],
   "source": [
    "def join_columns(df, col1, col2):\n",
    "    #integrates column2 into column1. \n",
    "    #Is done when correlation is high and one column is a generalization of the other\n",
    "    \n",
    "    # find out in which rows values of column1 and column 2 differ\n",
    "    idx = np.where(df[col1]!=df[col2])\n",
    "    # convert ot to usable index list such that it can be used as arugment for df.loc\n",
    "    idx = list(df.loc[idx,col1].index)\n",
    "    \n",
    "    #in these rows, change value of column1 to 1. Then remove column 2 from dataframe\n",
    "    df.loc[idx,col1]=1\n",
    "    df.drop(col2, axis=1, inplace=True)\n"
   ]
  },
  {
   "cell_type": "code",
   "execution_count": 1245,
   "metadata": {},
   "outputs": [],
   "source": [
    "join_columns(df, \"MMO\", \"Massively Multiplayer\")\n",
    "join_columns(df, \"Violent\", \"Gore\")\n",
    "join_columns(df, \"Remote Play on Phone\", \"Remote Play on Tablet\")\n",
    "join_columns(df, \"PvP\", \"Online PvP\")\n",
    "join_columns(df, \"VR Only\", \"Tracked Controller Support\")\n",
    "join_columns(df, \"Co-op\", \"Online Co-op\")\n",
    "join_columns(df, \"Shared/Split Screen\", \"Shared/Split Screen PvP\")\n",
    "join_columns(df, \"Shared/Split Screen\",'Shared/Split Screen Co-op')"
   ]
  },
  {
   "cell_type": "code",
   "execution_count": 1246,
   "metadata": {},
   "outputs": [
    {
     "data": {
      "text/plain": [
       "55"
      ]
     },
     "execution_count": 1246,
     "metadata": {},
     "output_type": "execute_result"
    }
   ],
   "source": [
    "len(df.columns)"
   ]
  },
  {
   "cell_type": "code",
   "execution_count": 1247,
   "metadata": {},
   "outputs": [],
   "source": [
    "corr = df.iloc[:,0:-1].corr()\n",
    "#corr.style.background_gradient(cmap='coolwarm')"
   ]
  },
  {
   "cell_type": "code",
   "execution_count": 1248,
   "metadata": {},
   "outputs": [],
   "source": [
    "high_corr1, high_corr2 = np.where(np.abs(corr)>0.5)"
   ]
  },
  {
   "cell_type": "code",
   "execution_count": 1249,
   "metadata": {},
   "outputs": [],
   "source": [
    "#high_corr1, high_corr2"
   ]
  },
  {
   "cell_type": "code",
   "execution_count": 1250,
   "metadata": {},
   "outputs": [],
   "source": [
    "A = []\n",
    "for i in range(len(high_corr1)):\n",
    "    #print(high_corr1[i])\n",
    "    if high_corr1[i]!=high_corr2[i]:\n",
    "        A.append((high_corr1[i],high_corr2[i]))\n",
    "    "
   ]
  },
  {
   "cell_type": "code",
   "execution_count": 1251,
   "metadata": {},
   "outputs": [],
   "source": [
    "#A"
   ]
  },
  {
   "cell_type": "code",
   "execution_count": 1252,
   "metadata": {},
   "outputs": [],
   "source": [
    "#len(df.columns)"
   ]
  },
  {
   "cell_type": "code",
   "execution_count": 1253,
   "metadata": {},
   "outputs": [],
   "source": [
    "B = []\n",
    "for i in range(len(A)):\n",
    "    B.append((df.columns[A[i][0]],df.columns[A[i][1]], round(corr.iloc[A[i][0],A[i][1]],3)))\n",
    "    "
   ]
  },
  {
   "cell_type": "code",
   "execution_count": 1254,
   "metadata": {},
   "outputs": [
    {
     "data": {
      "text/plain": [
       "[('Sexual Content', 'Nudity', 0.572),\n",
       " ('Nudity', 'Sexual Content', 0.572),\n",
       " ('PvP', 'Multi-player', 0.632),\n",
       " ('Co-op', 'Multi-player', 0.653),\n",
       " ('Includes level editor', 'Steam Workshop', 0.507),\n",
       " ('Remote Play Together', 'Shared/Split Screen', 0.897),\n",
       " ('LAN PvP', 'LAN Co-op', 0.621),\n",
       " ('Shared/Split Screen', 'Remote Play Together', 0.897),\n",
       " ('Shared/Split Screen', 'Multi-player', 0.505),\n",
       " ('Steam Workshop', 'Includes level editor', 0.507),\n",
       " ('LAN Co-op', 'LAN PvP', 0.621),\n",
       " ('Multi-player', 'PvP', 0.632),\n",
       " ('Multi-player', 'Co-op', 0.653),\n",
       " ('Multi-player', 'Shared/Split Screen', 0.505),\n",
       " ('mac', 'linux', 0.654),\n",
       " ('linux', 'mac', 0.654)]"
      ]
     },
     "execution_count": 1254,
     "metadata": {},
     "output_type": "execute_result"
    }
   ],
   "source": [
    "B"
   ]
  },
  {
   "cell_type": "code",
   "execution_count": 1255,
   "metadata": {},
   "outputs": [],
   "source": [
    "#len(np.where(df[\"Remote Play Together\"]==1)[0]), len(np.where(df[\"Shared/Split Screen\"]==1)[0])"
   ]
  },
  {
   "cell_type": "code",
   "execution_count": 1256,
   "metadata": {},
   "outputs": [],
   "source": [
    "df.drop(\"Remote Play Together\", axis=1, inplace=True)"
   ]
  },
  {
   "cell_type": "markdown",
   "metadata": {},
   "source": [
    "Split into train and test set before power transform"
   ]
  },
  {
   "cell_type": "code",
   "execution_count": null,
   "metadata": {},
   "outputs": [],
   "source": []
  },
  {
   "cell_type": "markdown",
   "metadata": {},
   "source": [
    "## normalize score for better predictive results"
   ]
  },
  {
   "cell_type": "code",
   "execution_count": 1148,
   "metadata": {},
   "outputs": [],
   "source": [
    "#df_norm = df.copy(deep=True)"
   ]
  },
  {
   "cell_type": "code",
   "execution_count": 1008,
   "metadata": {},
   "outputs": [
    {
     "data": {
      "text/plain": [
       "-1.2853841768239516"
      ]
     },
     "execution_count": 1008,
     "metadata": {},
     "output_type": "execute_result"
    }
   ],
   "source": [
    "#df[\"score\"].skew()"
   ]
  },
  {
   "cell_type": "code",
   "execution_count": 1149,
   "metadata": {},
   "outputs": [],
   "source": [
    "#box_cox_score = stats.boxcox(df[\"score\"])[0]"
   ]
  },
  {
   "cell_type": "code",
   "execution_count": 1150,
   "metadata": {},
   "outputs": [],
   "source": [
    "#df[\"score\"] = box_cox_score"
   ]
  },
  {
   "cell_type": "markdown",
   "metadata": {},
   "source": [
    "## try normalizing other IVs too"
   ]
  },
  {
   "cell_type": "code",
   "execution_count": 766,
   "metadata": {},
   "outputs": [
    {
     "name": "stderr",
     "output_type": "stream",
     "text": [
      "C:\\Users\\Marco\\anaconda3\\lib\\site-packages\\sklearn\\preprocessing\\_data.py:3218: RuntimeWarning: overflow encountered in power\n",
      "  out[pos] = (np.power(x[pos] + 1, lmbda) - 1) / lmbda\n",
      "C:\\Users\\Marco\\anaconda3\\lib\\site-packages\\numpy\\core\\_methods.py:232: RuntimeWarning: overflow encountered in multiply\n",
      "  x = um.multiply(x, x, out=x)\n",
      "C:\\Users\\Marco\\anaconda3\\lib\\site-packages\\numpy\\core\\_methods.py:243: RuntimeWarning: overflow encountered in reduce\n",
      "  ret = umr_sum(x, axis, dtype, out, keepdims=keepdims, where=where)\n"
     ]
    }
   ],
   "source": [
    "#df_norm[\"relase_year\"] = power_transform((np.array(df[\"relase_year\"])).reshape(-1,1)).reshape(-1)"
   ]
  },
  {
   "cell_type": "code",
   "execution_count": 767,
   "metadata": {},
   "outputs": [],
   "source": [
    "#df_norm[\"price\"] = power_transform((np.array(df[\"price\"])).reshape(-1,1)).reshape(-1)"
   ]
  },
  {
   "cell_type": "code",
   "execution_count": 768,
   "metadata": {},
   "outputs": [],
   "source": [
    "#df_norm[\"required_age\"] = power_transform((np.array(df[\"required_age\"])).reshape(-1,1)).reshape(-1)"
   ]
  },
  {
   "cell_type": "code",
   "execution_count": 1063,
   "metadata": {},
   "outputs": [],
   "source": [
    "from sklearn.compose import TransformedTargetRegressor"
   ]
  },
  {
   "cell_type": "code",
   "execution_count": 1064,
   "metadata": {},
   "outputs": [],
   "source": []
  },
  {
   "cell_type": "code",
   "execution_count": null,
   "metadata": {},
   "outputs": [],
   "source": []
  },
  {
   "cell_type": "code",
   "execution_count": 1151,
   "metadata": {},
   "outputs": [],
   "source": [
    "def find_predictors(df):\n",
    "    \n",
    "    # Sort by absolute correlation\n",
    "    predictors = abs(df.corr()['score']).sort_values(ascending=False).drop(\"score\")\n",
    "\n",
    "    r2_max = 0\n",
    "    i_max = 0\n",
    "\n",
    "    # add variables until model is overfitting\n",
    "    for i, col in enumerate(list(predictors.index)):\n",
    "        trans= PowerTransformer()\n",
    "        reg = LinearRegression()\n",
    "        regression = TransformedTargetRegressor(regressor = reg, transformer = trans)\n",
    "        X = df[predictors.index[:i+1]]\n",
    "        X_train, X_test, y_train, y_test = train_test_split(X, df[\"score\"], test_size=0.3, random_state=42)\n",
    "        regression.fit(X_train, y_train)\n",
    "        y_pred = regression.predict(X_test)\n",
    "        r2 = r2_score(y_test, y_pred)\n",
    "        if r2 > r2_max:\n",
    "            r2_max = r2\n",
    "            i_max = i+1\n",
    "\n",
    "    # return predictors\n",
    "    return predictors[0:i_max] \n"
   ]
  },
  {
   "cell_type": "code",
   "execution_count": 1152,
   "metadata": {},
   "outputs": [
    {
     "data": {
      "text/plain": [
       "(42, 0.12946, 0.00593, 0.12948)"
      ]
     },
     "execution_count": 1152,
     "metadata": {},
     "output_type": "execute_result"
    }
   ],
   "source": [
    "# train again best model\n",
    "predictors  = find_predictors(df)\n",
    "X_train, X_test, y_train, y_test = train_test_split(df[list(predictors.index)], df[\"score\"], test_size=0.3, random_state=42)\n",
    "reg = LinearRegression().fit(X_train, y_train)\n",
    "y_pred = reg.predict(X_test)\n",
    "r2 = r2_score(y_test, y_pred)\n",
    "explained_var = explained_variance_score(y_test, y_pred)\n",
    "MSE = mean_squared_error(y_test, y_pred)\n",
    "\n",
    "len(predictors), round(r2, 5), round(MSE, 5), round(explained_var,5)"
   ]
  },
  {
   "cell_type": "code",
   "execution_count": 1114,
   "metadata": {},
   "outputs": [
    {
     "name": "stdout",
     "output_type": "stream",
     "text": [
      "Downloadable Content & 0.14883 \\\\\n",
      "relase_year & 0.1444 \\\\\n",
      "Indie & 0.13513 \\\\\n",
      "Steam Cloud & 0.12675 \\\\\n",
      "Strategy & 0.12307 \\\\\n",
      "Casual & 0.11005 \\\\\n",
      "Simulation & 0.10549 \\\\\n",
      "Multi-player & 0.09653 \\\\\n",
      "MMO & 0.09137 \\\\\n",
      "Steam Achievements & 0.09123 \\\\\n",
      "Remote Play on Phone & 0.08858 \\\\\n",
      "mac & 0.0844 \\\\\n",
      "Full controller support & 0.07878 \\\\\n",
      "required_age & 0.06895 \\\\\n",
      "linux & 0.06841 \\\\\n",
      "Co-op & 0.05766 \\\\\n",
      "Shared/Split Screen & 0.05605 \\\\\n",
      "Remote Play on TV & 0.05254 \\\\\n",
      "Steam Leaderboards & 0.05252 \\\\\n",
      "Includes level editor & 0.04986 \\\\\n",
      "In-App Purchases & 0.04696 \\\\\n",
      "Adventure & 0.04469 \\\\\n",
      "RPG & 0.04091 \\\\\n",
      "Action & 0.03738 \\\\\n",
      "Single-player & 0.0357 \\\\\n",
      "Cross-Platform Multiplayer & 0.03441 \\\\\n",
      "Free to Play & 0.03351 \\\\\n",
      "PvP & 0.03225 \\\\\n",
      "Violent & 0.03064 \\\\\n",
      "Sports & 0.02638 \\\\\n",
      "Valve Anti-Cheat enabled & 0.02552 \\\\\n",
      "Includes Source SDK & 0.02529 \\\\\n",
      "Commentary available & 0.02513 \\\\\n",
      "Steam Trading Cards & 0.02505 \\\\\n",
      "Additional High-Quality Audio & 0.02281 \\\\\n",
      "Captions available & 0.02037 \\\\\n",
      "Steam Workshop & 0.0202 \\\\\n",
      "LAN Co-op & 0.02012 \\\\\n",
      "Steam Turn Notifications & 0.01593 \\\\\n"
     ]
    }
   ],
   "source": [
    "# table printer\n",
    "for var, corr in predictors.iteritems():\n",
    "    print(var + \" & \"+ str(round(corr, 5)) + \" \\\\\\\\\")\n",
    "    "
   ]
  },
  {
   "cell_type": "markdown",
   "metadata": {},
   "source": [
    "## Linear regression with MLP"
   ]
  },
  {
   "cell_type": "code",
   "execution_count": 776,
   "metadata": {},
   "outputs": [
    {
     "name": "stdout",
     "output_type": "stream",
     "text": [
      "-0.00103 0.02413\n",
      "0.00013\n"
     ]
    },
    {
     "data": {
      "text/plain": [
       "\"\\n# Hyperparameter optimization\\nparam_grid = {\\n    'hidden_layer_sizes': [(150,100,50), (200,150,100,50), (250,200,150,100,50)],\\n    'max_iter': [5000, 7500, 10000],\\n    'activation': ['relu'],\\n    'solver': ['adam'],\\n    'alpha': [0.0001, 0.05],\\n    'learning_rate': ['constant','adaptive'],\\n}\\n\\ngrid = GridSearchCV(reg, param_grid, n_jobs= -1)\\ngrid.fit(X_train, y_train)\\n\\nprint(grid.best_params_) \\n\""
      ]
     },
     "execution_count": 776,
     "metadata": {},
     "output_type": "execute_result"
    }
   ],
   "source": [
    "# Try with MLP\n",
    "X_train, X_test, y_train, y_test = train_test_split(df.drop(\"score\", axis = 1), df[\"score\"], test_size=0.3, random_state=42)\n",
    "reg = MLPRegressor(hidden_layer_sizes=(250,200,150,100,50), activation='logistic' ,random_state=42, max_iter=10000, batch_size = 64).fit(X_train, y_train)\n",
    "y_pred = reg.predict(X_test)\n",
    "r2 = r2_score(y_test, y_pred)\n",
    "explained_var_MLP = explained_variance_score(y_test, y_pred)\n",
    "MSE = mean_squared_error(y_test, y_pred)\n",
    "print(round(r2, 5), round(MSE, 5))\n",
    "print(round(explained_var_MLP,5))\n",
    "\n",
    "'''\n",
    "# Hyperparameter optimization\n",
    "param_grid = {\n",
    "    'hidden_layer_sizes': [(150,100,50), (200,150,100,50), (250,200,150,100,50)],\n",
    "    'max_iter': [5000, 7500, 10000],\n",
    "    'activation': ['relu'],\n",
    "    'solver': ['adam'],\n",
    "    'alpha': [0.0001, 0.05],\n",
    "    'learning_rate': ['constant','adaptive'],\n",
    "}\n",
    "\n",
    "grid = GridSearchCV(reg, param_grid, n_jobs= -1)\n",
    "grid.fit(X_train, y_train)\n",
    "\n",
    "print(grid.best_params_) \n",
    "'''"
   ]
  },
  {
   "cell_type": "markdown",
   "metadata": {},
   "source": [
    "# try different approaches to obtaining the best explained variance"
   ]
  },
  {
   "cell_type": "markdown",
   "metadata": {},
   "source": [
    "## try obtaining best fit by sequentially adding variables that improve MSE"
   ]
  },
  {
   "cell_type": "code",
   "execution_count": 1105,
   "metadata": {},
   "outputs": [],
   "source": [
    "def find_best_fit_minimize(df, start_index=0):\n",
    "    #functions tries to slowly build up accuracy by adding variables in seeing wheter they add accuracy. Drop if not\n",
    "    previous_good_regressors_indices = [start_index]\n",
    "    good_regessor_indices = [start_index]\n",
    "    previous_full = np.Inf\n",
    "    i=1\n",
    "    reg_rmse_list = []\n",
    "    best_explainded_variance = 0\n",
    "    y_pred_best = np.array(int(0.7*len(df)))\n",
    "    while(df.columns[good_regessor_indices[-1]]!=\"score\"):\n",
    "        trans= PowerTransformer()\n",
    "        reg = LinearRegression()\n",
    "        regression = TransformedTargetRegressor(regressor = reg, transformer = trans)\n",
    "        # consider changing random state later(other possible combination of best predictor variables)\n",
    "        X_train, X_test, y_train, y_test = train_test_split(df.iloc[:, good_regessor_indices],df[\"score\"] , test_size=0.3, random_state=42)\n",
    "        regression.fit(X_train, y_train)\n",
    "        y_pred = regression.predict(X_test)\n",
    "        new_reg_rmse = mean_squared_error(y_pred, y_test)\n",
    "        explained_var = explained_variance_score(y_test, y_pred)\n",
    "        \n",
    "        print(\"RMS difference: {}\\n\".format(new_reg_rmse - previous_full))\n",
    "        \n",
    "        # check if the error of the model with new variable added is smaller than previous error\n",
    "        if(new_reg_rmse - previous_full<0):\n",
    "            # if yes, keep variable in the model\n",
    "            \n",
    "            #update list of variables that improve prediction\n",
    "            previous_good_regressors_indices = copy.deepcopy(good_regessor_indices)\n",
    "            \n",
    "            #update error s.t. it is error of new and improved model\n",
    "            previous_full = new_reg_rmse\n",
    "            \n",
    "            # update histroy of MSE of helpful variables\n",
    "            reg_rmse_list.append(new_reg_rmse)\n",
    "            \n",
    "            y_pred_best = y_pred\n",
    "            \n",
    "            best_explainded_variance = explained_var\n",
    "            \n",
    "            \n",
    "        else:\n",
    "            # if new variable does not decrease MSE, kick it out of the model\n",
    "            good_regessor_indices = copy.deepcopy(previous_good_regressors_indices)\n",
    "        \n",
    "        #add next variable to see if it improves performance\n",
    "        good_regessor_indices.append(start_index+i)\n",
    "        if(df.columns[good_regessor_indices[-1]]!=\"score\"):\n",
    "            print(\"Try these regressors next: {}\".format(df.columns[good_regessor_indices]))\n",
    "\n",
    "        \n",
    "            \n",
    "        i=i+1\n",
    "        \n",
    "    return reg_rmse_list, previous_good_regressors_indices, y_pred_best, best_explainded_variance\n",
    "        \n",
    "        \n",
    "        \n",
    "        \n",
    "        \n"
   ]
  },
  {
   "cell_type": "code",
   "execution_count": 1106,
   "metadata": {},
   "outputs": [
    {
     "name": "stdout",
     "output_type": "stream",
     "text": [
      "RMS difference: -inf\n",
      "\n",
      "Try these regressors next: Index(['required_age', 'price'], dtype='object')\n",
      "RMS difference: 2.504059836819922e-05\n",
      "\n",
      "Try these regressors next: Index(['required_age', 'relase_year'], dtype='object')\n",
      "RMS difference: -0.000443045234678547\n",
      "\n",
      "Try these regressors next: Index(['required_age', 'relase_year', 'Violent'], dtype='object')\n",
      "RMS difference: -2.9607662476529434e-05\n",
      "\n",
      "Try these regressors next: Index(['required_age', 'relase_year', 'Violent', 'Simulation'], dtype='object')\n",
      "RMS difference: -0.00047685026890913196\n",
      "\n",
      "Try these regressors next: Index(['required_age', 'relase_year', 'Violent', 'Simulation', 'Free to Play'], dtype='object')\n",
      "RMS difference: 9.296009634868208e-06\n",
      "\n",
      "Try these regressors next: Index(['required_age', 'relase_year', 'Violent', 'Simulation', 'Early Access'], dtype='object')\n",
      "RMS difference: 6.15331714123174e-06\n",
      "\n",
      "Try these regressors next: Index(['required_age', 'relase_year', 'Violent', 'Simulation', 'Strategy'], dtype='object')\n",
      "RMS difference: -0.00017068761691447706\n",
      "\n",
      "Try these regressors next: Index(['required_age', 'relase_year', 'Violent', 'Simulation', 'Strategy',\n",
      "       'Sexual Content'],\n",
      "      dtype='object')\n",
      "RMS difference: -7.523376729323683e-06\n",
      "\n",
      "Try these regressors next: Index(['required_age', 'relase_year', 'Violent', 'Simulation', 'Strategy',\n",
      "       'Sexual Content', 'Action'],\n",
      "      dtype='object')\n",
      "RMS difference: -0.00016314136198646717\n",
      "\n",
      "Try these regressors next: Index(['required_age', 'relase_year', 'Violent', 'Simulation', 'Strategy',\n",
      "       'Sexual Content', 'Action', 'RPG'],\n",
      "      dtype='object')\n",
      "RMS difference: -4.8018024396905e-05\n",
      "\n",
      "Try these regressors next: Index(['required_age', 'relase_year', 'Violent', 'Simulation', 'Strategy',\n",
      "       'Sexual Content', 'Action', 'RPG', 'Nudity'],\n",
      "      dtype='object')\n",
      "RMS difference: 1.6379052864713e-05\n",
      "\n",
      "Try these regressors next: Index(['required_age', 'relase_year', 'Violent', 'Simulation', 'Strategy',\n",
      "       'Sexual Content', 'Action', 'RPG', 'Education'],\n",
      "      dtype='object')\n",
      "RMS difference: -1.0408340855860843e-16\n",
      "\n",
      "Try these regressors next: Index(['required_age', 'relase_year', 'Violent', 'Simulation', 'Strategy',\n",
      "       'Sexual Content', 'Action', 'RPG', 'Education', 'Racing'],\n",
      "      dtype='object')\n",
      "RMS difference: -6.245640300980848e-06\n",
      "\n",
      "Try these regressors next: Index(['required_age', 'relase_year', 'Violent', 'Simulation', 'Strategy',\n",
      "       'Sexual Content', 'Action', 'RPG', 'Education', 'Racing', 'Indie'],\n",
      "      dtype='object')\n",
      "RMS difference: -0.00020939184013817405\n",
      "\n",
      "Try these regressors next: Index(['required_age', 'relase_year', 'Violent', 'Simulation', 'Strategy',\n",
      "       'Sexual Content', 'Action', 'RPG', 'Education', 'Racing', 'Indie',\n",
      "       'Adventure'],\n",
      "      dtype='object')\n",
      "RMS difference: -1.9547048739795153e-05\n",
      "\n",
      "Try these regressors next: Index(['required_age', 'relase_year', 'Violent', 'Simulation', 'Strategy',\n",
      "       'Sexual Content', 'Action', 'RPG', 'Education', 'Racing', 'Indie',\n",
      "       'Adventure', 'Casual'],\n",
      "      dtype='object')\n",
      "RMS difference: -0.00012823115808476004\n",
      "\n",
      "Try these regressors next: Index(['required_age', 'relase_year', 'Violent', 'Simulation', 'Strategy',\n",
      "       'Sexual Content', 'Action', 'RPG', 'Education', 'Racing', 'Indie',\n",
      "       'Adventure', 'Casual', 'Sports'],\n",
      "      dtype='object')\n",
      "RMS difference: 3.122113127813908e-05\n",
      "\n",
      "Try these regressors next: Index(['required_age', 'relase_year', 'Violent', 'Simulation', 'Strategy',\n",
      "       'Sexual Content', 'Action', 'RPG', 'Education', 'Racing', 'Indie',\n",
      "       'Adventure', 'Casual', 'PvP'],\n",
      "      dtype='object')\n",
      "RMS difference: 3.9704728189149385e-05\n",
      "\n",
      "Try these regressors next: Index(['required_age', 'relase_year', 'Violent', 'Simulation', 'Strategy',\n",
      "       'Sexual Content', 'Action', 'RPG', 'Education', 'Racing', 'Indie',\n",
      "       'Adventure', 'Casual', 'Co-op'],\n",
      "      dtype='object')\n",
      "RMS difference: -1.9008711522095628e-05\n",
      "\n",
      "Try these regressors next: Index(['required_age', 'relase_year', 'Violent', 'Simulation', 'Strategy',\n",
      "       'Sexual Content', 'Action', 'RPG', 'Education', 'Racing', 'Indie',\n",
      "       'Adventure', 'Casual', 'Co-op', 'Remote Play on TV'],\n",
      "      dtype='object')\n",
      "RMS difference: -8.963702639031706e-05\n",
      "\n",
      "Try these regressors next: Index(['required_age', 'relase_year', 'Violent', 'Simulation', 'Strategy',\n",
      "       'Sexual Content', 'Action', 'RPG', 'Education', 'Racing', 'Indie',\n",
      "       'Adventure', 'Casual', 'Co-op', 'Remote Play on TV',\n",
      "       'Full controller support'],\n",
      "      dtype='object')\n",
      "RMS difference: -1.4616590809621993e-05\n",
      "\n",
      "Try these regressors next: Index(['required_age', 'relase_year', 'Violent', 'Simulation', 'Strategy',\n",
      "       'Sexual Content', 'Action', 'RPG', 'Education', 'Racing', 'Indie',\n",
      "       'Adventure', 'Casual', 'Co-op', 'Remote Play on TV',\n",
      "       'Full controller support', 'Includes Source SDK'],\n",
      "      dtype='object')\n",
      "RMS difference: -2.783767936871337e-05\n",
      "\n",
      "Try these regressors next: Index(['required_age', 'relase_year', 'Violent', 'Simulation', 'Strategy',\n",
      "       'Sexual Content', 'Action', 'RPG', 'Education', 'Racing', 'Indie',\n",
      "       'Adventure', 'Casual', 'Co-op', 'Remote Play on TV',\n",
      "       'Full controller support', 'Includes Source SDK',\n",
      "       'Includes level editor'],\n",
      "      dtype='object')\n",
      "RMS difference: -0.00013692966048989633\n",
      "\n",
      "Try these regressors next: Index(['required_age', 'relase_year', 'Violent', 'Simulation', 'Strategy',\n",
      "       'Sexual Content', 'Action', 'RPG', 'Education', 'Racing', 'Indie',\n",
      "       'Adventure', 'Casual', 'Co-op', 'Remote Play on TV',\n",
      "       'Full controller support', 'Includes Source SDK',\n",
      "       'Includes level editor', 'VR Supported'],\n",
      "      dtype='object')\n",
      "RMS difference: -4.47053222058999e-06\n",
      "\n",
      "Try these regressors next: Index(['required_age', 'relase_year', 'Violent', 'Simulation', 'Strategy',\n",
      "       'Sexual Content', 'Action', 'RPG', 'Education', 'Racing', 'Indie',\n",
      "       'Adventure', 'Casual', 'Co-op', 'Remote Play on TV',\n",
      "       'Full controller support', 'Includes Source SDK',\n",
      "       'Includes level editor', 'VR Supported', 'VR Only'],\n",
      "      dtype='object')\n",
      "RMS difference: 2.8172168053581387e-05\n",
      "\n",
      "Try these regressors next: Index(['required_age', 'relase_year', 'Violent', 'Simulation', 'Strategy',\n",
      "       'Sexual Content', 'Action', 'RPG', 'Education', 'Racing', 'Indie',\n",
      "       'Adventure', 'Casual', 'Co-op', 'Remote Play on TV',\n",
      "       'Full controller support', 'Includes Source SDK',\n",
      "       'Includes level editor', 'VR Supported', 'Remote Play on Phone'],\n",
      "      dtype='object')\n",
      "RMS difference: -0.00013372932810643348\n",
      "\n",
      "Try these regressors next: Index(['required_age', 'relase_year', 'Violent', 'Simulation', 'Strategy',\n",
      "       'Sexual Content', 'Action', 'RPG', 'Education', 'Racing', 'Indie',\n",
      "       'Adventure', 'Casual', 'Co-op', 'Remote Play on TV',\n",
      "       'Full controller support', 'Includes Source SDK',\n",
      "       'Includes level editor', 'VR Supported', 'Remote Play on Phone',\n",
      "       'LAN PvP'],\n",
      "      dtype='object')\n",
      "RMS difference: -1.5119108356366484e-05\n",
      "\n",
      "Try these regressors next: Index(['required_age', 'relase_year', 'Violent', 'Simulation', 'Strategy',\n",
      "       'Sexual Content', 'Action', 'RPG', 'Education', 'Racing', 'Indie',\n",
      "       'Adventure', 'Casual', 'Co-op', 'Remote Play on TV',\n",
      "       'Full controller support', 'Includes Source SDK',\n",
      "       'Includes level editor', 'VR Supported', 'Remote Play on Phone',\n",
      "       'LAN PvP', 'Steam Leaderboards'],\n",
      "      dtype='object')\n",
      "RMS difference: -4.9047757139094456e-05\n",
      "\n",
      "Try these regressors next: Index(['required_age', 'relase_year', 'Violent', 'Simulation', 'Strategy',\n",
      "       'Sexual Content', 'Action', 'RPG', 'Education', 'Racing', 'Indie',\n",
      "       'Adventure', 'Casual', 'Co-op', 'Remote Play on TV',\n",
      "       'Full controller support', 'Includes Source SDK',\n",
      "       'Includes level editor', 'VR Supported', 'Remote Play on Phone',\n",
      "       'LAN PvP', 'Steam Leaderboards', 'Cross-Platform Multiplayer'],\n",
      "      dtype='object')\n",
      "RMS difference: -1.409159101353058e-05\n",
      "\n",
      "Try these regressors next: Index(['required_age', 'relase_year', 'Violent', 'Simulation', 'Strategy',\n",
      "       'Sexual Content', 'Action', 'RPG', 'Education', 'Racing', 'Indie',\n",
      "       'Adventure', 'Casual', 'Co-op', 'Remote Play on TV',\n",
      "       'Full controller support', 'Includes Source SDK',\n",
      "       'Includes level editor', 'VR Supported', 'Remote Play on Phone',\n",
      "       'LAN PvP', 'Steam Leaderboards', 'Cross-Platform Multiplayer',\n",
      "       'Single-player'],\n",
      "      dtype='object')\n",
      "RMS difference: -9.523321259773121e-06\n",
      "\n",
      "Try these regressors next: Index(['required_age', 'relase_year', 'Violent', 'Simulation', 'Strategy',\n",
      "       'Sexual Content', 'Action', 'RPG', 'Education', 'Racing', 'Indie',\n",
      "       'Adventure', 'Casual', 'Co-op', 'Remote Play on TV',\n",
      "       'Full controller support', 'Includes Source SDK',\n",
      "       'Includes level editor', 'VR Supported', 'Remote Play on Phone',\n",
      "       'LAN PvP', 'Steam Leaderboards', 'Cross-Platform Multiplayer',\n",
      "       'Single-player', 'Captions available'],\n",
      "      dtype='object')\n",
      "RMS difference: -1.1029809424203951e-06\n",
      "\n",
      "Try these regressors next: Index(['required_age', 'relase_year', 'Violent', 'Simulation', 'Strategy',\n",
      "       'Sexual Content', 'Action', 'RPG', 'Education', 'Racing', 'Indie',\n",
      "       'Adventure', 'Casual', 'Co-op', 'Remote Play on TV',\n",
      "       'Full controller support', 'Includes Source SDK',\n",
      "       'Includes level editor', 'VR Supported', 'Remote Play on Phone',\n",
      "       'LAN PvP', 'Steam Leaderboards', 'Cross-Platform Multiplayer',\n",
      "       'Single-player', 'Captions available', 'Commentary available'],\n",
      "      dtype='object')\n",
      "RMS difference: 2.6926591929071764e-06\n",
      "\n",
      "Try these regressors next: Index(['required_age', 'relase_year', 'Violent', 'Simulation', 'Strategy',\n",
      "       'Sexual Content', 'Action', 'RPG', 'Education', 'Racing', 'Indie',\n",
      "       'Adventure', 'Casual', 'Co-op', 'Remote Play on TV',\n",
      "       'Full controller support', 'Includes Source SDK',\n",
      "       'Includes level editor', 'VR Supported', 'Remote Play on Phone',\n",
      "       'LAN PvP', 'Steam Leaderboards', 'Cross-Platform Multiplayer',\n",
      "       'Single-player', 'Captions available', 'Partial Controller Support'],\n",
      "      dtype='object')\n",
      "RMS difference: 1.1999966311699445e-05\n",
      "\n",
      "Try these regressors next: Index(['required_age', 'relase_year', 'Violent', 'Simulation', 'Strategy',\n",
      "       'Sexual Content', 'Action', 'RPG', 'Education', 'Racing', 'Indie',\n",
      "       'Adventure', 'Casual', 'Co-op', 'Remote Play on TV',\n",
      "       'Full controller support', 'Includes Source SDK',\n",
      "       'Includes level editor', 'VR Supported', 'Remote Play on Phone',\n",
      "       'LAN PvP', 'Steam Leaderboards', 'Cross-Platform Multiplayer',\n",
      "       'Single-player', 'Captions available', 'Steam Turn Notifications'],\n",
      "      dtype='object')\n",
      "RMS difference: -3.095952416713038e-06\n",
      "\n",
      "Try these regressors next: Index(['required_age', 'relase_year', 'Violent', 'Simulation', 'Strategy',\n",
      "       'Sexual Content', 'Action', 'RPG', 'Education', 'Racing', 'Indie',\n",
      "       'Adventure', 'Casual', 'Co-op', 'Remote Play on TV',\n",
      "       'Full controller support', 'Includes Source SDK',\n",
      "       'Includes level editor', 'VR Supported', 'Remote Play on Phone',\n",
      "       'LAN PvP', 'Steam Leaderboards', 'Cross-Platform Multiplayer',\n",
      "       'Single-player', 'Captions available', 'Steam Turn Notifications',\n",
      "       'SteamVR Collectibles'],\n",
      "      dtype='object')\n",
      "RMS difference: 2.45070938827488e-06\n",
      "\n",
      "Try these regressors next: Index(['required_age', 'relase_year', 'Violent', 'Simulation', 'Strategy',\n",
      "       'Sexual Content', 'Action', 'RPG', 'Education', 'Racing', 'Indie',\n",
      "       'Adventure', 'Casual', 'Co-op', 'Remote Play on TV',\n",
      "       'Full controller support', 'Includes Source SDK',\n",
      "       'Includes level editor', 'VR Supported', 'Remote Play on Phone',\n",
      "       'LAN PvP', 'Steam Leaderboards', 'Cross-Platform Multiplayer',\n",
      "       'Single-player', 'Captions available', 'Steam Turn Notifications',\n",
      "       'Downloadable Content'],\n",
      "      dtype='object')\n",
      "RMS difference: -0.00014296382697925186\n",
      "\n",
      "Try these regressors next: Index(['required_age', 'relase_year', 'Violent', 'Simulation', 'Strategy',\n",
      "       'Sexual Content', 'Action', 'RPG', 'Education', 'Racing', 'Indie',\n",
      "       'Adventure', 'Casual', 'Co-op', 'Remote Play on TV',\n",
      "       'Full controller support', 'Includes Source SDK',\n",
      "       'Includes level editor', 'VR Supported', 'Remote Play on Phone',\n",
      "       'LAN PvP', 'Steam Leaderboards', 'Cross-Platform Multiplayer',\n",
      "       'Single-player', 'Captions available', 'Steam Turn Notifications',\n",
      "       'Downloadable Content', 'In-App Purchases'],\n",
      "      dtype='object')\n"
     ]
    },
    {
     "name": "stdout",
     "output_type": "stream",
     "text": [
      "RMS difference: 4.481225590831361e-06\n",
      "\n",
      "Try these regressors next: Index(['required_age', 'relase_year', 'Violent', 'Simulation', 'Strategy',\n",
      "       'Sexual Content', 'Action', 'RPG', 'Education', 'Racing', 'Indie',\n",
      "       'Adventure', 'Casual', 'Co-op', 'Remote Play on TV',\n",
      "       'Full controller support', 'Includes Source SDK',\n",
      "       'Includes level editor', 'VR Supported', 'Remote Play on Phone',\n",
      "       'LAN PvP', 'Steam Leaderboards', 'Cross-Platform Multiplayer',\n",
      "       'Single-player', 'Captions available', 'Steam Turn Notifications',\n",
      "       'Downloadable Content', 'Stats'],\n",
      "      dtype='object')\n",
      "RMS difference: 3.948030598451002e-06\n",
      "\n",
      "Try these regressors next: Index(['required_age', 'relase_year', 'Violent', 'Simulation', 'Strategy',\n",
      "       'Sexual Content', 'Action', 'RPG', 'Education', 'Racing', 'Indie',\n",
      "       'Adventure', 'Casual', 'Co-op', 'Remote Play on TV',\n",
      "       'Full controller support', 'Includes Source SDK',\n",
      "       'Includes level editor', 'VR Supported', 'Remote Play on Phone',\n",
      "       'LAN PvP', 'Steam Leaderboards', 'Cross-Platform Multiplayer',\n",
      "       'Single-player', 'Captions available', 'Steam Turn Notifications',\n",
      "       'Downloadable Content', 'Steam Trading Cards'],\n",
      "      dtype='object')\n",
      "RMS difference: -4.619312183513219e-05\n",
      "\n",
      "Try these regressors next: Index(['required_age', 'relase_year', 'Violent', 'Simulation', 'Strategy',\n",
      "       'Sexual Content', 'Action', 'RPG', 'Education', 'Racing', 'Indie',\n",
      "       'Adventure', 'Casual', 'Co-op', 'Remote Play on TV',\n",
      "       'Full controller support', 'Includes Source SDK',\n",
      "       'Includes level editor', 'VR Supported', 'Remote Play on Phone',\n",
      "       'LAN PvP', 'Steam Leaderboards', 'Cross-Platform Multiplayer',\n",
      "       'Single-player', 'Captions available', 'Steam Turn Notifications',\n",
      "       'Downloadable Content', 'Steam Trading Cards', 'Steam Achievements'],\n",
      "      dtype='object')\n",
      "RMS difference: -1.3927890442268914e-05\n",
      "\n",
      "Try these regressors next: Index(['required_age', 'relase_year', 'Violent', 'Simulation', 'Strategy',\n",
      "       'Sexual Content', 'Action', 'RPG', 'Education', 'Racing', 'Indie',\n",
      "       'Adventure', 'Casual', 'Co-op', 'Remote Play on TV',\n",
      "       'Full controller support', 'Includes Source SDK',\n",
      "       'Includes level editor', 'VR Supported', 'Remote Play on Phone',\n",
      "       'LAN PvP', 'Steam Leaderboards', 'Cross-Platform Multiplayer',\n",
      "       'Single-player', 'Captions available', 'Steam Turn Notifications',\n",
      "       'Downloadable Content', 'Steam Trading Cards', 'Steam Achievements',\n",
      "       'Shared/Split Screen'],\n",
      "      dtype='object')\n",
      "RMS difference: -2.583504775131515e-05\n",
      "\n",
      "Try these regressors next: Index(['required_age', 'relase_year', 'Violent', 'Simulation', 'Strategy',\n",
      "       'Sexual Content', 'Action', 'RPG', 'Education', 'Racing', 'Indie',\n",
      "       'Adventure', 'Casual', 'Co-op', 'Remote Play on TV',\n",
      "       'Full controller support', 'Includes Source SDK',\n",
      "       'Includes level editor', 'VR Supported', 'Remote Play on Phone',\n",
      "       'LAN PvP', 'Steam Leaderboards', 'Cross-Platform Multiplayer',\n",
      "       'Single-player', 'Captions available', 'Steam Turn Notifications',\n",
      "       'Downloadable Content', 'Steam Trading Cards', 'Steam Achievements',\n",
      "       'Shared/Split Screen', 'Valve Anti-Cheat enabled'],\n",
      "      dtype='object')\n",
      "RMS difference: -7.705120577655711e-05\n",
      "\n",
      "Try these regressors next: Index(['required_age', 'relase_year', 'Violent', 'Simulation', 'Strategy',\n",
      "       'Sexual Content', 'Action', 'RPG', 'Education', 'Racing', 'Indie',\n",
      "       'Adventure', 'Casual', 'Co-op', 'Remote Play on TV',\n",
      "       'Full controller support', 'Includes Source SDK',\n",
      "       'Includes level editor', 'VR Supported', 'Remote Play on Phone',\n",
      "       'LAN PvP', 'Steam Leaderboards', 'Cross-Platform Multiplayer',\n",
      "       'Single-player', 'Captions available', 'Steam Turn Notifications',\n",
      "       'Downloadable Content', 'Steam Trading Cards', 'Steam Achievements',\n",
      "       'Shared/Split Screen', 'Valve Anti-Cheat enabled', 'Steam Workshop'],\n",
      "      dtype='object')\n",
      "RMS difference: -2.487089633839215e-05\n",
      "\n",
      "Try these regressors next: Index(['required_age', 'relase_year', 'Violent', 'Simulation', 'Strategy',\n",
      "       'Sexual Content', 'Action', 'RPG', 'Education', 'Racing', 'Indie',\n",
      "       'Adventure', 'Casual', 'Co-op', 'Remote Play on TV',\n",
      "       'Full controller support', 'Includes Source SDK',\n",
      "       'Includes level editor', 'VR Supported', 'Remote Play on Phone',\n",
      "       'LAN PvP', 'Steam Leaderboards', 'Cross-Platform Multiplayer',\n",
      "       'Single-player', 'Captions available', 'Steam Turn Notifications',\n",
      "       'Downloadable Content', 'Steam Trading Cards', 'Steam Achievements',\n",
      "       'Shared/Split Screen', 'Valve Anti-Cheat enabled', 'Steam Workshop',\n",
      "       'MMO'],\n",
      "      dtype='object')\n",
      "RMS difference: 3.794147061512293e-05\n",
      "\n",
      "Try these regressors next: Index(['required_age', 'relase_year', 'Violent', 'Simulation', 'Strategy',\n",
      "       'Sexual Content', 'Action', 'RPG', 'Education', 'Racing', 'Indie',\n",
      "       'Adventure', 'Casual', 'Co-op', 'Remote Play on TV',\n",
      "       'Full controller support', 'Includes Source SDK',\n",
      "       'Includes level editor', 'VR Supported', 'Remote Play on Phone',\n",
      "       'LAN PvP', 'Steam Leaderboards', 'Cross-Platform Multiplayer',\n",
      "       'Single-player', 'Captions available', 'Steam Turn Notifications',\n",
      "       'Downloadable Content', 'Steam Trading Cards', 'Steam Achievements',\n",
      "       'Shared/Split Screen', 'Valve Anti-Cheat enabled', 'Steam Workshop',\n",
      "       'Steam Cloud'],\n",
      "      dtype='object')\n",
      "RMS difference: -8.819657955993349e-05\n",
      "\n",
      "Try these regressors next: Index(['required_age', 'relase_year', 'Violent', 'Simulation', 'Strategy',\n",
      "       'Sexual Content', 'Action', 'RPG', 'Education', 'Racing', 'Indie',\n",
      "       'Adventure', 'Casual', 'Co-op', 'Remote Play on TV',\n",
      "       'Full controller support', 'Includes Source SDK',\n",
      "       'Includes level editor', 'VR Supported', 'Remote Play on Phone',\n",
      "       'LAN PvP', 'Steam Leaderboards', 'Cross-Platform Multiplayer',\n",
      "       'Single-player', 'Captions available', 'Steam Turn Notifications',\n",
      "       'Downloadable Content', 'Steam Trading Cards', 'Steam Achievements',\n",
      "       'Shared/Split Screen', 'Valve Anti-Cheat enabled', 'Steam Workshop',\n",
      "       'Steam Cloud', 'VR Support'],\n",
      "      dtype='object')\n",
      "RMS difference: 3.1462294856898776e-07\n",
      "\n",
      "Try these regressors next: Index(['required_age', 'relase_year', 'Violent', 'Simulation', 'Strategy',\n",
      "       'Sexual Content', 'Action', 'RPG', 'Education', 'Racing', 'Indie',\n",
      "       'Adventure', 'Casual', 'Co-op', 'Remote Play on TV',\n",
      "       'Full controller support', 'Includes Source SDK',\n",
      "       'Includes level editor', 'VR Supported', 'Remote Play on Phone',\n",
      "       'LAN PvP', 'Steam Leaderboards', 'Cross-Platform Multiplayer',\n",
      "       'Single-player', 'Captions available', 'Steam Turn Notifications',\n",
      "       'Downloadable Content', 'Steam Trading Cards', 'Steam Achievements',\n",
      "       'Shared/Split Screen', 'Valve Anti-Cheat enabled', 'Steam Workshop',\n",
      "       'Steam Cloud', 'LAN Co-op'],\n",
      "      dtype='object')\n",
      "RMS difference: 1.5940142534368734e-05\n",
      "\n",
      "Try these regressors next: Index(['required_age', 'relase_year', 'Violent', 'Simulation', 'Strategy',\n",
      "       'Sexual Content', 'Action', 'RPG', 'Education', 'Racing', 'Indie',\n",
      "       'Adventure', 'Casual', 'Co-op', 'Remote Play on TV',\n",
      "       'Full controller support', 'Includes Source SDK',\n",
      "       'Includes level editor', 'VR Supported', 'Remote Play on Phone',\n",
      "       'LAN PvP', 'Steam Leaderboards', 'Cross-Platform Multiplayer',\n",
      "       'Single-player', 'Captions available', 'Steam Turn Notifications',\n",
      "       'Downloadable Content', 'Steam Trading Cards', 'Steam Achievements',\n",
      "       'Shared/Split Screen', 'Valve Anti-Cheat enabled', 'Steam Workshop',\n",
      "       'Steam Cloud', 'Multi-player'],\n",
      "      dtype='object')\n",
      "RMS difference: -7.39474173441293e-05\n",
      "\n",
      "Try these regressors next: Index(['required_age', 'relase_year', 'Violent', 'Simulation', 'Strategy',\n",
      "       'Sexual Content', 'Action', 'RPG', 'Education', 'Racing', 'Indie',\n",
      "       'Adventure', 'Casual', 'Co-op', 'Remote Play on TV',\n",
      "       'Full controller support', 'Includes Source SDK',\n",
      "       'Includes level editor', 'VR Supported', 'Remote Play on Phone',\n",
      "       'LAN PvP', 'Steam Leaderboards', 'Cross-Platform Multiplayer',\n",
      "       'Single-player', 'Captions available', 'Steam Turn Notifications',\n",
      "       'Downloadable Content', 'Steam Trading Cards', 'Steam Achievements',\n",
      "       'Shared/Split Screen', 'Valve Anti-Cheat enabled', 'Steam Workshop',\n",
      "       'Steam Cloud', 'Multi-player', 'Additional High-Quality Audio'],\n",
      "      dtype='object')\n",
      "RMS difference: -8.139828768575358e-06\n",
      "\n",
      "Try these regressors next: Index(['required_age', 'relase_year', 'Violent', 'Simulation', 'Strategy',\n",
      "       'Sexual Content', 'Action', 'RPG', 'Education', 'Racing', 'Indie',\n",
      "       'Adventure', 'Casual', 'Co-op', 'Remote Play on TV',\n",
      "       'Full controller support', 'Includes Source SDK',\n",
      "       'Includes level editor', 'VR Supported', 'Remote Play on Phone',\n",
      "       'LAN PvP', 'Steam Leaderboards', 'Cross-Platform Multiplayer',\n",
      "       'Single-player', 'Captions available', 'Steam Turn Notifications',\n",
      "       'Downloadable Content', 'Steam Trading Cards', 'Steam Achievements',\n",
      "       'Shared/Split Screen', 'Valve Anti-Cheat enabled', 'Steam Workshop',\n",
      "       'Steam Cloud', 'Multi-player', 'Additional High-Quality Audio',\n",
      "       'windows'],\n",
      "      dtype='object')\n",
      "RMS difference: -1.2000188967242753e-06\n",
      "\n",
      "Try these regressors next: Index(['required_age', 'relase_year', 'Violent', 'Simulation', 'Strategy',\n",
      "       'Sexual Content', 'Action', 'RPG', 'Education', 'Racing', 'Indie',\n",
      "       'Adventure', 'Casual', 'Co-op', 'Remote Play on TV',\n",
      "       'Full controller support', 'Includes Source SDK',\n",
      "       'Includes level editor', 'VR Supported', 'Remote Play on Phone',\n",
      "       'LAN PvP', 'Steam Leaderboards', 'Cross-Platform Multiplayer',\n",
      "       'Single-player', 'Captions available', 'Steam Turn Notifications',\n",
      "       'Downloadable Content', 'Steam Trading Cards', 'Steam Achievements',\n",
      "       'Shared/Split Screen', 'Valve Anti-Cheat enabled', 'Steam Workshop',\n",
      "       'Steam Cloud', 'Multi-player', 'Additional High-Quality Audio',\n",
      "       'windows', 'mac'],\n",
      "      dtype='object')\n",
      "RMS difference: -0.00014886909846585986\n",
      "\n",
      "Try these regressors next: Index(['required_age', 'relase_year', 'Violent', 'Simulation', 'Strategy',\n",
      "       'Sexual Content', 'Action', 'RPG', 'Education', 'Racing', 'Indie',\n",
      "       'Adventure', 'Casual', 'Co-op', 'Remote Play on TV',\n",
      "       'Full controller support', 'Includes Source SDK',\n",
      "       'Includes level editor', 'VR Supported', 'Remote Play on Phone',\n",
      "       'LAN PvP', 'Steam Leaderboards', 'Cross-Platform Multiplayer',\n",
      "       'Single-player', 'Captions available', 'Steam Turn Notifications',\n",
      "       'Downloadable Content', 'Steam Trading Cards', 'Steam Achievements',\n",
      "       'Shared/Split Screen', 'Valve Anti-Cheat enabled', 'Steam Workshop',\n",
      "       'Steam Cloud', 'Multi-player', 'Additional High-Quality Audio',\n",
      "       'windows', 'mac', 'linux'],\n",
      "      dtype='object')\n"
     ]
    },
    {
     "name": "stdout",
     "output_type": "stream",
     "text": [
      "RMS difference: -2.6547589813560868e-05\n",
      "\n"
     ]
    }
   ],
   "source": [
    "best_fit_indices_min = find_best_fit_minimize(df)"
   ]
  },
  {
   "cell_type": "code",
   "execution_count": 1115,
   "metadata": {},
   "outputs": [],
   "source": [
    "#best_fit_indices_min"
   ]
  },
  {
   "cell_type": "code",
   "execution_count": 1116,
   "metadata": {},
   "outputs": [
    {
     "data": {
      "text/plain": [
       "Index(['required_age', 'relase_year', 'Violent', 'Simulation', 'Strategy',\n",
       "       'Sexual Content', 'Action', 'RPG', 'Education', 'Racing', 'Indie',\n",
       "       'Adventure', 'Casual', 'Co-op', 'Remote Play on TV',\n",
       "       'Full controller support', 'Includes Source SDK',\n",
       "       'Includes level editor', 'VR Supported', 'Remote Play on Phone',\n",
       "       'LAN PvP', 'Steam Leaderboards', 'Cross-Platform Multiplayer',\n",
       "       'Single-player', 'Captions available', 'Steam Turn Notifications',\n",
       "       'Downloadable Content', 'Steam Trading Cards', 'Steam Achievements',\n",
       "       'Shared/Split Screen', 'Valve Anti-Cheat enabled', 'Steam Workshop',\n",
       "       'Steam Cloud', 'Multi-player', 'Additional High-Quality Audio',\n",
       "       'windows', 'mac', 'linux'],\n",
       "      dtype='object')"
      ]
     },
     "execution_count": 1116,
     "metadata": {},
     "output_type": "execute_result"
    }
   ],
   "source": [
    "df_norm.columns[best_fit_indices_min[1]]"
   ]
  },
  {
   "cell_type": "code",
   "execution_count": 1117,
   "metadata": {},
   "outputs": [],
   "source": [
    "X_train, X_test, y_train, y_test = train_test_split(df[df.columns[best_fit_indices_min[1]]],df_norm[\"score\"] , test_size=0.3, random_state=42)\n",
    "reg = LinearRegression().fit(X_train, y_train)\n",
    "y_pred = reg.predict(X_test)\n",
    "explained_var = explained_variance_score(y_test, y_pred)\n",
    "MSE = mean_squared_error(y_pred, y_test)"
   ]
  },
  {
   "cell_type": "code",
   "execution_count": 1118,
   "metadata": {},
   "outputs": [
    {
     "data": {
      "text/plain": [
       "(0.12145881955920401, 0.02117602760016053)"
      ]
     },
     "execution_count": 1118,
     "metadata": {},
     "output_type": "execute_result"
    }
   ],
   "source": [
    "explained_var, MSE"
   ]
  },
  {
   "cell_type": "markdown",
   "metadata": {},
   "source": [
    "### plot distribution of residuals"
   ]
  },
  {
   "cell_type": "code",
   "execution_count": 1119,
   "metadata": {},
   "outputs": [
    {
     "data": {
      "text/plain": [
       "[<matplotlib.lines.Line2D at 0x23a39ab9250>]"
      ]
     },
     "execution_count": 1119,
     "metadata": {},
     "output_type": "execute_result"
    },
    {
     "data": {
      "image/png": "[encoded data removed]",
      "text/plain": [
       "<Figure size 432x288 with 1 Axes>"
      ]
     },
     "metadata": {
      "needs_background": "light"
     },
     "output_type": "display_data"
    }
   ],
   "source": [
    "plt.plot(y_pred, (y_pred - y_test) ,\".\")"
   ]
  },
  {
   "cell_type": "code",
   "execution_count": 1120,
   "metadata": {},
   "outputs": [],
   "source": [
    "# is this distribution normal-distributed?"
   ]
  },
  {
   "cell_type": "markdown",
   "metadata": {},
   "source": [
    "### plot predicted values against actual values"
   ]
  },
  {
   "cell_type": "code",
   "execution_count": 1121,
   "metadata": {},
   "outputs": [
    {
     "data": {
      "text/plain": [
       "[<matplotlib.lines.Line2D at 0x23a54fab820>]"
      ]
     },
     "execution_count": 1121,
     "metadata": {},
     "output_type": "execute_result"
    },
    {
     "data": {
      "image/png": "[encoded data removed]",
      "text/plain": [
       "<Figure size 432x288 with 1 Axes>"
      ]
     },
     "metadata": {
      "needs_background": "light"
     },
     "output_type": "display_data"
    }
   ],
   "source": [
    "plt.plot(y_pred, y_test ,\".\")"
   ]
  },
  {
   "cell_type": "markdown",
   "metadata": {},
   "source": [
    "#### compare to prediction of values that model was trained on"
   ]
  },
  {
   "cell_type": "code",
   "execution_count": 1122,
   "metadata": {},
   "outputs": [],
   "source": [
    "y_pred_train = reg.predict(X_train)"
   ]
  },
  {
   "cell_type": "code",
   "execution_count": 1123,
   "metadata": {},
   "outputs": [
    {
     "data": {
      "text/plain": [
       "[<matplotlib.lines.Line2D at 0x23a5b090760>]"
      ]
     },
     "execution_count": 1123,
     "metadata": {},
     "output_type": "execute_result"
    },
    {
     "data": {
      "image/png": "[encoded data removed]",
      "text/plain": [
       "<Figure size 432x288 with 1 Axes>"
      ]
     },
     "metadata": {
      "needs_background": "light"
     },
     "output_type": "display_data"
    }
   ],
   "source": [
    "plt.plot(y_pred_train, y_pred_train - y_train ,\".\")"
   ]
  },
  {
   "cell_type": "code",
   "execution_count": 1124,
   "metadata": {},
   "outputs": [
    {
     "data": {
      "text/plain": [
       "[<matplotlib.lines.Line2D at 0x23a11b60070>]"
      ]
     },
     "execution_count": 1124,
     "metadata": {},
     "output_type": "execute_result"
    },
    {
     "data": {
      "image/png": "[encoded data removed]",
      "text/plain": [
       "<Figure size 432x288 with 1 Axes>"
      ]
     },
     "metadata": {
      "needs_background": "light"
     },
     "output_type": "display_data"
    }
   ],
   "source": [
    "plt.plot(y_pred_train, y_train ,\".\")"
   ]
  },
  {
   "cell_type": "markdown",
   "metadata": {},
   "source": [
    "Model overall seems to make better prediction for higher scores, which is unsurprising, as score histograms shows that most score are between 0.7-1.0 -> model is trained on a lot of data with scores in that interval, therefore makes better predictions for data with scores in that interval??"
   ]
  },
  {
   "cell_type": "markdown",
   "metadata": {},
   "source": [
    "## greedy approach"
   ]
  },
  {
   "cell_type": "code",
   "execution_count": null,
   "metadata": {},
   "outputs": [],
   "source": []
  },
  {
   "cell_type": "code",
   "execution_count": 1087,
   "metadata": {},
   "outputs": [],
   "source": [
    "\"\"\"def best_fit_indices_greedy(df, IVs=df.columns[0:-1]):\n",
    "    # function greedily adds variable which yield best improvement of explained variance\n",
    "    # stops when adding any unused variable only deteriorates explained variance\n",
    "    unused_IVs = IVs\n",
    "    good_IVs =[]\n",
    "    improvement_possible=True\n",
    "    best_explainded_var = 0\n",
    "    while(improvement_possible==True):\n",
    "        best_improvement_var = \"\"\n",
    "        temp_best_explained_variance = np.NINF\n",
    "        for var in unused_IVs:\n",
    "            trans= PowerTransformer()\n",
    "            reg = LinearRegression()\n",
    "            regression = TransformedTargetRegressor(regressor = reg, transformer = trans)\n",
    "            X_train, X_test, y_train, y_test = train_test_split(df[np.union1d(good_IVs,var)],df[\"score\"] , test_size=0.3, random_state=42)\n",
    "            regression.fit(X_train, y_train)\n",
    "            y_pred = regression.predict(X_test)\n",
    "            new_explained_var = explained_variance_score(y_test, y_pred)\n",
    "            #print(\"explained_var_diff: {} for variable: {}\".format(temp_best_explained_variance - new_explained_var, var))\n",
    "            \n",
    "            \n",
    "            #if variable improves explained variances save improvement that adding this variable would bring\n",
    "            if new_explained_var > temp_best_explained_variance:\n",
    "                    #print(\"momentarily best variable to add: {}\".format(var))\n",
    "                    temp_best_explained_variance = new_explained_var\n",
    "                    best_improvement_var = var\n",
    "                    \n",
    "            else:\n",
    "                pass\n",
    "        #print(temp_best_explained_variance)\n",
    "        if  temp_best_explained_variance > best_explainded_var:\n",
    "            good_IVs.append(best_improvement_var)\n",
    "            #print(good_IVs)\n",
    "            #print(\"variable list after for-loop: {}\".format(good_IVs))\n",
    "            best_explained_var = temp_best_explained_variance\n",
    "            del_idx = np.where(unused_IVs==best_improvement_var)[0]\n",
    "            unused_IVs = np.delete(unused_IVs, del_idx)\n",
    "            \n",
    "            \n",
    "        # if no further improvement possible, quit function  \n",
    "        else:\n",
    "            improvement_possible=False\n",
    "    \n",
    "    return good_IVs\"\"\"\""
   ]
  },
  {
   "cell_type": "code",
   "execution_count": 1095,
   "metadata": {},
   "outputs": [],
   "source": [
    "#good_regressors = best_fit_indices_greedy(df)"
   ]
  },
  {
   "cell_type": "code",
   "execution_count": 1096,
   "metadata": {},
   "outputs": [],
   "source": [
    "#good_regressors"
   ]
  },
  {
   "cell_type": "code",
   "execution_count": 1092,
   "metadata": {},
   "outputs": [],
   "source": [
    "## fig regression with new best regressors"
   ]
  },
  {
   "cell_type": "code",
   "execution_count": 1093,
   "metadata": {},
   "outputs": [],
   "source": [
    "#trans= PowerTransformer()\n",
    "#reg = LinearRegression()\n",
    "#regression = TransformedTargetRegressor(regressor = reg, transformer = trans)\n",
    "#X_train, X_test, y_train, y_test = train_test_split(df[good_regressors],df[\"score\"] , test_size=0.3, random_state=42)\n",
    "#reg = regression.fit(X_train, y_train)\n",
    "#y_pred = regression.predict(X_test)\n",
    "#explained_var = explained_variance_score(y_test, y_pred)\n",
    "#MSE = mean_squared_error(y_test,y_pred)"
   ]
  },
  {
   "cell_type": "code",
   "execution_count": 1097,
   "metadata": {},
   "outputs": [],
   "source": [
    "#explained_var, MSE"
   ]
  },
  {
   "cell_type": "markdown",
   "metadata": {},
   "source": [
    "## check which variable has biggest effect on MSE"
   ]
  },
  {
   "cell_type": "markdown",
   "metadata": {},
   "source": [
    "## get error when all variables are included"
   ]
  },
  {
   "cell_type": "code",
   "execution_count": 798,
   "metadata": {},
   "outputs": [
    {
     "data": {
      "text/plain": [
       "Index(['required_age', 'price', 'relase_year', 'Violent', 'Simulation',\n",
       "       'Free to Play', 'Early Access', 'Strategy', 'Sexual Content', 'Action',\n",
       "       'RPG', 'Nudity', 'Education', 'Racing', 'Indie', 'Adventure', 'Casual',\n",
       "       'Sports', 'PvP', 'Co-op', 'Remote Play on TV',\n",
       "       'Full controller support', 'Includes Source SDK',\n",
       "       'Includes level editor', 'VR Supported', 'VR Only',\n",
       "       'Remote Play on Phone', 'LAN PvP', 'Steam Leaderboards',\n",
       "       'Cross-Platform Multiplayer', 'Single-player', 'Captions available',\n",
       "       'Commentary available', 'Partial Controller Support',\n",
       "       'Steam Turn Notifications', 'SteamVR Collectibles',\n",
       "       'Downloadable Content', 'In-App Purchases', 'Stats',\n",
       "       'Steam Trading Cards', 'Steam Achievements', 'Shared/Split Screen',\n",
       "       'Valve Anti-Cheat enabled', 'Steam Workshop', 'MMO', 'Steam Cloud',\n",
       "       'VR Support', 'LAN Co-op', 'Multi-player',\n",
       "       'Additional High-Quality Audio', 'windows', 'mac', 'linux', 'score'],\n",
       "      dtype='object')"
      ]
     },
     "execution_count": 798,
     "metadata": {},
     "output_type": "execute_result"
    }
   ],
   "source": [
    "df.columns"
   ]
  },
  {
   "cell_type": "code",
   "execution_count": 1125,
   "metadata": {},
   "outputs": [],
   "source": [
    "trans= PowerTransformer()\n",
    "reg = LinearRegression()\n",
    "regression = TransformedTargetRegressor(regressor = reg, transformer = trans)\n",
    "X_train, X_test, y_train, y_test = train_test_split(df.iloc[:,0:-1],df[\"score\"] , test_size=0.3, random_state=42)\n",
    "reg = LinearRegression().fit(X_train, y_train)\n",
    "y_pred = reg.predict(X_test)\n",
    "reg_rmse_full = mean_squared_error(y_pred, y_test)\n",
    "explained_var_full = explained_variance_score(y_test, y_pred)"
   ]
  },
  {
   "cell_type": "code",
   "execution_count": 1126,
   "metadata": {},
   "outputs": [
    {
     "data": {
      "text/plain": [
       "(0.02117602760016053, 0.11312735305915822)"
      ]
     },
     "execution_count": 1126,
     "metadata": {},
     "output_type": "execute_result"
    }
   ],
   "source": [
    "MSE, explained_var_full"
   ]
  },
  {
   "cell_type": "markdown",
   "metadata": {},
   "source": [
    "### get all possible combinations where one variable is missing"
   ]
  },
  {
   "cell_type": "code",
   "execution_count": 1127,
   "metadata": {},
   "outputs": [],
   "source": [
    "column_indices = list(range(0,len(df_norm.columns)-1))"
   ]
  },
  {
   "cell_type": "code",
   "execution_count": 1128,
   "metadata": {},
   "outputs": [],
   "source": [
    "#df.columns[column_indices]"
   ]
  },
  {
   "cell_type": "code",
   "execution_count": 1129,
   "metadata": {},
   "outputs": [],
   "source": [
    "H = np.zeros((len(column_indices),len(column_indices)-1))"
   ]
  },
  {
   "cell_type": "code",
   "execution_count": 1130,
   "metadata": {},
   "outputs": [
    {
     "data": {
      "text/plain": [
       "(53, 52)"
      ]
     },
     "execution_count": 1130,
     "metadata": {},
     "output_type": "execute_result"
    }
   ],
   "source": [
    "H.shape"
   ]
  },
  {
   "cell_type": "code",
   "execution_count": 1131,
   "metadata": {},
   "outputs": [],
   "source": [
    "#column_indices"
   ]
  },
  {
   "cell_type": "code",
   "execution_count": 1132,
   "metadata": {},
   "outputs": [],
   "source": [
    "H[:] = np.array(range(0,len(df.columns)-1)).reshape(-1,1)"
   ]
  },
  {
   "cell_type": "code",
   "execution_count": 1133,
   "metadata": {},
   "outputs": [],
   "source": [
    "H = H.T"
   ]
  },
  {
   "cell_type": "code",
   "execution_count": 1134,
   "metadata": {},
   "outputs": [],
   "source": [
    "# create array of indices where always one variable is missing:\n",
    "H = np.sort(H.reshape(len(column_indices),len(column_indices)-1))"
   ]
  },
  {
   "cell_type": "code",
   "execution_count": 1135,
   "metadata": {},
   "outputs": [],
   "source": [
    "#df.columns[18:]"
   ]
  },
  {
   "cell_type": "code",
   "execution_count": 1136,
   "metadata": {},
   "outputs": [],
   "source": [
    "#for j in H:\n",
    "#    print(j)"
   ]
  },
  {
   "cell_type": "markdown",
   "metadata": {},
   "source": [
    "### perform regression for all combinations, find out for which variable the difference in MSE is biggest compared to regression with all variables included"
   ]
  },
  {
   "cell_type": "markdown",
   "metadata": {},
   "source": [
    "### correlation plot is better method? check 5 variables of biggest influences"
   ]
  },
  {
   "cell_type": "code",
   "execution_count": 1137,
   "metadata": {},
   "outputs": [],
   "source": [
    "Diff = np.ones(H.shape[0])\n",
    "Diff_r2 = np.ones(H.shape[0])"
   ]
  },
  {
   "cell_type": "code",
   "execution_count": 1139,
   "metadata": {},
   "outputs": [],
   "source": [
    "max_differece = np.NINF\n",
    "max_idx =0\n",
    "min_difference = np.Inf\n",
    "min_idx = 0\n",
    "#Top5_absolute = np.zeros(5)\n",
    "for idx, indices in enumerate(H):\n",
    "    #print(np.setdiff1d(column_indices, H[idx][-1::-1]))\n",
    "    #print(np.setdiff1d(column_indices, indices))\n",
    "    # do linear regression\n",
    "    #print(indices)\n",
    "    trans= PowerTransformer()\n",
    "    reg = LinearRegression()\n",
    "    regression = TransformedTargetRegressor(regressor = reg, transformer = trans)\n",
    "    X_train, X_test, y_train, y_test = train_test_split(df.iloc[:,indices],df[\"score\"] , test_size=0.3, random_state=42)\n",
    "    regression.fit(X_train, y_train)\n",
    "    y_pred = regression.predict(X_test)\n",
    "    reg_rmse = mean_squared_error(y_test, y_pred)\n",
    "    #r2 = r2_score(y_test, y_pred)\n",
    "    var_idx = np.setdiff1d(column_indices, indices)[0]\n",
    "    #print(var_idx)\n",
    "    #print(\"MSE: {}, name of missing variable: {}\".format(reg_rmse, df.columns[var_idx]))\n",
    "    #print(r2)\n",
    "    \n",
    "    # caclculate biggest difference in MSE of one missing variables compared to model with all variables.\n",
    "    \n",
    "    # calculate error of model with all variables - model with one missing variable\n",
    "    Diff[idx] = reg_rmse_full- reg_rmse\n",
    "    #Diff_r2[idx] = r2_full - r2\n",
    "    \n",
    "    #if error is positive, full model is worse than model with one variable removed.\n",
    "    if Diff[idx] > max_differece:\n",
    "        max_differece=Diff[idx]\n",
    "        max_idx = var_idx\n",
    "       \n",
    "    \n",
    "    # if error is negative, model with one variable removed is worse compared to full model\n",
    "    if Diff[idx] < min_difference:\n",
    "        min_difference=Diff[idx]\n",
    "        min_idx = var_idx\n",
    "        \n",
    "    #for j in range(len(Top5_absolute)):\n",
    "    #    if np.abs(Diff[idx])>Top5_absolute[j]:\n",
    "            \n",
    "    \n",
    "    \n"
   ]
  },
  {
   "cell_type": "code",
   "execution_count": 1140,
   "metadata": {},
   "outputs": [
    {
     "data": {
      "text/plain": [
       "-0.0007715293825192905"
      ]
     },
     "execution_count": 1140,
     "metadata": {},
     "output_type": "execute_result"
    }
   ],
   "source": [
    "max_differece"
   ]
  },
  {
   "cell_type": "code",
   "execution_count": 1141,
   "metadata": {},
   "outputs": [
    {
     "data": {
      "text/plain": [
       "-0.001296151515611025"
      ]
     },
     "execution_count": 1141,
     "metadata": {},
     "output_type": "execute_result"
    }
   ],
   "source": [
    "min_difference"
   ]
  },
  {
   "cell_type": "code",
   "execution_count": 1142,
   "metadata": {},
   "outputs": [],
   "source": [
    "# max difference for Casual as price is already included?"
   ]
  },
  {
   "cell_type": "code",
   "execution_count": 1143,
   "metadata": {},
   "outputs": [],
   "source": [
    "# Lan Co-op worst variable for prediction?"
   ]
  },
  {
   "cell_type": "code",
   "execution_count": 1144,
   "metadata": {},
   "outputs": [
    {
     "data": {
      "text/plain": [
       "'MMO'"
      ]
     },
     "execution_count": 1144,
     "metadata": {},
     "output_type": "execute_result"
    }
   ],
   "source": [
    "df.columns[max_idx]"
   ]
  },
  {
   "cell_type": "code",
   "execution_count": 1145,
   "metadata": {},
   "outputs": [],
   "source": [
    "#release_year best_variable for prediction"
   ]
  },
  {
   "cell_type": "code",
   "execution_count": 1146,
   "metadata": {},
   "outputs": [
    {
     "data": {
      "text/plain": [
       "'relase_year'"
      ]
     },
     "execution_count": 1146,
     "metadata": {},
     "output_type": "execute_result"
    }
   ],
   "source": [
    "df.columns[min_idx]"
   ]
  },
  {
   "cell_type": "markdown",
   "metadata": {},
   "source": [
    "## compare histograms conditioned on MMO, Indie and release_year"
   ]
  },
  {
   "cell_type": "markdown",
   "metadata": {},
   "source": []
  },
  {
   "cell_type": "code",
   "execution_count": 229,
   "metadata": {},
   "outputs": [],
   "source": [
    "#df.loc[df['Valve Anti-Cheat enabled'] == 1][\"score\"]"
   ]
  },
  {
   "cell_type": "code",
   "execution_count": 833,
   "metadata": {},
   "outputs": [
    {
     "data": {
      "text/plain": [
       "(array([2.04185809e-03, 2.04185809e-03, 3.26697295e-02, 3.67534456e-02,\n",
       "        4.69627361e-02, 9.39254722e-02, 1.49055641e-01, 1.73557938e-01,\n",
       "        2.53190403e-01, 3.04236856e-01, 5.10464523e-01, 6.55436447e-01,\n",
       "        8.90250128e-01, 1.19244513e+00, 1.61919347e+00, 2.20316488e+00,\n",
       "        2.66870852e+00, 3.15262889e+00, 3.63450740e+00, 2.37876468e+00]),\n",
       " array([0.  , 0.05, 0.1 , 0.15, 0.2 , 0.25, 0.3 , 0.35, 0.4 , 0.45, 0.5 ,\n",
       "        0.55, 0.6 , 0.65, 0.7 , 0.75, 0.8 , 0.85, 0.9 , 0.95, 1.  ]),\n",
       " <BarContainer object of 20 artists>)"
      ]
     },
     "execution_count": 833,
     "metadata": {},
     "output_type": "execute_result"
    },
    {
     "data": {
      "image/png": "[encoded data removed]",
      "text/plain": [
       "<Figure size 1152x360 with 3 Axes>"
      ]
     },
     "metadata": {
      "needs_background": "light"
     },
     "output_type": "display_data"
    }
   ],
   "source": [
    "bins = np.linspace(0,1,21)\n",
    "fig, (ax1, ax2, ax3) = plt.subplots(1, 3,figsize=(16, 5))\n",
    "fig.suptitle('MMO', fontsize=16)\n",
    "ax1.hist(df.loc[df['MMO'] == 1][\"score\"],bins)\n",
    "ax2.hist(df.loc[df[\"MMO\"] == 0][\"score\"],bins)\n",
    "ax1.set_title(\"MMO=1\")\n",
    "ax2.set_title(\"MMO=0\")\n",
    "ax3.hist(df.loc[df['MMO'] == 1][\"score\"],bins, density=True, alpha=0.5)\n",
    "ax3.hist(df.loc[df[\"MMO\"] == 0][\"score\"],bins, density=True, alpha=0.5)"
   ]
  },
  {
   "cell_type": "markdown",
   "metadata": {},
   "source": [
    "eyeballing the plot shows already that MMOs are worse rated than non-MMOs. This goes against our prediction that that MMOs are better rated, as playing togehter is supposedly more fun (explanation could be bugs, toxic gamers etc.)"
   ]
  },
  {
   "cell_type": "markdown",
   "metadata": {},
   "source": [
    "confirm with Whitney U-Test:"
   ]
  },
  {
   "cell_type": "code",
   "execution_count": 838,
   "metadata": {},
   "outputs": [
    {
     "data": {
      "text/plain": [
       "MannwhitneyuResult(statistic=1368567.0, pvalue=1.0)"
      ]
     },
     "execution_count": 838,
     "metadata": {},
     "output_type": "execute_result"
    }
   ],
   "source": [
    "stats.mannwhitneyu(df.loc[df[\"MMO\"] == 0][\"score\"], df.loc[df['MMO'] == 1][\"score\"],alternative=\"less\")"
   ]
  },
  {
   "cell_type": "markdown",
   "metadata": {},
   "source": [
    "whitneyu provides evidence that distribution of MMO=1 is NOT higher than distribution of MMO=0."
   ]
  },
  {
   "cell_type": "code",
   "execution_count": 829,
   "metadata": {},
   "outputs": [
    {
     "data": {
      "text/plain": [
       "(array([2.23588597e-03, 2.23588597e-03, 2.90665176e-02, 2.45947457e-02,\n",
       "        3.13024036e-02, 7.82560089e-02, 1.20737842e-01, 1.38624930e-01,\n",
       "        2.28060369e-01, 2.90665176e-01, 4.38233650e-01, 6.19340414e-01,\n",
       "        9.03297932e-01, 1.20290665e+00, 1.62101733e+00, 2.18893236e+00,\n",
       "        2.70542202e+00, 3.21296814e+00, 3.74734489e+00, 2.41475685e+00]),\n",
       " array([0.  , 0.05, 0.1 , 0.15, 0.2 , 0.25, 0.3 , 0.35, 0.4 , 0.45, 0.5 ,\n",
       "        0.55, 0.6 , 0.65, 0.7 , 0.75, 0.8 , 0.85, 0.9 , 0.95, 1.  ]),\n",
       " <BarContainer object of 20 artists>)"
      ]
     },
     "execution_count": 829,
     "metadata": {},
     "output_type": "execute_result"
    },
    {
     "data": {
      "image/png": "[encoded data removed]",
      "text/plain": [
       "<Figure size 1152x360 with 3 Axes>"
      ]
     },
     "metadata": {
      "needs_background": "light"
     },
     "output_type": "display_data"
    }
   ],
   "source": [
    "bins = np.linspace(0,1,21)\n",
    "fig, (ax1, ax2, ax3) = plt.subplots(1, 3,figsize=(16, 5))\n",
    "fig.suptitle('Downloadable Content', fontsize=16)\n",
    "ax1.hist(df.loc[df['Downloadable Content'] == 1][\"score\"],bins)\n",
    "ax2.hist(df.loc[df['Downloadable Content'] == 0][\"score\"],bins)\n",
    "ax1.set_title(\"Downloadable Content=1\")\n",
    "ax2.set_title(\"Downloadable Content=0\")\n",
    "ax3.hist(df.loc[df['Downloadable Content'] == 1][\"score\"],bins, density=True, alpha=0.5)\n",
    "ax3.hist(df.loc[df['Downloadable Content'] == 0][\"score\"],bins, density=True, alpha=0.5)"
   ]
  },
  {
   "cell_type": "code",
   "execution_count": null,
   "metadata": {},
   "outputs": [],
   "source": [
    "#stats.mannwhitneyu(df.loc[df['Downloadable Content'] == 0][\"score\"], df.loc[df['Downloadable Content'] == 1][\"score\"],alternative=\"less\")"
   ]
  },
  {
   "cell_type": "code",
   "execution_count": 839,
   "metadata": {},
   "outputs": [
    {
     "data": {
      "text/plain": [
       "(array([0.00516529, 0.00516529, 0.08780992, 0.06198347, 0.08780992,\n",
       "        0.15495868, 0.20144628, 0.25309917, 0.30475207, 0.4803719 ,\n",
       "        0.73863636, 0.79028926, 1.07438017, 1.24483471, 1.70454545,\n",
       "        2.23140496, 2.74793388, 3.01136364, 3.00619835, 1.80785124]),\n",
       " array([0.  , 0.05, 0.1 , 0.15, 0.2 , 0.25, 0.3 , 0.35, 0.4 , 0.45, 0.5 ,\n",
       "        0.55, 0.6 , 0.65, 0.7 , 0.75, 0.8 , 0.85, 0.9 , 0.95, 1.  ]),\n",
       " <BarContainer object of 20 artists>)"
      ]
     },
     "execution_count": 839,
     "metadata": {},
     "output_type": "execute_result"
    },
    {
     "data": {
      "image/png": "[encoded data removed]",
      "text/plain": [
       "<Figure size 1152x360 with 3 Axes>"
      ]
     },
     "metadata": {
      "needs_background": "light"
     },
     "output_type": "display_data"
    }
   ],
   "source": [
    "bins = np.linspace(0,1,21)\n",
    "fig, (ax1, ax2, ax3) = plt.subplots(1, 3,figsize=(16, 5))\n",
    "fig.suptitle('Downloadable Content', fontsize=16)\n",
    "ax1.hist(df.loc[df['Indie'] == 1][\"score\"],bins)\n",
    "ax2.hist(df.loc[df['Indie'] == 0][\"score\"],bins)\n",
    "ax1.set_title('Indie=1')\n",
    "ax2.set_title('Indie=0')\n",
    "ax3.hist(df.loc[df['Indie'] == 1][\"score\"],bins, density=True, alpha=0.5)\n",
    "ax3.hist(df.loc[df['Indie'] == 0][\"score\"],bins, density=True, alpha=0.5)"
   ]
  },
  {
   "cell_type": "code",
   "execution_count": 840,
   "metadata": {},
   "outputs": [
    {
     "data": {
      "text/plain": [
       "MannwhitneyuResult(statistic=10105239.0, pvalue=3.482767775659734e-36)"
      ]
     },
     "execution_count": 840,
     "metadata": {},
     "output_type": "execute_result"
    }
   ],
   "source": [
    "stats.mannwhitneyu(df.loc[df['Indie'] == 0][\"score\"], df.loc[df['Indie'] == 1][\"score\"], alternative=\"less\")"
   ]
  },
  {
   "cell_type": "markdown",
   "metadata": {},
   "source": [
    "Whitneyu provides evidence that Indie games are better than non-indie games"
   ]
  },
  {
   "cell_type": "code",
   "execution_count": 859,
   "metadata": {},
   "outputs": [],
   "source": [
    "#set(df[\"relase_year\"])"
   ]
  },
  {
   "cell_type": "code",
   "execution_count": 869,
   "metadata": {},
   "outputs": [],
   "source": [
    "A = np.zeros(len(set(df[\"relase_year\"])))\n",
    "for i in range(len(set(df[\"relase_year\"]))):\n",
    "    A[i] = np.mean(df.loc[lambda df: df.relase_year == 1998+i,\"score\"])\n",
    "    "
   ]
  },
  {
   "cell_type": "code",
   "execution_count": 872,
   "metadata": {},
   "outputs": [
    {
     "data": {
      "text/plain": [
       "Text(0.5, 1.0, 'average game-score by release year')"
      ]
     },
     "execution_count": 872,
     "metadata": {},
     "output_type": "execute_result"
    },
    {
     "data": {
      "image/png": "[encoded data removed]",
      "text/plain": [
       "<Figure size 432x288 with 1 Axes>"
      ]
     },
     "metadata": {
      "needs_background": "light"
     },
     "output_type": "display_data"
    }
   ],
   "source": [
    "plt.plot(A,\".\")\n",
    "plt.ylabel(\"Score\")\n",
    "plt.xlabel(\"release year\")\n",
    "plt.xticks([2,7,12,17,22],labels=[\"2000\",\"2005\", \"2010\", \"2015\", \"2020\"])\n",
    "plt.title(\"average game-score by release year\")"
   ]
  },
  {
   "cell_type": "markdown",
   "metadata": {},
   "source": [
    "Dem anschein nach scheinen spiele mal besser (bewertet) gewesen zu sein. Der Plot ist Allerdings mit Vorsicht zu genießen,\n",
    "z.B. für die Jahre 1998,1999 sind nur 1-2 Spiele im Datensatz."
   ]
  },
  {
   "cell_type": "markdown",
   "metadata": {},
   "source": [
    "# try comparing all histograms conditioned on all categorical variables:"
   ]
  },
  {
   "cell_type": "code",
   "execution_count": 825,
   "metadata": {},
   "outputs": [],
   "source": [
    "#for idx in range(1, len(df.columns)-1):\n",
    "#    fig, (ax1, ax2) = plt.subplots(1, 2,figsize=(14, 5))\n",
    "#    fig.suptitle(df.columns[idx], fontsize=16)\n",
    "#    ax1.hist(df.loc[df.iloc[:,idx] == 1][\"score\"],bins)\n",
    "#    ax2.hist(df.loc[df.iloc[:,idx] == 0][\"score\"],bins)\n",
    "#    ax1.set_title(df.columns[idx]+\"=1\")\n",
    "#    ax2.set_title(df.columns[idx]+\"=0\")"
   ]
  },
  {
   "cell_type": "markdown",
   "metadata": {},
   "source": [
    "# standardize data before using it as NN input"
   ]
  },
  {
   "cell_type": "code",
   "execution_count": 1465,
   "metadata": {},
   "outputs": [],
   "source": [
    "df_stand = df.copy(deep=True)"
   ]
  },
  {
   "cell_type": "code",
   "execution_count": 1466,
   "metadata": {},
   "outputs": [],
   "source": [
    "age = df[\"required_age\"]"
   ]
  },
  {
   "cell_type": "code",
   "execution_count": 1467,
   "metadata": {},
   "outputs": [],
   "source": [
    "df_stand[\"required_age\"] = (age-np.mean(age))/np.std(age)"
   ]
  },
  {
   "cell_type": "code",
   "execution_count": null,
   "metadata": {},
   "outputs": [],
   "source": []
  },
  {
   "cell_type": "code",
   "execution_count": 1468,
   "metadata": {},
   "outputs": [],
   "source": [
    "price = np.array(df[\"price\"]).reshape(-1)"
   ]
  },
  {
   "cell_type": "code",
   "execution_count": 1469,
   "metadata": {},
   "outputs": [],
   "source": [
    "df_stand[\"price\"] = (price-np.mean(price))/np.std(price)"
   ]
  },
  {
   "cell_type": "code",
   "execution_count": null,
   "metadata": {},
   "outputs": [],
   "source": []
  },
  {
   "cell_type": "code",
   "execution_count": 1470,
   "metadata": {},
   "outputs": [],
   "source": [
    "year = df[\"relase_year\"]"
   ]
  },
  {
   "cell_type": "code",
   "execution_count": 1471,
   "metadata": {},
   "outputs": [],
   "source": [
    "df_stand[\"relase_year\"] = (year-np.mean(year))/np.std(year)"
   ]
  },
  {
   "cell_type": "code",
   "execution_count": 1472,
   "metadata": {},
   "outputs": [
    {
     "data": {
      "text/plain": [
       "0       0.955032\n",
       "1       0.733668\n",
       "2       0.921053\n",
       "3       0.953191\n",
       "4       0.971429\n",
       "          ...   \n",
       "9995    0.921875\n",
       "9996    0.660407\n",
       "9997    0.677665\n",
       "9998    0.973799\n",
       "9999    0.601449\n",
       "Name: score, Length: 10000, dtype: float64"
      ]
     },
     "execution_count": 1472,
     "metadata": {},
     "output_type": "execute_result"
    }
   ],
   "source": [
    "df_stand[\"score\"]"
   ]
  },
  {
   "cell_type": "code",
   "execution_count": 1400,
   "metadata": {},
   "outputs": [],
   "source": [
    "score = df[\"score\"]"
   ]
  },
  {
   "cell_type": "code",
   "execution_count": 1401,
   "metadata": {},
   "outputs": [],
   "source": [
    "df_stand[\"score\"] = (score-np.mean(score))/np.std(score)"
   ]
  },
  {
   "cell_type": "markdown",
   "metadata": {},
   "source": [
    "# try achieving less error with NN"
   ]
  },
  {
   "cell_type": "code",
   "execution_count": 1473,
   "metadata": {},
   "outputs": [],
   "source": [
    "import torch\n",
    "import torch.nn as nn\n",
    "import torch.nn.functional as F\n",
    "import torch.optim as optim\n",
    "from torch.utils.data import Dataset, DataLoader\n",
    "from torchvision import transforms, utils\n",
    "from skimage import io, transform"
   ]
  },
  {
   "cell_type": "code",
   "execution_count": 1474,
   "metadata": {},
   "outputs": [],
   "source": [
    "import datetime"
   ]
  },
  {
   "cell_type": "code",
   "execution_count": 1475,
   "metadata": {},
   "outputs": [],
   "source": [
    "device = (torch.device('cuda') if torch.cuda.is_available()\n",
    "else torch.device('cpu'))"
   ]
  },
  {
   "cell_type": "code",
   "execution_count": 1476,
   "metadata": {},
   "outputs": [],
   "source": [
    "class SteamData(Dataset):\n",
    "    def __init__(self, df):\n",
    "        super().__init__()\n",
    "        self.df = df\n",
    "        self.data_size = len(self.df)\n",
    "        self.num_variables = len(self.df.columns[0:-1])\n",
    "        self.transform = transform\n",
    "    \n",
    "    def __len__(self):\n",
    "        return len(self.df)\n",
    "    \n",
    "    def __getitem__(self,idx):\n",
    "        IVs = torch.from_numpy(np.array(self.df.iloc[idx,0:-1],dtype=np.double))\n",
    "        target = torch.from_numpy(np.array(self.df.loc[idx,\"score\"], dtype=np.double))\n",
    "        \n",
    "        sample = (IVs,target)\n",
    "        \n",
    "        #if self.transform:\n",
    "        #    sample = self.transform(sample)\n",
    "        return sample"
   ]
  },
  {
   "cell_type": "code",
   "execution_count": 1477,
   "metadata": {},
   "outputs": [],
   "source": [
    "Dataloader_steam = SteamData(df_stand)"
   ]
  },
  {
   "cell_type": "code",
   "execution_count": 1478,
   "metadata": {},
   "outputs": [],
   "source": [
    "BATCHSIZE = 64"
   ]
  },
  {
   "cell_type": "code",
   "execution_count": 1479,
   "metadata": {},
   "outputs": [],
   "source": [
    "generator=torch.Generator().manual_seed(42)"
   ]
  },
  {
   "cell_type": "code",
   "execution_count": 1480,
   "metadata": {},
   "outputs": [],
   "source": [
    "train_size = int(0.7 * len(df_stand))\n",
    "test_size = len(df_stand) - train_size\n",
    "train_dataset, test_dataset = torch.utils.data.random_split(Dataloader_steam, [train_size, test_size], generator =generator)"
   ]
  },
  {
   "cell_type": "code",
   "execution_count": 1481,
   "metadata": {},
   "outputs": [],
   "source": [
    "SteamData_train_loader = torch.utils.data.DataLoader(train_dataset, batch_size=BATCHSIZE,\n",
    "shuffle=True)\n",
    "\n",
    "SteamData_val_loader = torch.utils.data.DataLoader(test_dataset, batch_size=BATCHSIZE,\n",
    "shuffle=False)"
   ]
  },
  {
   "cell_type": "code",
   "execution_count": null,
   "metadata": {},
   "outputs": [],
   "source": []
  },
  {
   "cell_type": "code",
   "execution_count": 1482,
   "metadata": {},
   "outputs": [],
   "source": [
    "#for IVs, score in SteamData_train_loader:\n",
    "#    print(IVs.shape) \n",
    "#    print(score.shape)"
   ]
  },
  {
   "cell_type": "code",
   "execution_count": 1483,
   "metadata": {},
   "outputs": [
    {
     "data": {
      "text/plain": [
       "54"
      ]
     },
     "execution_count": 1483,
     "metadata": {},
     "output_type": "execute_result"
    }
   ],
   "source": [
    "len(df.columns)"
   ]
  },
  {
   "cell_type": "code",
   "execution_count": 1492,
   "metadata": {},
   "outputs": [],
   "source": [
    "class NN(nn.Module):\n",
    "    def __init__(self):\n",
    "        super().__init__()\n",
    "        self.lin1 = nn.Linear(53,128)\n",
    "        self.lin2 = nn.Linear(128,256)\n",
    "        self.lin3 = nn.Linear(256,128)\n",
    "        self.lin4 = nn.Linear(128,1)\n",
    "        \n",
    "    def forward(self,x):\n",
    "        out = F.leaky_relu(self.lin1(x))\n",
    "        out = F.leaky_relu(self.lin2(out))\n",
    "        out = F.leaky_relu(self.lin3(out))\n",
    "        out = F.sigmoid(self.lin4(out))\n",
    "        return out"
   ]
  },
  {
   "cell_type": "code",
   "execution_count": 1493,
   "metadata": {},
   "outputs": [],
   "source": [
    "class NN3(nn.Module):\n",
    "    def __init__(self):\n",
    "        super().__init__()\n",
    "        self.lin1 = nn.Linear(53,128)\n",
    "        self.lin2 = nn.Linear(128,256)\n",
    "        self.lin3 = nn.Linear(256,128)\n",
    "        self.lin4 = nn.Linear(128,1)\n",
    "        \n",
    "    def forward(self,x):\n",
    "        out = F.sigmoid(self.lin1(x))\n",
    "        out = F.sigmoid(self.lin2(out))\n",
    "        out = F.sigmoid(self.lin3(out))\n",
    "        out = F.sigmoid(self.lin4(out))\n",
    "        return out"
   ]
  },
  {
   "cell_type": "code",
   "execution_count": 1494,
   "metadata": {},
   "outputs": [],
   "source": [
    "class NN2(nn.Module):\n",
    "    def __init__(self):\n",
    "        super().__init__()\n",
    "        self.lin1 = nn.Linear(53,256)\n",
    "        self.lin2 = nn.Linear(256,256)\n",
    "        self.lin3 = nn.Linear(256,256)\n",
    "        self.lin4 = nn.Linear(256,1)\n",
    "        \n",
    "    def forward(self,x):\n",
    "        out = F.tanh(self.lin1(x))\n",
    "        out = F.tanh(self.lin2(out))\n",
    "        out = F.tanh(self.lin3(out))\n",
    "        out = F.tanh(self.lin4(out))\n",
    "        return out"
   ]
  },
  {
   "cell_type": "code",
   "execution_count": 1495,
   "metadata": {},
   "outputs": [],
   "source": [
    "class NN3(nn.Module):\n",
    "    def __init__(self):\n",
    "        super().__init__()\n",
    "        self.lin1 = nn.Linear(53,128)\n",
    "        self.lin2 = nn.Linear(128,256)\n",
    "        self.lin3 = nn.Linear(256,128)\n",
    "        self.lin4 = nn.Linear(128,1)\n",
    "        \n",
    "    def forward(self,x):\n",
    "        out = F.tanh(self.lin1(x))\n",
    "        out = F.tanh(self.lin2(out))\n",
    "        out = F.tanh(self.lin3(out))\n",
    "        out = F.tanh(self.lin4(out))\n",
    "        return out"
   ]
  },
  {
   "cell_type": "code",
   "execution_count": 1514,
   "metadata": {},
   "outputs": [],
   "source": [
    "model = NN()"
   ]
  },
  {
   "cell_type": "code",
   "execution_count": 1515,
   "metadata": {},
   "outputs": [],
   "source": [
    "model = model.to(device=device)\n",
    "model = model.double()\n",
    "optimizer = torch.optim.Adam(model.parameters(), lr=1e-4)\n",
    "loss_fn = nn.MSELoss()\n",
    "model.train()\n",
    "n_epochs = 10"
   ]
  },
  {
   "cell_type": "code",
   "execution_count": null,
   "metadata": {},
   "outputs": [],
   "source": []
  },
  {
   "cell_type": "code",
   "execution_count": 1516,
   "metadata": {},
   "outputs": [],
   "source": [
    "def training_loop(n_epochs, optimizer, model, loss_fn, train_loader, val_loader):\n",
    "    loss_train = np.array(n_epochs)\n",
    "    loss_val = np.array(n_epochs)\n",
    "    for epoch in range(1,n_epochs+1):\n",
    "        model.train()\n",
    "        total_loss_train = 0\n",
    "        total_loss_val = 0\n",
    "        for IV, score in train_loader:\n",
    "            IV = IV.to(device=device)\n",
    "            score = score.to(device=device)\n",
    "            #print(score)\n",
    "            outputs = model(IV)\n",
    "            #print(outputs)\n",
    "            #print(outputs.shape)\n",
    "            loss_train = loss_fn(outputs.flatten(), score)\n",
    "            optimizer.zero_grad()\n",
    "            loss_train.backward()\n",
    "            optimizer.step()\n",
    "            \n",
    "            total_loss_train+=loss_train\n",
    "        \n",
    "        for IV, score in val_loader:\n",
    "            model.eval()\n",
    "            with torch.no_grad():\n",
    "                IV = IV.to(device=device)\n",
    "                score = score.to(device=device)\n",
    "                outputs = model(IV)\n",
    "                #print(outputs)\n",
    "                loss_val = loss_fn(outputs.flatten(), score)\n",
    "                \n",
    "                total_loss_val+=loss_val\n",
    "       \n",
    "            \n",
    "            \n",
    "\n",
    "        if epoch ==1 or epoch % 1 == 0:\n",
    "            print(\"{} Epoch {}, Training loss {}, Validation Loss: {}\".format(\n",
    "            datetime.datetime.now(), epoch,\n",
    "            total_loss_train/ len(train_loader), total_loss_val/len(val_loader)))"
   ]
  },
  {
   "cell_type": "code",
   "execution_count": 1517,
   "metadata": {},
   "outputs": [
    {
     "name": "stderr",
     "output_type": "stream",
     "text": [
      "C:\\Users\\Marco\\anaconda3\\lib\\site-packages\\torch\\nn\\functional.py:1806: UserWarning: nn.functional.sigmoid is deprecated. Use torch.sigmoid instead.\n",
      "  warnings.warn(\"nn.functional.sigmoid is deprecated. Use torch.sigmoid instead.\")\n"
     ]
    },
    {
     "name": "stdout",
     "output_type": "stream",
     "text": [
      "2023-01-27 06:01:37.688960 Epoch 1, Training loss 0.05978932319223115, Validation Loss: 0.025384820187149687\n",
      "2023-01-27 06:01:40.260949 Epoch 2, Training loss 0.024097416322801254, Validation Loss: 0.023369599920175198\n",
      "2023-01-27 06:01:42.810087 Epoch 3, Training loss 0.022633318715117638, Validation Loss: 0.02238848067129586\n",
      "2023-01-27 06:01:45.381664 Epoch 4, Training loss 0.02177869335197676, Validation Loss: 0.021725539723579965\n",
      "2023-01-27 06:01:47.923934 Epoch 5, Training loss 0.02102765149790753, Validation Loss: 0.021285036598183683\n",
      "2023-01-27 06:01:50.447975 Epoch 6, Training loss 0.020665837689078953, Validation Loss: 0.02090651532304889\n",
      "2023-01-27 06:01:53.195529 Epoch 7, Training loss 0.020128630328605682, Validation Loss: 0.020716625022663516\n",
      "2023-01-27 06:01:55.793253 Epoch 8, Training loss 0.019875108676867644, Validation Loss: 0.020604924488277793\n",
      "2023-01-27 06:01:58.336266 Epoch 9, Training loss 0.01957882968787667, Validation Loss: 0.020483290204309564\n",
      "2023-01-27 06:02:00.879686 Epoch 10, Training loss 0.019487682338125457, Validation Loss: 0.020381439864972428\n"
     ]
    }
   ],
   "source": [
    "training_loop(n_epochs, optimizer, model, loss_fn, SteamData_train_loader, SteamData_val_loader)"
   ]
  },
  {
   "cell_type": "code",
   "execution_count": 1518,
   "metadata": {},
   "outputs": [
    {
     "data": {
      "text/plain": [
       "54"
      ]
     },
     "execution_count": 1518,
     "metadata": {},
     "output_type": "execute_result"
    }
   ],
   "source": [
    "len(df.columns)"
   ]
  },
  {
   "cell_type": "markdown",
   "metadata": {},
   "source": [
    "## check residual plot for NN"
   ]
  },
  {
   "cell_type": "code",
   "execution_count": 1519,
   "metadata": {},
   "outputs": [],
   "source": [
    "test_samples = np.zeros((len(SteamData_val_loader.dataset),53))"
   ]
  },
  {
   "cell_type": "code",
   "execution_count": 1520,
   "metadata": {},
   "outputs": [],
   "source": [
    "test_samples_score = np.zeros(len(SteamData_val_loader.dataset))"
   ]
  },
  {
   "cell_type": "code",
   "execution_count": 1521,
   "metadata": {},
   "outputs": [],
   "source": [
    "idx=0\n",
    "for IV,score in SteamData_val_loader:\n",
    "    #print(IV.shape[0])\n",
    "    #IV.shape[0]\n",
    "    test_samples[idx:idx+IV.shape[0]] = IV\n",
    "    test_samples_score[idx:idx+IV.shape[0]] = score\n",
    "    idx=idx+IV.shape[0]"
   ]
  },
  {
   "cell_type": "code",
   "execution_count": 1522,
   "metadata": {},
   "outputs": [],
   "source": [
    "test_samples = (torch.from_numpy(test_samples)).to(device)"
   ]
  },
  {
   "cell_type": "code",
   "execution_count": 1523,
   "metadata": {},
   "outputs": [
    {
     "name": "stderr",
     "output_type": "stream",
     "text": [
      "C:\\Users\\Marco\\anaconda3\\lib\\site-packages\\torch\\nn\\functional.py:1806: UserWarning: nn.functional.sigmoid is deprecated. Use torch.sigmoid instead.\n",
      "  warnings.warn(\"nn.functional.sigmoid is deprecated. Use torch.sigmoid instead.\")\n"
     ]
    }
   ],
   "source": [
    "with torch.no_grad():\n",
    "    y_pred_NN = model(test_samples)"
   ]
  },
  {
   "cell_type": "code",
   "execution_count": 1524,
   "metadata": {},
   "outputs": [],
   "source": [
    "#y_pred_NN[:100]"
   ]
  },
  {
   "cell_type": "code",
   "execution_count": 1525,
   "metadata": {},
   "outputs": [
    {
     "data": {
      "text/plain": [
       "array([0.88461538, 0.78181818, 0.79049296, ..., 0.92041522, 0.84759456,\n",
       "       0.83950617])"
      ]
     },
     "execution_count": 1525,
     "metadata": {},
     "output_type": "execute_result"
    }
   ],
   "source": [
    "test_samples_score"
   ]
  },
  {
   "cell_type": "code",
   "execution_count": 1526,
   "metadata": {},
   "outputs": [
    {
     "data": {
      "text/plain": [
       "tensor([[0.8280],\n",
       "        [0.6995],\n",
       "        [0.8052],\n",
       "        ...,\n",
       "        [0.8166],\n",
       "        [0.8327],\n",
       "        [0.8833]], device='cuda:0', dtype=torch.float64)"
      ]
     },
     "execution_count": 1526,
     "metadata": {},
     "output_type": "execute_result"
    }
   ],
   "source": [
    "y_pred_NN "
   ]
  },
  {
   "cell_type": "code",
   "execution_count": 1527,
   "metadata": {},
   "outputs": [
    {
     "data": {
      "text/plain": [
       "0.16282524311324065"
      ]
     },
     "execution_count": 1527,
     "metadata": {},
     "output_type": "execute_result"
    }
   ],
   "source": [
    "explained_variance_score(test_samples_score,y_pred_NN.cpu().numpy())"
   ]
  },
  {
   "cell_type": "code",
   "execution_count": 1528,
   "metadata": {},
   "outputs": [
    {
     "data": {
      "text/plain": [
       "array([0.82800964, 0.69947224, 0.80519074, ..., 0.81661743, 0.83266294,\n",
       "       0.88325235])"
      ]
     },
     "execution_count": 1528,
     "metadata": {},
     "output_type": "execute_result"
    }
   ],
   "source": [
    "y_pred_NN.cpu().numpy().reshape(-1)"
   ]
  },
  {
   "cell_type": "code",
   "execution_count": 1529,
   "metadata": {},
   "outputs": [
    {
     "data": {
      "text/plain": [
       "(3000,)"
      ]
     },
     "execution_count": 1529,
     "metadata": {},
     "output_type": "execute_result"
    }
   ],
   "source": [
    "(y_pred_NN.cpu().numpy().reshape(-1)- test_samples_score).shape"
   ]
  },
  {
   "cell_type": "code",
   "execution_count": 1530,
   "metadata": {},
   "outputs": [
    {
     "data": {
      "text/plain": [
       "[<matplotlib.lines.Line2D at 0x23aa9f5b0d0>]"
      ]
     },
     "execution_count": 1530,
     "metadata": {},
     "output_type": "execute_result"
    },
    {
     "data": {
      "image/png": "[encoded data removed]",
      "text/plain": [
       "<Figure size 432x288 with 1 Axes>"
      ]
     },
     "metadata": {
      "needs_background": "light"
     },
     "output_type": "display_data"
    }
   ],
   "source": [
    "plt.plot(y_pred_NN.cpu().numpy().reshape(-1) ,y_pred_NN.cpu().numpy().reshape(-1)- test_samples_score,\".\")"
   ]
  },
  {
   "cell_type": "markdown",
   "metadata": {},
   "source": [
    "### predicted vs actual values"
   ]
  },
  {
   "cell_type": "code",
   "execution_count": 1531,
   "metadata": {},
   "outputs": [
    {
     "data": {
      "text/plain": [
       "[<matplotlib.lines.Line2D at 0x23a14d1dee0>]"
      ]
     },
     "execution_count": 1531,
     "metadata": {},
     "output_type": "execute_result"
    },
    {
     "data": {
      "image/png": "[encoded data removed]",
      "text/plain": [
       "<Figure size 432x288 with 1 Axes>"
      ]
     },
     "metadata": {
      "needs_background": "light"
     },
     "output_type": "display_data"
    }
   ],
   "source": [
    "plt.plot(y_pred_NN.cpu().numpy(),test_samples_score,\".\")"
   ]
  },
  {
   "cell_type": "code",
   "execution_count": null,
   "metadata": {},
   "outputs": [],
   "source": []
  }
 ],
 "metadata": {
  "kernelspec": {
   "display_name": "Python 3 (ipykernel)",
   "language": "python",
   "name": "python3"
  },
  "language_info": {
   "codemirror_mode": {
    "name": "ipython",
    "version": 3
   },
   "file_extension": ".py",
   "mimetype": "text/x-python",
   "name": "python",
   "nbconvert_exporter": "python",
   "pygments_lexer": "ipython3",
   "version": "3.8.5"
  },
  "toc": {
   "base_numbering": 1,
   "nav_menu": {},
   "number_sections": true,
   "sideBar": false,
   "skip_h1_title": false,
   "title_cell": "Table of Contents",
   "title_sidebar": "Contents",
   "toc_cell": false,
   "toc_position": {},
   "toc_section_display": true,
   "toc_window_display": false
  },
  "varInspector": {
   "cols": {
    "lenName": 16,
    "lenType": 16,
    "lenVar": 40
   },
   "kernels_config": {
    "python": {
     "delete_cmd_postfix": "",
     "delete_cmd_prefix": "del ",
     "library": "var_list.py",
     "varRefreshCmd": "print(var_dic_list())"
    },
    "r": {
     "delete_cmd_postfix": ") ",
     "delete_cmd_prefix": "rm(",
     "library": "var_list.r",
     "varRefreshCmd": "cat(var_dic_list()) "
    }
   },
   "types_to_exclude": [
    "module",
    "function",
    "builtin_function_or_method",
    "instance",
    "_Feature"
   ],
   "window_display": false
  },
  "vscode": {
   "interpreter": {
    "hash": "0e9a04e0a5c422eb7d17f089ac60eed9f8e8db0d5bb014daab27a4ac46018303"
   }
  }
 },
 "nbformat": 4,
 "nbformat_minor": 2
}
