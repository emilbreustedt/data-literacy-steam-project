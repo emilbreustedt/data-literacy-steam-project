{
 "cells": [
  {
   "attachments": {},
   "cell_type": "markdown",
   "metadata": {},
   "source": [
    "This notebook collects all the game ID's from "
   ]
  },
  {
   "cell_type": "code",
   "execution_count": 5,
   "metadata": {},
   "outputs": [],
   "source": [
    "import json\n",
    "from urllib.request import urlopen\n",
    "import pandas as pd\n",
    "import os\n",
    "from tqdm.notebook import tqdm\n",
    "\n",
    "# variables\n",
    "scrape_details = True # if data should be scraped or loaded from csv\n",
    "num_apps = 0 # number of reviews to scrape, if 0 all reviews will be scraped\n",
    "all_games_url = \"http://api.steampowered.com/ISteamApps/GetAppList/v0002/?key=STEAMKEY&format=json\"\n",
    "steam_spy_url = \"https://steamspy.com/api.php?request=appdetails&appid=\"\n"
   ]
  },
  {
   "cell_type": "code",
   "execution_count": 6,
   "metadata": {},
   "outputs": [
    {
     "data": {
      "application/vnd.jupyter.widget-view+json": {
       "model_id": "f5c1b21ff5e0439d85da393415a16f5c",
       "version_major": 2,
       "version_minor": 0
      },
      "text/plain": [
       "  0%|          | 0/200 [00:00<?, ?it/s]"
      ]
     },
     "metadata": {},
     "output_type": "display_data"
    }
   ],
   "source": [
    "# Scraping the data\n",
    "\n",
    "if scrape_details:\n",
    "    # get all app ID\n",
    "    with urlopen(all_games_url) as url:\n",
    "        app_ids = pd.json_normalize(json.load(url)[\"applist\"], record_path =['apps'])[\"appid\"]\n",
    "   \n",
    "    # check if all should be scraped\n",
    "    if num_apps == 0: num_apps = len(app_ids)\n",
    "    df = pd.DataFrame()\n",
    "    \n",
    "    # scrap first num_apps reviews\n",
    "    for appid in tqdm(app_ids.head(num_apps)):\n",
    "        # create specific detail url\n",
    "        with urlopen(steam_spy_url + str(appid)) as url:\n",
    "            # append Details\n",
    "            df = df.append(pd.DataFrame.from_records([json.load(url)], index=\"appid\"))\n",
    "    \n",
    "    df.to_csv('raw_data.csv')\n",
    "\n",
    "else:\n",
    "    df = pd.read_csv('raw_data.csv', index_col=0)"
   ]
  },
  {
   "cell_type": "code",
   "execution_count": null,
   "metadata": {},
   "outputs": [],
   "source": [
    "# Cleaning the data\n",
    "# games that have no reviews\n",
    "df.drop(df[df.num_reviews == 0].index, inplace=True)\n",
    "\n",
    "# games for which information was not fetched\n",
    "df.drop(df[df.num_reviews == \"\"].index, inplace=True)\n",
    "df.drop(df[df.review_score == \"\"].index, inplace=True)\n",
    "df.to_csv('clean_data.csv')\n"
   ]
  }
 ],
 "metadata": {
  "kernelspec": {
   "display_name": "base",
   "language": "python",
   "name": "python3"
  },
  "language_info": {
   "codemirror_mode": {
    "name": "ipython",
    "version": 3
   },
   "file_extension": ".py",
   "mimetype": "text/x-python",
   "name": "python",
   "nbconvert_exporter": "python",
   "pygments_lexer": "ipython3",
   "version": "3.8.8"
  },
  "orig_nbformat": 4,
  "vscode": {
   "interpreter": {
    "hash": "0e9a04e0a5c422eb7d17f089ac60eed9f8e8db0d5bb014daab27a4ac46018303"
   }
  }
 },
 "nbformat": 4,
 "nbformat_minor": 2
}
