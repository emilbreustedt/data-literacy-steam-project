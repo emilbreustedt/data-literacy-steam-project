{
 "cells": [
  {
   "attachments": {},
   "cell_type": "markdown",
   "metadata": {},
   "source": [
    "This notebook collects all the game ID's from "
   ]
  },
  {
   "cell_type": "code",
   "execution_count": 8,
   "metadata": {},
   "outputs": [],
   "source": [
    "import json\n",
    "import pandas as pd\n",
    "\n",
    "all_games = \"http://api.steampowered.com/ISteamApps/GetAppList/v0002/?key=STEAMKEY&format=json\"\n"
   ]
  },
  {
   "cell_type": "code",
   "execution_count": 21,
   "metadata": {},
   "outputs": [
    {
     "data": {
      "text/html": [
       "<div>\n",
       "<style scoped>\n",
       "    .dataframe tbody tr th:only-of-type {\n",
       "        vertical-align: middle;\n",
       "    }\n",
       "\n",
       "    .dataframe tbody tr th {\n",
       "        vertical-align: top;\n",
       "    }\n",
       "\n",
       "    .dataframe thead th {\n",
       "        text-align: right;\n",
       "    }\n",
       "</style>\n",
       "<table border=\"1\" class=\"dataframe\">\n",
       "  <thead>\n",
       "    <tr style=\"text-align: right;\">\n",
       "      <th></th>\n",
       "      <th>appid</th>\n",
       "      <th>name</th>\n",
       "    </tr>\n",
       "  </thead>\n",
       "  <tbody>\n",
       "    <tr>\n",
       "      <th>0</th>\n",
       "      <td>1941401</td>\n",
       "      <td></td>\n",
       "    </tr>\n",
       "    <tr>\n",
       "      <th>1</th>\n",
       "      <td>2241530</td>\n",
       "      <td>Adventure Awaits Demo</td>\n",
       "    </tr>\n",
       "    <tr>\n",
       "      <th>2</th>\n",
       "      <td>2241780</td>\n",
       "      <td>WildArea Demo</td>\n",
       "    </tr>\n",
       "    <tr>\n",
       "      <th>3</th>\n",
       "      <td>2241190</td>\n",
       "      <td>Christmas Luge</td>\n",
       "    </tr>\n",
       "    <tr>\n",
       "      <th>4</th>\n",
       "      <td>2239050</td>\n",
       "      <td>Poly Puzzle: Animals</td>\n",
       "    </tr>\n",
       "    <tr>\n",
       "      <th>...</th>\n",
       "      <td>...</td>\n",
       "      <td>...</td>\n",
       "    </tr>\n",
       "    <tr>\n",
       "      <th>151510</th>\n",
       "      <td>1316840</td>\n",
       "      <td>theHunter: Call of the Wild™ - Silver Ridge Peaks</td>\n",
       "    </tr>\n",
       "    <tr>\n",
       "      <th>151511</th>\n",
       "      <td>793360</td>\n",
       "      <td>Big Crown Showdown</td>\n",
       "    </tr>\n",
       "    <tr>\n",
       "      <th>151512</th>\n",
       "      <td>2151420</td>\n",
       "      <td>Word</td>\n",
       "    </tr>\n",
       "    <tr>\n",
       "      <th>151513</th>\n",
       "      <td>1364390</td>\n",
       "      <td>Animaze</td>\n",
       "    </tr>\n",
       "    <tr>\n",
       "      <th>151514</th>\n",
       "      <td>2212878</td>\n",
       "      <td>Word - Piano Playlist</td>\n",
       "    </tr>\n",
       "  </tbody>\n",
       "</table>\n",
       "<p>151515 rows × 2 columns</p>\n",
       "</div>"
      ],
      "text/plain": [
       "          appid                                               name\n",
       "0       1941401                                                   \n",
       "1       2241530                              Adventure Awaits Demo\n",
       "2       2241780                                      WildArea Demo\n",
       "3       2241190                                     Christmas Luge\n",
       "4       2239050                               Poly Puzzle: Animals\n",
       "...         ...                                                ...\n",
       "151510  1316840  theHunter: Call of the Wild™ - Silver Ridge Peaks\n",
       "151511   793360                                 Big Crown Showdown\n",
       "151512  2151420                                               Word\n",
       "151513  1364390                                            Animaze\n",
       "151514  2212878                              Word - Piano Playlist\n",
       "\n",
       "[151515 rows x 2 columns]"
      ]
     },
     "execution_count": 21,
     "metadata": {},
     "output_type": "execute_result"
    }
   ],
   "source": [
    "with urllib.request.urlopen(all_games) as url:\n",
    "    df = pd.json_normalize(json.load(url)[\"applist\"], record_path =['apps'])\n",
    "\n",
    "\n",
    "\n",
    "df"
   ]
  }
 ],
 "metadata": {
  "kernelspec": {
   "display_name": "base",
   "language": "python",
   "name": "python3"
  },
  "language_info": {
   "codemirror_mode": {
    "name": "ipython",
    "version": 3
   },
   "file_extension": ".py",
   "mimetype": "text/x-python",
   "name": "python",
   "nbconvert_exporter": "python",
   "pygments_lexer": "ipython3",
   "version": "3.8.8"
  },
  "orig_nbformat": 4,
  "vscode": {
   "interpreter": {
    "hash": "0e9a04e0a5c422eb7d17f089ac60eed9f8e8db0d5bb014daab27a4ac46018303"
   }
  }
 },
 "nbformat": 4,
 "nbformat_minor": 2
}
