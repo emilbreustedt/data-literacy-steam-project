{
 "cells": [
  {
   "attachments": {},
   "cell_type": "markdown",
   "metadata": {},
   "source": [
    "This notebook collects all the game ID's from the Steam Web API: https://steamcommunity.com/dev and additional informattion from the third party API Steam Spy: https://steamspy.com/api.php.\n",
    "Then "
   ]
  },
  {
   "cell_type": "code",
   "execution_count": 140,
   "metadata": {},
   "outputs": [],
   "source": [
    "import json\n",
    "from urllib.request import urlopen\n",
    "import pandas as pd\n",
    "import os\n",
    "from tqdm.notebook import tqdm\n",
    "import matplotlib.pyplot as plt\n",
    "import numpy as np\n",
    "\n",
    "# variables\n",
    "scrape_details = True # if data should be scraped or loaded from csv\n",
    "num_apps = 50 # number of reviews to scrape, if 0 all reviews will be scraped\n",
    "all_games_url = \"https://api.steampowered.com/ISteamApps/GetAppList/v2/\"\n",
    "review_url = \"https://store.steampowered.com/appreviews/\"\n",
    "app_details_url = \"https://store.steampowered.com/api/appdetails?appids=\"\n",
    "\n",
    "steam_spy_url = \"https://steamspy.com/api.php?request=appdetails&appid=\" # player number ...\n"
   ]
  },
  {
   "cell_type": "code",
   "execution_count": 141,
   "metadata": {},
   "outputs": [
    {
     "data": {
      "application/vnd.jupyter.widget-view+json": {
       "model_id": "3569d2e3b18b4911b59fdcef4b9bc6f5",
       "version_major": 2,
       "version_minor": 0
      },
      "text/plain": [
       "  0%|          | 0/50 [00:00<?, ?it/s]"
      ]
     },
     "metadata": {},
     "output_type": "display_data"
    }
   ],
   "source": [
    "# Scraping the data\n",
    "\n",
    "if scrape_details:\n",
    "    \n",
    "    # get all app ID\n",
    "    with urlopen(all_games_url) as url:\n",
    "        apps = pd.json_normalize(json.load(url)[\"applist\"], record_path =['apps'])\n",
    "\n",
    "    # check if all should be scraped\n",
    "    if num_apps == 0: num_apps = len(apps)\n",
    "    \n",
    "    df = pd.DataFrame()\n",
    "    \n",
    "    # scrap first num_apps reviews\n",
    "    for appid in tqdm(apps.appid.head(num_apps)):\n",
    "        \n",
    "        # create specific detail url\n",
    "        with urlopen(review_url + str(appid) + \"?json=1\") as url:\n",
    "            \n",
    "            # collect Details\n",
    "            df = pd.concat([df, pd.DataFrame([json.load(url)['query_summary']])])\n",
    "\n",
    "    # concate to previous df and get all complete\n",
    "    df = pd.concat([apps, df.reset_index(drop=True)], axis = 1).head(num_apps)\n",
    "    df.to_csv('raw_data.csv')\n",
    "\n",
    "else:\n",
    "    df = pd.read_csv('raw_data.csv', index_col=0)"
   ]
  },
  {
   "cell_type": "code",
   "execution_count": 142,
   "metadata": {},
   "outputs": [],
   "source": [
    "# Cleaning the data\n",
    "# games that have no reviews\n",
    "df = df.drop(df[df.total_reviews == 0].index)\n",
    "\n",
    "# games for which information was not fetched\n",
    "df.to_csv('clean_data.csv')"
   ]
  },
  {
   "cell_type": "code",
   "execution_count": 143,
   "metadata": {},
   "outputs": [
    {
     "data": {
      "text/plain": [
       "Text(0.5, 1.0, 'Score distribution')"
      ]
     },
     "execution_count": 143,
     "metadata": {},
     "output_type": "execute_result"
    },
    {
     "data": {
      "image/png": "[encoded data removed]",
      "text/plain": [
       "<Figure size 432x288 with 1 Axes>"
      ]
     },
     "metadata": {
      "needs_background": "light"
     },
     "output_type": "display_data"
    }
   ],
   "source": [
    "# plot distribution\n",
    "plt.hist((df.total_positive - df.total_negative)/df.total_reviews)\n",
    "plt.xlabel(\"Score\")\n",
    "plt.ylabel(\"Amount\")\n",
    "plt.title(\"Score distribution\")"
   ]
  }
 ],
 "metadata": {
  "kernelspec": {
   "display_name": "base",
   "language": "python",
   "name": "python3"
  },
  "language_info": {
   "codemirror_mode": {
    "name": "ipython",
    "version": 3
   },
   "file_extension": ".py",
   "mimetype": "text/x-python",
   "name": "python",
   "nbconvert_exporter": "python",
   "pygments_lexer": "ipython3",
   "version": "3.8.8"
  },
  "orig_nbformat": 4,
  "vscode": {
   "interpreter": {
    "hash": "0e9a04e0a5c422eb7d17f089ac60eed9f8e8db0d5bb014daab27a4ac46018303"
   }
  }
 },
 "nbformat": 4,
 "nbformat_minor": 2
}
