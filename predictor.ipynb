{
 "cells": [
  {
   "attachments": {},
   "cell_type": "markdown",
   "metadata": {},
   "source": [
    "This notebook collects all the game ID's from the Steam Web API: https://steamcommunity.com/dev and additional informattion from the Storefront API: https://wiki.teamfortress.com/wiki/User:RJackson/StorefrontAPI.\n",
    "Then "
   ]
  },
  {
   "cell_type": "code",
   "execution_count": 6,
   "metadata": {},
   "outputs": [],
   "source": [
    "import json\n",
    "from urllib.request import urlopen\n",
    "import pandas as pd\n",
    "import os\n",
    "from tqdm.notebook import tqdm\n",
    "import matplotlib.pyplot as plt\n",
    "import numpy as np\n",
    "import time\n",
    "from ast import literal_eval\n",
    "\n",
    "# variables\n",
    "scrape_details = True # if data should be scraped or loaded from csv\n",
    "num_apps = 1000 # number of reviews to scrape, if 0 all reviews will be scraped\n",
    "# 5 minute bucket for 200 Requests, 100000 per day\n",
    "\n",
    "all_games_url = \"https://api.steampowered.com/ISteamApps/GetAppList/v2/\"\n",
    "review_url = \"https://store.steampowered.com/appreviews/\"\n",
    "app_details_url = \"https://store.steampowered.com/api/appdetails?appids=\""
   ]
  },
  {
   "cell_type": "code",
   "execution_count": 7,
   "metadata": {},
   "outputs": [
    {
     "data": {
      "application/vnd.jupyter.widget-view+json": {
       "model_id": "771929c9527a4826bc61e53f6dec4c17",
       "version_major": 2,
       "version_minor": 0
      },
      "text/plain": [
       "  0%|          | 0/1000 [00:00<?, ?it/s]"
      ]
     },
     "metadata": {},
     "output_type": "display_data"
    }
   ],
   "source": [
    "# either scraping the data\n",
    "if scrape_details:\n",
    "        \n",
    "    # get all app ID\n",
    "    with urlopen(all_games_url) as url:\n",
    "        apps = pd.json_normalize(json.load(url)[\"applist\"], record_path =['apps'])\n",
    "    \n",
    "    # pre-clean empty names\n",
    "    apps = apps.drop(apps[apps.name == \"\"].index)\n",
    "\n",
    "    # check if all should be scraped\n",
    "    if num_apps == 0: num_apps = len(apps)\n",
    "    \n",
    "    # if data file not  exists \n",
    "    if not os.path.exists(\"raw_data.csv\"):\n",
    "        \n",
    "        # initialize empty one\n",
    "        df = pd.DataFrame()\n",
    "    \n",
    "    else: \n",
    "        # read out    \n",
    "        df = pd.read_csv('raw_data.csv', index_col=0)\n",
    "        \n",
    "        # select all new apps\n",
    "        apps = apps.drop(apps[apps.appid.isin(df.appid)].index)\n",
    "    \n",
    "    # select random num_apps of all apps\n",
    "    apps = apps.sample(frac=1).head(num_apps)\n",
    "    \n",
    "    reviews = pd.DataFrame()\n",
    "    details = pd.DataFrame()\n",
    "    \n",
    "    # iterate through the appids\n",
    "    for i, appid in enumerate(tqdm(apps.appid)):\n",
    "    \n",
    "        # every 200 API calls wait 5 minutes to reset the bucket\n",
    "        if i%200 == 0 and i != 0:\n",
    "            time.sleep(300)\n",
    "        \n",
    "        # create specific detail url\n",
    "        with urlopen(app_details_url + str(appid)) as url:\n",
    "            \n",
    "            # collect details\n",
    "            app_details = json.load(url)[str(appid)]\n",
    "            \n",
    "            # if api call was successfull\n",
    "            if app_details[\"success\"]:\n",
    "                \n",
    "                # concat to details frame\n",
    "                details = pd.concat([details, pd.DataFrame([app_details[\"data\"]])])\n",
    "                \n",
    "                # create specific review url\n",
    "                with urlopen(review_url + str(appid) + \"?json=1\") as url:\n",
    "                    \n",
    "                    # concat to reviews frame\n",
    "                    reviews = pd.concat([reviews, pd.DataFrame([json.load(url)['query_summary']])])\n",
    "            \n",
    "            else:\n",
    "                # if detail call were not successfull delete row in app df\n",
    "                apps = apps.drop(apps[apps.appid == appid].index) \n",
    "\n",
    "    # concate new data together and append to old data\n",
    "    df = pd.concat([df, \n",
    "                    pd.concat([apps.reset_index(drop=True), \n",
    "                    reviews.reset_index(drop=True),\n",
    "                    details.drop([\"steam_appid\", \"name\"], axis = 1).reset_index(drop=True)],\n",
    "                       axis = 1)], ignore_index = True)\n",
    "\n",
    "    # overwrite csv\n",
    "    df.to_csv('raw_data.csv')\n",
    "\n",
    "# or only reading\n",
    "else:\n",
    "    df = pd.read_csv('raw_data.csv')\n"
   ]
  },
  {
   "cell_type": "code",
   "execution_count": null,
   "metadata": {},
   "outputs": [],
   "source": [
    "# Cleaning the data\n",
    "# games that have no reviews\n",
    "df = df.drop(df[df.total_reviews == 0].index).reset_index(drop=True)\n",
    "# games for which information was not fetched\n",
    "df.to_csv('clean_data.csv')"
   ]
  },
  {
   "cell_type": "code",
   "execution_count": null,
   "metadata": {},
   "outputs": [
    {
     "data": {
      "text/plain": [
       "Text(0.5, 1.0, 'Score distribution')"
      ]
     },
     "execution_count": 4,
     "metadata": {},
     "output_type": "execute_result"
    },
    {
     "data": {
      "image/png": "[encoded data removed]",
      "text/plain": [
       "<Figure size 432x288 with 1 Axes>"
      ]
     },
     "metadata": {
      "needs_background": "light"
     },
     "output_type": "display_data"
    }
   ],
   "source": [
    "# plot distribution\n",
    "plt.hist((df.total_positive - df.total_negative)/df.total_reviews, bins=20)\n",
    "plt.xlabel(\"Score\")\n",
    "plt.ylabel(\"Amount\")\n",
    "plt.title(\"Score distribution\")"
   ]
  },
  {
   "cell_type": "code",
   "execution_count": null,
   "metadata": {},
   "outputs": [
    {
     "name": "stdout",
     "output_type": "stream",
     "text": [
      "-20.69651270250066 804.6393098002613\n"
     ]
    },
    {
     "data": {
      "text/plain": [
       "[<matplotlib.lines.Line2D at 0x7fb0f7b78310>]"
      ]
     },
     "execution_count": 5,
     "metadata": {},
     "output_type": "execute_result"
    },
    {
     "data": {
      "image/png": "[encoded data removed]",
      "text/plain": [
       "<Figure size 432x288 with 1 Axes>"
      ]
     },
     "metadata": {
      "needs_background": "light"
     },
     "output_type": "display_data"
    }
   ],
   "source": [
    "# get prices\n",
    "prices = []\n",
    "\n",
    "# iterate through rows\n",
    "for index, row in df.iterrows():\n",
    "    # if free to play, set price 0\n",
    "    if row.is_free:\n",
    "        prices.append(0)\n",
    "    \n",
    "    else:\n",
    "        # try to read the entry as a dictionary\n",
    "        try:\n",
    "            dict = literal_eval(str(row.price_overview).replace(\"''\",'None'))\n",
    "        \n",
    "        # if not possible delete row\n",
    "        except: \n",
    "            df.drop(index, inplace=True)\n",
    "        \n",
    "        # if possible\n",
    "        else: \n",
    "            \n",
    "            # if currency is not EUR\n",
    "            if dict[\"currency\"] != \"EUR\":\n",
    "                \n",
    "                # delete row\n",
    "                df.drop(index, inplace=True)\n",
    "           \n",
    "            # get price\n",
    "            else:\n",
    "                prices.append(dict[\"initial\"])\n",
    "\n",
    "# calculate score\n",
    "score = (df.total_positive - df.total_negative)/df.total_reviews\n",
    "plt.scatter(score, prices, s = 1)\n",
    "\n",
    "# calculate linear regression\n",
    "m, b = np.polyfit(score, prices, 1)\n",
    "print(m, b)\n",
    "\n",
    "# regression line\n",
    "plt.plot(score, m*score+b, color='red')"
   ]
  }
 ],
 "metadata": {
  "kernelspec": {
   "display_name": "base",
   "language": "python",
   "name": "python3"
  },
  "language_info": {
   "codemirror_mode": {
    "name": "ipython",
    "version": 3
   },
   "file_extension": ".py",
   "mimetype": "text/x-python",
   "name": "python",
   "nbconvert_exporter": "python",
   "pygments_lexer": "ipython3",
   "version": "3.8.8"
  },
  "orig_nbformat": 4,
  "vscode": {
   "interpreter": {
    "hash": "0e9a04e0a5c422eb7d17f089ac60eed9f8e8db0d5bb014daab27a4ac46018303"
   }
  }
 },
 "nbformat": 4,
 "nbformat_minor": 2
}
