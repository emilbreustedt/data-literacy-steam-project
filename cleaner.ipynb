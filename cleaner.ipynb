{
 "cells": [
  {
   "cell_type": "code",
   "execution_count": 374,
   "id": "88462201",
   "metadata": {},
   "outputs": [],
   "source": [
    "import matplotlib.pyplot as plt\n",
    "import numpy as np\n",
    "import pandas as pd\n",
    "import json\n",
    "from ast import literal_eval\n",
    "import matplotlib.pyplot as plt"
   ]
  },
  {
   "cell_type": "markdown",
   "id": "8184ddf0",
   "metadata": {},
   "source": [
    "# functions for pipeline"
   ]
  },
  {
   "cell_type": "code",
   "execution_count": 375,
   "id": "fc74bf5d",
   "metadata": {},
   "outputs": [],
   "source": [
    "def drop_categories(df):\n",
    "    # this function drops all categories of API output which are irrelevant for prediction\n",
    "    \n",
    "    # keep only important columns\n",
    "    df.drop([\"dlc\", \"review_score_desc\", \"legal_notice\", \"recommendations\", \"ext_user_account_notice\", \"reviews\", \"metacritic\", \"demos\", \n",
    "            \"drm_notice\", \"alternate_appid\", \"screenshots\", \"movies\", \"support_info\", \"background\", \"background_raw\", \n",
    "            \"content_descriptors\", \"packages\", \"package_groups\", \"num_reviews\", \"developers\", \"achievements\", \n",
    "            \"detailed_description\", \"about_the_game\", \"supported_languages\", \"header_image\", \"website\", \"categories_clean\", \"genres_clean\"\n",
    "            ], axis = 1, inplace=True)\n",
    "\n",
    "    # remove russian categories \n",
    "    df.drop(['Контроллер (полностью)',  'Remote Play на телевизоре', 'Достижения Steam',  'Для нескольких игроков', 'Статистика', 'Коллекционные карточки', \n",
    "            'Покупки внутри приложения','Remote Play на телефоне', 'Мастерская Steam', 'Имеется античит Valve', 'Remote Play на планшете',\n",
    "            ], axis = 1, inplace=True)\n",
    "\n",
    "    # keep only important categories\n",
    "    df.drop(['Partial Controller Support', 'Captions available', 'Remote Play on Phone',  'Steam Turn Notifications', 'Steam Trading Cards',\n",
    "            'Remote Play on TV', 'Includes Source SDK', 'SteamVR Collectibles', 'Commentary available', 'Includes level editor', \n",
    "            'Tracked Controller Support',  'Steam Workshop', 'Additional High-Quality Audio', 'Steam Cloud', 'Remote Play on Tablet'\n",
    "            ], axis = 1, inplace=True)\n",
    "\n",
    "    # remove russian genres \n",
    "    df.drop(['Экшены','Бесплатно', 'Дизайн и иллюстрация', 'Создание видео', 'Анимация и моделирование'], axis = 1, inplace=True)\n",
    "\n",
    "    # keep only important genres\n",
    "    df.drop(['Design & Illustration', 'Audio Production', 'Photo Editing', 'Video Production', 'Game Development', 'Software Training',\n",
    "                'Web Publishing', 'Animation & Modeling', 'Utilities'], axis = 1, inplace=True)"
   ]
  },
  {
   "cell_type": "code",
   "execution_count": 376,
   "id": "8e446120",
   "metadata": {},
   "outputs": [],
   "source": [
    "def drop_few_review_games(df, num_reviews=50):\n",
    "    # drop games with less than num_reviews reviews. also reset the index after dropping rows\n",
    "    df =  df.loc[lambda df: df['total_reviews'] >= num_reviews, :].reset_index(drop=True)\n",
    "    return df"
   ]
  },
  {
   "cell_type": "code",
   "execution_count": 377,
   "id": "afa0d996",
   "metadata": {},
   "outputs": [],
   "source": [
    "def clean_price(df):\n",
    "    # Clean up \"price_overview\" output of API and add new column \"price\"\n",
    "    # use price without discounts(initial)\n",
    "    \n",
    "    df[\"price\"] = 0\n",
    "    \n",
    "    # iterate through rows\n",
    "    for index, row in df.iterrows():\n",
    "        \n",
    "        # if free to play, keep 0\n",
    "        if not row.is_free:\n",
    "            \n",
    "            # try to read the entry as a dictionary\n",
    "            try:\n",
    "                dict = literal_eval(str(row.price_overview).replace(\"''\",'None'))\n",
    "            \n",
    "            # if not possible delete row\n",
    "            except: \n",
    "                df.drop(index, inplace=True)\n",
    "            \n",
    "            # if possible\n",
    "            else: \n",
    "                \n",
    "                # if currency is not EUR\n",
    "                if dict[\"currency\"] != \"EUR\":\n",
    "                    \n",
    "                    # delete row\n",
    "                    df.drop(index, inplace=True)\n",
    "            \n",
    "                # get price\n",
    "                else:\n",
    "                    df[\"price\"].loc[index] = dict[\"initial\"]\n",
    "                    \n",
    "    df = df.drop('price_overview', axis=1).reset_index(drop=True)\n",
    "    \n",
    "    return df\n"
   ]
  },
  {
   "cell_type": "code",
   "execution_count": 378,
   "id": "149449f3",
   "metadata": {},
   "outputs": [],
   "source": [
    "def drop_high_price_games(df, max_price=200):\n",
    "    # drops few outlier games which have unreasonably high prices. max price is price in euros (price/100)\n",
    "    df=  df.loc[lambda df: df['price']/100 <= max_price, :].reset_index(drop=True)\n",
    "    return df"
   ]
  },
  {
   "cell_type": "code",
   "execution_count": 379,
   "id": "87c36e3a",
   "metadata": {},
   "outputs": [],
   "source": [
    "def clean_col(df, col):\n",
    "    # this function takes the API output of the column genres and cleans it up\n",
    "    #genres are shown in a list in new column \"genres_clean\" in output dataframe\n",
    "    \n",
    "    new_col = col + \"_clean\"\n",
    "    \n",
    "    df[new_col] = \"\"\n",
    "    \n",
    "    # iterate through rows\n",
    "    for index, row in df.iterrows():\n",
    "            \n",
    "        # try to read the entry as a dictionary\n",
    "        try:\n",
    "            dict = literal_eval(str(row[col]).replace(\"''\",'None'))\n",
    "        \n",
    "        # if not possible delete row\n",
    "        except: \n",
    "            df.drop(index, inplace=True)\n",
    "        \n",
    "        # if possible\n",
    "        else:\n",
    "             \n",
    "            genres = []\n",
    "            \n",
    "            for j in range(len(dict)):\n",
    "                genres.append(dict[j][\"description\"])\n",
    "            \n",
    "            df[new_col].loc[index] = np.array(genres)\n",
    "                    \n",
    "    df = df.drop(col, axis=1).reset_index(drop=True)\n",
    "\n",
    "    return df"
   ]
  },
  {
   "cell_type": "code",
   "execution_count": 380,
   "id": "c49bb87a",
   "metadata": {},
   "outputs": [],
   "source": [
    "def get_set(df, col):\n",
    "    # this function iterates through the new column \"genres_clean\" and return the set of unique genres contained in the dataframe\n",
    "    G = []\n",
    "    \n",
    "    for idx,row in df.iterrows():\n",
    "        \n",
    "        for j in range(len(row[col])):\n",
    "            G.append(row[col][j])\n",
    "    \n",
    "    return list(set(G))\n",
    "        "
   ]
  },
  {
   "cell_type": "code",
   "execution_count": 381,
   "id": "790179e1",
   "metadata": {},
   "outputs": [],
   "source": [
    "def one_hot_encode_platforms(df):\n",
    "    \n",
    "    platforms = [\"windows\",\"mac\",\"linux\"]\n",
    "    for platform in platforms:\n",
    "        df[platform] = 0\n",
    "    \n",
    "    for index, row in df.iterrows():\n",
    "        try:\n",
    "            dict = literal_eval(str(row.platforms).replace(\"''\",'None'))\n",
    "        \n",
    "        # if not possible delete row\n",
    "        except: \n",
    "            df.drop(index, inplace=True)\n",
    "            \n",
    "        #dict[]\n",
    "        for platform in platforms:\n",
    "            if dict[platform]:\n",
    "                df[platform].loc[index] = 1\n",
    "    \n",
    "    return df\n",
    "        \n",
    "        "
   ]
  },
  {
   "cell_type": "code",
   "execution_count": 382,
   "id": "e92a5d15",
   "metadata": {},
   "outputs": [],
   "source": [
    "def one_hot_encode(df,G, col):\n",
    "    # this function creates a new column for each unique genre in the dataframe to one-hot-encode it.\n",
    "    for j in G:\n",
    "        df[j] = 0\n",
    "    \n",
    "    for idx,row in df.iterrows():\n",
    "        for category in row[col]:\n",
    "            df[category].loc[idx] = 1\n",
    "    return df"
   ]
  },
  {
   "cell_type": "markdown",
   "id": "dbaaec91",
   "metadata": {},
   "source": [
    "# test pipeline"
   ]
  },
  {
   "cell_type": "code",
   "execution_count": 383,
   "id": "2376f4f0",
   "metadata": {},
   "outputs": [],
   "source": [
    "df = pd.read_csv(\"raw_data.csv\", index_col=0, low_memory=False)"
   ]
  },
  {
   "cell_type": "code",
   "execution_count": 384,
   "id": "f8510978",
   "metadata": {},
   "outputs": [
    {
     "name": "stderr",
     "output_type": "stream",
     "text": [
      "/Users/emilbreustedt/opt/anaconda3/lib/python3.8/site-packages/pandas/core/indexing.py:1637: SettingWithCopyWarning: \n",
      "A value is trying to be set on a copy of a slice from a DataFrame\n",
      "\n",
      "See the caveats in the documentation: https://pandas.pydata.org/pandas-docs/stable/user_guide/indexing.html#returning-a-view-versus-a-copy\n",
      "  self._setitem_single_block(indexer, value, name)\n",
      "/Users/emilbreustedt/opt/anaconda3/lib/python3.8/site-packages/pandas/core/indexing.py:1637: SettingWithCopyWarning: \n",
      "A value is trying to be set on a copy of a slice from a DataFrame\n",
      "\n",
      "See the caveats in the documentation: https://pandas.pydata.org/pandas-docs/stable/user_guide/indexing.html#returning-a-view-versus-a-copy\n",
      "  self._setitem_single_block(indexer, value, name)\n"
     ]
    }
   ],
   "source": [
    "# clean and pre-process data\n",
    "\n",
    "df = drop_few_review_games(df, num_reviews=50)\n",
    "\n",
    "df = clean_price(df)\n",
    "df = drop_high_price_games(df, max_price=200)\n",
    "\n",
    "df = clean_col(df, \"genres\")\n",
    "G = get_set(df, \"genres_clean\")\n",
    "df = one_hot_encode(df,G, \"genres_clean\")\n",
    "\n",
    "df = clean_col(df, \"categories\")\n",
    "G = get_set(df, \"categories_clean\")\n",
    "df = one_hot_encode(df,G, \"categories_clean\")\n",
    "\n",
    "one_hot_encode_platforms(df)\n",
    "\n",
    "drop_categories(df)\n",
    "\n",
    "\n"
   ]
  },
  {
   "cell_type": "code",
   "execution_count": 385,
   "id": "86ee69e6",
   "metadata": {},
   "outputs": [],
   "source": [
    "df.to_csv('clean_data.csv')"
   ]
  },
  {
   "cell_type": "code",
   "execution_count": 386,
   "id": "4eddc1c6",
   "metadata": {},
   "outputs": [
    {
     "data": {
      "text/plain": [
       "Text(0.5, 1.0, 'Score distribution')"
      ]
     },
     "execution_count": 386,
     "metadata": {},
     "output_type": "execute_result"
    },
    {
     "data": {
      "image/png": "[encoded data removed]",
      "text/plain": [
       "<Figure size 432x288 with 1 Axes>"
      ]
     },
     "metadata": {
      "needs_background": "light"
     },
     "output_type": "display_data"
    }
   ],
   "source": [
    "# calculate score\n",
    "score = (df.total_positive/df.total_reviews)\n",
    "\n",
    "# plot distribution\n",
    "plt.hist(score, bins=20)\n",
    "plt.xlabel(\"Score\")\n",
    "plt.ylabel(\"Amount\")\n",
    "plt.title(\"Score distribution\")\n"
   ]
  },
  {
   "cell_type": "code",
   "execution_count": 387,
   "id": "e55a13d2",
   "metadata": {},
   "outputs": [
    {
     "data": {
      "text/plain": [
       "\"{'windows': True, 'mac': False, 'linux': False}\""
      ]
     },
     "execution_count": 387,
     "metadata": {},
     "output_type": "execute_result"
    }
   ],
   "source": [
    "df[\"platforms\"].loc[0]"
   ]
  },
  {
   "cell_type": "code",
   "execution_count": 388,
   "id": "54ff540f",
   "metadata": {},
   "outputs": [
    {
     "data": {
      "text/plain": [
       "True"
      ]
     },
     "execution_count": 388,
     "metadata": {},
     "output_type": "execute_result"
    }
   ],
   "source": [
    "literal_eval(str(df[\"platforms\"].loc[0]).replace(\"''\",'None'))[\"windows\"]"
   ]
  },
  {
   "cell_type": "code",
   "execution_count": 389,
   "id": "df6b0abb",
   "metadata": {},
   "outputs": [],
   "source": [
    "# experimental stuff. Needs discussion before proceeding!"
   ]
  },
  {
   "cell_type": "code",
   "execution_count": 390,
   "id": "311a28f4",
   "metadata": {},
   "outputs": [],
   "source": [
    "# maybe isolate Singeplayer, Multiplayer, Shared/Split Screen Co-op, Co-op, Online Co-op, Online PvP, Shared/Split Screen, MMO"
   ]
  },
  {
   "cell_type": "code",
   "execution_count": 391,
   "id": "9ac06d1d",
   "metadata": {},
   "outputs": [],
   "source": [
    "# how to encode Age?, Add relase date as ordinal data?(if yes, encode how?)"
   ]
  }
 ],
 "metadata": {
  "kernelspec": {
   "display_name": "Python 3 (ipykernel)",
   "language": "python",
   "name": "python3"
  },
  "language_info": {
   "codemirror_mode": {
    "name": "ipython",
    "version": 3
   },
   "file_extension": ".py",
   "mimetype": "text/x-python",
   "name": "python",
   "nbconvert_exporter": "python",
   "pygments_lexer": "ipython3",
   "version": "3.8.8"
  },
  "toc": {
   "base_numbering": 1,
   "nav_menu": {},
   "number_sections": true,
   "sideBar": false,
   "skip_h1_title": false,
   "title_cell": "Table of Contents",
   "title_sidebar": "Contents",
   "toc_cell": false,
   "toc_position": {},
   "toc_section_display": true,
   "toc_window_display": true
  },
  "varInspector": {
   "cols": {
    "lenName": 16,
    "lenType": 16,
    "lenVar": 40
   },
   "kernels_config": {
    "python": {
     "delete_cmd_postfix": "",
     "delete_cmd_prefix": "del ",
     "library": "var_list.py",
     "varRefreshCmd": "print(var_dic_list())"
    },
    "r": {
     "delete_cmd_postfix": ") ",
     "delete_cmd_prefix": "rm(",
     "library": "var_list.r",
     "varRefreshCmd": "cat(var_dic_list()) "
    }
   },
   "types_to_exclude": [
    "module",
    "function",
    "builtin_function_or_method",
    "instance",
    "_Feature"
   ],
   "window_display": false
  },
  "vscode": {
   "interpreter": {
    "hash": "0e9a04e0a5c422eb7d17f089ac60eed9f8e8db0d5bb014daab27a4ac46018303"
   }
  }
 },
 "nbformat": 4,
 "nbformat_minor": 5
}
