{
 "cells": [
  {
   "cell_type": "code",
   "execution_count": null,
   "id": "88462201",
   "metadata": {},
   "outputs": [],
   "source": [
    "import matplotlib.pyplot as plt\n",
    "import numpy as np\n",
    "import pandas as pd\n",
    "import json\n",
    "from ast import literal_eval\n",
    "import matplotlib.pyplot as plt"
   ]
  },
  {
   "cell_type": "markdown",
   "id": "8184ddf0",
   "metadata": {},
   "source": [
    "# Functions for Pipeline"
   ]
  },
  {
   "cell_type": "code",
   "execution_count": null,
   "id": "fc74bf5d",
   "metadata": {},
   "outputs": [],
   "source": [
    "def drop_categories(df):\n",
    "    # this function drops all categories of API output which are irrelevant for prediction\n",
    "    \n",
    "    # delete unused columns\n",
    "    df.drop([\"dlc\", \"review_score_desc\", \"legal_notice\", \"recommendations\", \"ext_user_account_notice\", \"reviews\", \"metacritic\", \"demos\", \n",
    "            \"drm_notice\", \"alternate_appid\", \"screenshots\", \"movies\", \"support_info\", \"background\", \"background_raw\", \n",
    "            \"content_descriptors\", \"packages\", \"package_groups\", \"num_reviews\", \"developers\", \"achievements\", \n",
    "            \"detailed_description\", \"about_the_game\", \"supported_languages\", \"header_image\", \"website\", \n",
    "            'appid', 'name', 'review_score', 'total_negative',\n",
    "        'type', 'is_free', 'short_description',\n",
    "       'pc_requirements', 'mac_requirements', 'linux_requirements',\n",
    "       'publishers','controller_support', 'fullgame' \n",
    "            ], axis = 1, inplace=True)\n",
    "    \n",
    "    # unwanted genres\n",
    "    gens = ['Design & Illustration', 'Audio Production', 'Photo Editing', 'Video Production', 'Game Development', 'Software Training',\n",
    "                'Web Publishing', 'Animation & Modeling', 'Utilities']\n",
    "    \n",
    "    # german genres/categories\n",
    "    german = ['Abenteuer', 'Aktion', 'Volle Controllerunterstützung', 'Steam-Errungenschaften', 'Einzelspieler', 'Remote Play auf Tablets',\n",
    "              'Steam-Sammelkarten', 'Untertitel verfügbar', 'Plattformübergreifender Mehrspieler', 'Rollenspiel', 'Simulationen', 'Mehrspieler',\n",
    "              'Online-Koop', 'Teilweise Controllerunterstützung', 'Koop']\n",
    "    \n",
    "    #remove rows of russian, german and unwanted genres\n",
    "    df.drop(df[df[german + gens].isin([1]).any(axis=1)].index, inplace=True)\n",
    "\n",
    "    # remove cols of russian, german and unwanted genres\n",
    "    df.drop(german + gens, axis = 1, inplace=True)"
   ]
  },
  {
   "cell_type": "code",
   "execution_count": null,
   "id": "8e446120",
   "metadata": {},
   "outputs": [],
   "source": [
    "def drop_few_review_games(df, num_reviews):\n",
    "    # drop games with less than num_reviews reviews. also reset the index after dropping rows\n",
    "    df =  df.loc[lambda df: df['total_reviews'] >= num_reviews, :]\n",
    "    return df"
   ]
  },
  {
   "cell_type": "code",
   "execution_count": null,
   "id": "149449f3",
   "metadata": {},
   "outputs": [],
   "source": [
    "def drop_high_price_games(df, max_price=200):\n",
    "    # drops few outlier games which have unreasonably high prices. max price is price in euros (price/100)\n",
    "    df=  df.loc[lambda df: df.price_overview/100 <= max_price, :]\n",
    "    return df"
   ]
  },
  {
   "cell_type": "code",
   "execution_count": null,
   "id": "87c36e3a",
   "metadata": {},
   "outputs": [],
   "source": [
    "def clean_col(df, col):\n",
    "    # this function takes the API output of the column col categories and cleans it up\n",
    "    # categories are shown in a list in new column \"col_clean\" in output dataframe\n",
    "    \n",
    "    # iterate through rows\n",
    "    for index, row in df.iterrows():\n",
    "        \n",
    "        # prefilter games without price dict\n",
    "        if col == \"price_overview\" and row.is_free:\n",
    "            df[col].loc[index] = 0\n",
    "        \n",
    "        # try to read the entry as a dictionary\n",
    "        try:\n",
    "            dict = literal_eval(str(row[col]).replace(\"''\",'None'))\n",
    "        \n",
    "        # if not possible delete row\n",
    "        except: \n",
    "            df.drop(index, inplace=True)\n",
    "        \n",
    "        # if possible\n",
    "        else:\n",
    "            \n",
    "            # get price\n",
    "            if col == \"price_overview\":\n",
    "                \n",
    "                # if currency is not EUR\n",
    "                if dict[\"currency\"] != \"EUR\":\n",
    "                    \n",
    "                    # delete row\n",
    "                    df.drop(index, inplace=True)\n",
    "            \n",
    "                # get price\n",
    "                else:\n",
    "                    df[col].loc[index] = dict[\"initial\"]\n",
    "            \n",
    "            # or relase date\n",
    "            elif col == \"release_date\":\n",
    "        \n",
    "                if dict['date'] == None:\n",
    "                    df.drop(index, inplace=True)\n",
    "                \n",
    "                else:\n",
    "                    #if exists, get year of release for game\n",
    "                    df[col].loc[index] = dict[\"date\"][-4:]\n",
    "            # or                    \n",
    "            else:\n",
    "                categories = []\n",
    "                \n",
    "                # get platforms\n",
    "                if col == \"platforms\":\n",
    "                    categories = list({k: v for k, v in dict.items() if v}.keys())\n",
    "                \n",
    "                # or get categories/genres \n",
    "                else:\n",
    "                    for j in range(len(dict)):\n",
    "                        categories.append(dict[j][\"description\"])\n",
    "                \n",
    "                # insert values\n",
    "                df[col].loc[index] = np.array(categories)\n",
    "    \n",
    "    return df"
   ]
  },
  {
   "cell_type": "code",
   "execution_count": null,
   "id": "c49bb87a",
   "metadata": {},
   "outputs": [],
   "source": [
    "def get_set(df, col):\n",
    "    # this function iterates through the new column \"genres_clean\" and return the set of unique genres contained in the dataframe\n",
    "    G = []\n",
    "    \n",
    "    for idx,row in df.iterrows():\n",
    "        \n",
    "        for j in range(len(row[col])):\n",
    "            G.append(row[col][j])\n",
    "    \n",
    "    return list(set(G))\n",
    "        "
   ]
  },
  {
   "cell_type": "code",
   "execution_count": null,
   "id": "e92a5d15",
   "metadata": {},
   "outputs": [],
   "source": [
    "def one_hot_encode(df, G, col):\n",
    "    # this function creates a new column for each unique genre in the dataframe to one-hot-encode it.\n",
    "    for j in G:\n",
    "        df[j] = 0\n",
    "    \n",
    "    for idx,row in df.iterrows():\n",
    "       for category in row[col]:\n",
    "           df[category].loc[idx] = 1\n",
    "    \n",
    "    # drop old column\n",
    "    df.drop(col, axis = 1, inplace=True)\n",
    "    \n",
    "    return df"
   ]
  },
  {
   "cell_type": "code",
   "execution_count": null,
   "id": "f3721152",
   "metadata": {},
   "outputs": [],
   "source": [
    "def add_score(df):\n",
    "    # adds the score column to the dataframe\n",
    "    df[\"score\"] = df[\"total_positive\"]/df[\"total_reviews\"]\n",
    "    df.drop([\"total_positive\", \"total_reviews\"], axis = 1, inplace = True)\n",
    "    df.reset_index(drop=True, inplace=True)\n",
    "    return df"
   ]
  },
  {
   "cell_type": "code",
   "execution_count": null,
   "id": "b1b64d97",
   "metadata": {},
   "outputs": [],
   "source": [
    "def join_columns(df, col1, col2):\n",
    "    #integrates column2 into column1. \n",
    "    #Is done when correlation is high and one column is a generalization of the other\n",
    "    \n",
    "    # find out in which rows values of column1 and column 2 differ\n",
    "    idx = np.where(df[col1]!=df[col2])\n",
    "    # convert ot to usable index list such that it can be used as arugment for df.loc\n",
    "    idx = list(df.loc[idx,col1].index)\n",
    "    \n",
    "    #in these rows, change value of column1 to 1. Then remove column 2 from dataframe\n",
    "    df.loc[idx,col1]=1\n",
    "    df.drop(col2, axis=1, inplace=True)"
   ]
  },
  {
   "cell_type": "markdown",
   "id": "dbaaec91",
   "metadata": {},
   "source": [
    "# Pipeline"
   ]
  },
  {
   "cell_type": "code",
   "execution_count": null,
   "id": "2376f4f0",
   "metadata": {},
   "outputs": [],
   "source": [
    "df = pd.read_csv(\"raw_data.csv\", index_col=0, low_memory=False)"
   ]
  },
  {
   "cell_type": "code",
   "execution_count": null,
   "id": "950b8d01",
   "metadata": {},
   "outputs": [],
   "source": [
    "df.columns"
   ]
  },
  {
   "cell_type": "code",
   "execution_count": null,
   "id": "f8510978",
   "metadata": {},
   "outputs": [],
   "source": [
    "# clean and pre-process data\n",
    "\n",
    "# drop games with insufficient reviews\n",
    "df = drop_few_review_games(df, num_reviews=50)\n",
    "\n",
    "# get clean price\n",
    "df = clean_col(df, \"price_overview\")\n",
    "\n",
    "# drop too expensice games\n",
    "df = drop_high_price_games(df, max_price=200)\n",
    "\n",
    "# get on-hot-encoded genres\n",
    "df = clean_col(df, \"genres\")\n",
    "genre_set = get_set(df, \"genres\")\n",
    "df = one_hot_encode(df, genre_set, \"genres\")\n",
    "\n",
    "# get on-hot-encoded categories\n",
    "df = clean_col(df, \"categories\")\n",
    "category_set = get_set(df, \"categories\")\n",
    "df = one_hot_encode(df, category_set, \"categories\")\n",
    "\n",
    "# clean genres and categories\n",
    "drop_categories(df)\n",
    "\n",
    "# get on-hot-encoded platforms\n",
    "df = clean_col(df, \"platforms\")\n",
    "platform_set = get_set(df, \"platforms\")\n",
    "df = one_hot_encode(df, platform_set, \"platforms\")\n",
    "\n",
    "# get release year\n",
    "df = clean_col(df, \"release_date\")\n",
    "\n",
    "# add score column\n",
    "df = add_score(df)\n",
    "\n",
    "# correct column names\n",
    "df.rename(columns={\"price_overview\": \"price\", 'release_date': \"relase_year\"}, inplace = True)\n",
    "\n",
    "# unite highly correlated/equal colmuns \n",
    "join_columns(df, \"MMO\", \"Massively Multiplayer\")\n",
    "join_columns(df, \"Violent\", \"Gore\")\n",
    "join_columns(df, \"Remote Play on Phone\", \"Remote Play on Tablet\")\n",
    "join_columns(df, \"PvP\", \"Online PvP\")\n",
    "join_columns(df, \"VR Only\", \"Tracked Controller Support\")\n",
    "join_columns(df, \"Co-op\", \"Online Co-op\")\n",
    "join_columns(df, \"Shared/Split Screen\", \"Shared/Split Screen PvP\")\n",
    "join_columns(df, \"Shared/Split Screen\",'Shared/Split Screen Co-op')\n",
    "join_columns(df, \"Shared/Split Screen\", \"Remote Play Together\")\n"
   ]
  },
  {
   "cell_type": "code",
   "execution_count": null,
   "id": "ff940a5e",
   "metadata": {},
   "outputs": [],
   "source": [
    "df"
   ]
  },
  {
   "cell_type": "code",
   "execution_count": null,
   "id": "fd6fc35a",
   "metadata": {},
   "outputs": [],
   "source": [
    "df.columns"
   ]
  },
  {
   "cell_type": "code",
   "execution_count": null,
   "id": "86ee69e6",
   "metadata": {},
   "outputs": [],
   "source": [
    "df.to_csv('clean_data.csv')\n",
    "df.sample(1000).to_csv('clean_data_small.csv')"
   ]
  },
  {
   "cell_type": "code",
   "execution_count": null,
   "id": "4eddc1c6",
   "metadata": {},
   "outputs": [],
   "source": [
    "# plot distribution\n",
    "plt.figure(figsize=(7,3))\n",
    "plt.hist(df.score, bins=20)\n",
    "plt.xlabel(\"Score\")\n",
    "plt.ylabel(\"Count\")\n",
    "plt.savefig('score_dist.png', dpi=300, bbox_inches=\"tight\")"
   ]
  }
 ],
 "metadata": {
  "kernelspec": {
   "display_name": "Python 3 (ipykernel)",
   "language": "python",
   "name": "python3"
  },
  "language_info": {
   "codemirror_mode": {
    "name": "ipython",
    "version": 3
   },
   "file_extension": ".py",
   "mimetype": "text/x-python",
   "name": "python",
   "nbconvert_exporter": "python",
   "pygments_lexer": "ipython3",
   "version": "3.8.8"
  },
  "toc": {
   "base_numbering": 1,
   "nav_menu": {},
   "number_sections": true,
   "sideBar": false,
   "skip_h1_title": false,
   "title_cell": "Table of Contents",
   "title_sidebar": "Contents",
   "toc_cell": false,
   "toc_position": {},
   "toc_section_display": true,
   "toc_window_display": true
  },
  "varInspector": {
   "cols": {
    "lenName": 16,
    "lenType": 16,
    "lenVar": 40
   },
   "kernels_config": {
    "python": {
     "delete_cmd_postfix": "",
     "delete_cmd_prefix": "del ",
     "library": "var_list.py",
     "varRefreshCmd": "print(var_dic_list())"
    },
    "r": {
     "delete_cmd_postfix": ") ",
     "delete_cmd_prefix": "rm(",
     "library": "var_list.r",
     "varRefreshCmd": "cat(var_dic_list()) "
    }
   },
   "types_to_exclude": [
    "module",
    "function",
    "builtin_function_or_method",
    "instance",
    "_Feature"
   ],
   "window_display": false
  },
  "vscode": {
   "interpreter": {
    "hash": "0e9a04e0a5c422eb7d17f089ac60eed9f8e8db0d5bb014daab27a4ac46018303"
   }
  }
 },
 "nbformat": 4,
 "nbformat_minor": 5
}
