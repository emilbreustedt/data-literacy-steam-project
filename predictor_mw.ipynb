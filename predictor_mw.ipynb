{
 "cells": [
  {
   "cell_type": "code",
   "execution_count": 1,
   "metadata": {},
   "outputs": [],
   "source": [
    "import pandas as pd\n",
    "import matplotlib.pyplot as plt\n",
    "import numpy as np"
   ]
  },
  {
   "cell_type": "code",
   "execution_count": 2,
   "metadata": {},
   "outputs": [],
   "source": [
    "from sklearn.linear_model import LinearRegression\n",
    "from sklearn.model_selection import train_test_split\n",
    "from sklearn.metrics import mean_squared_error\n",
    "from sklearn.metrics import r2_score\n",
    "from sklearn.metrics import explained_variance_score\n",
    "from sklearn.neural_network import MLPRegressor\n",
    "from sklearn.model_selection import GridSearchCV"
   ]
  },
  {
   "cell_type": "code",
   "execution_count": 3,
   "metadata": {},
   "outputs": [],
   "source": [
    "import copy\n",
    "from scipy import stats\n",
    "from sklearn.preprocessing import PowerTransformer"
   ]
  },
  {
   "cell_type": "code",
   "execution_count": 4,
   "metadata": {},
   "outputs": [
    {
     "data": {
      "text/html": [
       "<div>\n",
       "<style scoped>\n",
       "    .dataframe tbody tr th:only-of-type {\n",
       "        vertical-align: middle;\n",
       "    }\n",
       "\n",
       "    .dataframe tbody tr th {\n",
       "        vertical-align: top;\n",
       "    }\n",
       "\n",
       "    .dataframe thead th {\n",
       "        text-align: right;\n",
       "    }\n",
       "</style>\n",
       "<table border=\"1\" class=\"dataframe\">\n",
       "  <thead>\n",
       "    <tr style=\"text-align: right;\">\n",
       "      <th></th>\n",
       "      <th>required_age</th>\n",
       "      <th>price</th>\n",
       "      <th>relase_year</th>\n",
       "      <th>Violent</th>\n",
       "      <th>Simulation</th>\n",
       "      <th>Free to Play</th>\n",
       "      <th>Early Access</th>\n",
       "      <th>Strategy</th>\n",
       "      <th>Gore</th>\n",
       "      <th>Sexual Content</th>\n",
       "      <th>...</th>\n",
       "      <th>Steam Cloud</th>\n",
       "      <th>VR Support</th>\n",
       "      <th>LAN Co-op</th>\n",
       "      <th>Multi-player</th>\n",
       "      <th>Additional High-Quality Audio</th>\n",
       "      <th>Remote Play on Tablet</th>\n",
       "      <th>windows</th>\n",
       "      <th>mac</th>\n",
       "      <th>linux</th>\n",
       "      <th>score</th>\n",
       "    </tr>\n",
       "  </thead>\n",
       "  <tbody>\n",
       "    <tr>\n",
       "      <th>0</th>\n",
       "      <td>0</td>\n",
       "      <td>1379</td>\n",
       "      <td>2021</td>\n",
       "      <td>0</td>\n",
       "      <td>1</td>\n",
       "      <td>0</td>\n",
       "      <td>1</td>\n",
       "      <td>0</td>\n",
       "      <td>0</td>\n",
       "      <td>0</td>\n",
       "      <td>...</td>\n",
       "      <td>0</td>\n",
       "      <td>0</td>\n",
       "      <td>0</td>\n",
       "      <td>0</td>\n",
       "      <td>0</td>\n",
       "      <td>0</td>\n",
       "      <td>1</td>\n",
       "      <td>0</td>\n",
       "      <td>0</td>\n",
       "      <td>0.955032</td>\n",
       "    </tr>\n",
       "    <tr>\n",
       "      <th>1</th>\n",
       "      <td>0</td>\n",
       "      <td>399</td>\n",
       "      <td>2021</td>\n",
       "      <td>0</td>\n",
       "      <td>0</td>\n",
       "      <td>0</td>\n",
       "      <td>0</td>\n",
       "      <td>0</td>\n",
       "      <td>0</td>\n",
       "      <td>0</td>\n",
       "      <td>...</td>\n",
       "      <td>0</td>\n",
       "      <td>0</td>\n",
       "      <td>0</td>\n",
       "      <td>1</td>\n",
       "      <td>0</td>\n",
       "      <td>0</td>\n",
       "      <td>1</td>\n",
       "      <td>0</td>\n",
       "      <td>0</td>\n",
       "      <td>0.733668</td>\n",
       "    </tr>\n",
       "    <tr>\n",
       "      <th>2</th>\n",
       "      <td>0</td>\n",
       "      <td>499</td>\n",
       "      <td>2021</td>\n",
       "      <td>0</td>\n",
       "      <td>1</td>\n",
       "      <td>0</td>\n",
       "      <td>0</td>\n",
       "      <td>1</td>\n",
       "      <td>0</td>\n",
       "      <td>0</td>\n",
       "      <td>...</td>\n",
       "      <td>0</td>\n",
       "      <td>0</td>\n",
       "      <td>0</td>\n",
       "      <td>1</td>\n",
       "      <td>0</td>\n",
       "      <td>0</td>\n",
       "      <td>1</td>\n",
       "      <td>0</td>\n",
       "      <td>0</td>\n",
       "      <td>0.921053</td>\n",
       "    </tr>\n",
       "    <tr>\n",
       "      <th>3</th>\n",
       "      <td>0</td>\n",
       "      <td>5999</td>\n",
       "      <td>2022</td>\n",
       "      <td>0</td>\n",
       "      <td>0</td>\n",
       "      <td>0</td>\n",
       "      <td>0</td>\n",
       "      <td>0</td>\n",
       "      <td>0</td>\n",
       "      <td>0</td>\n",
       "      <td>...</td>\n",
       "      <td>1</td>\n",
       "      <td>0</td>\n",
       "      <td>0</td>\n",
       "      <td>0</td>\n",
       "      <td>0</td>\n",
       "      <td>0</td>\n",
       "      <td>1</td>\n",
       "      <td>0</td>\n",
       "      <td>0</td>\n",
       "      <td>0.953191</td>\n",
       "    </tr>\n",
       "    <tr>\n",
       "      <th>4</th>\n",
       "      <td>0</td>\n",
       "      <td>799</td>\n",
       "      <td>2021</td>\n",
       "      <td>0</td>\n",
       "      <td>0</td>\n",
       "      <td>0</td>\n",
       "      <td>0</td>\n",
       "      <td>0</td>\n",
       "      <td>0</td>\n",
       "      <td>0</td>\n",
       "      <td>...</td>\n",
       "      <td>0</td>\n",
       "      <td>0</td>\n",
       "      <td>0</td>\n",
       "      <td>0</td>\n",
       "      <td>0</td>\n",
       "      <td>0</td>\n",
       "      <td>1</td>\n",
       "      <td>0</td>\n",
       "      <td>0</td>\n",
       "      <td>0.971429</td>\n",
       "    </tr>\n",
       "    <tr>\n",
       "      <th>...</th>\n",
       "      <td>...</td>\n",
       "      <td>...</td>\n",
       "      <td>...</td>\n",
       "      <td>...</td>\n",
       "      <td>...</td>\n",
       "      <td>...</td>\n",
       "      <td>...</td>\n",
       "      <td>...</td>\n",
       "      <td>...</td>\n",
       "      <td>...</td>\n",
       "      <td>...</td>\n",
       "      <td>...</td>\n",
       "      <td>...</td>\n",
       "      <td>...</td>\n",
       "      <td>...</td>\n",
       "      <td>...</td>\n",
       "      <td>...</td>\n",
       "      <td>...</td>\n",
       "      <td>...</td>\n",
       "      <td>...</td>\n",
       "      <td>...</td>\n",
       "    </tr>\n",
       "    <tr>\n",
       "      <th>9995</th>\n",
       "      <td>0</td>\n",
       "      <td>599</td>\n",
       "      <td>2017</td>\n",
       "      <td>0</td>\n",
       "      <td>0</td>\n",
       "      <td>0</td>\n",
       "      <td>0</td>\n",
       "      <td>0</td>\n",
       "      <td>0</td>\n",
       "      <td>0</td>\n",
       "      <td>...</td>\n",
       "      <td>1</td>\n",
       "      <td>0</td>\n",
       "      <td>0</td>\n",
       "      <td>0</td>\n",
       "      <td>0</td>\n",
       "      <td>0</td>\n",
       "      <td>1</td>\n",
       "      <td>1</td>\n",
       "      <td>1</td>\n",
       "      <td>0.921875</td>\n",
       "    </tr>\n",
       "    <tr>\n",
       "      <th>9996</th>\n",
       "      <td>0</td>\n",
       "      <td>1679</td>\n",
       "      <td>2020</td>\n",
       "      <td>0</td>\n",
       "      <td>0</td>\n",
       "      <td>0</td>\n",
       "      <td>1</td>\n",
       "      <td>0</td>\n",
       "      <td>0</td>\n",
       "      <td>0</td>\n",
       "      <td>...</td>\n",
       "      <td>0</td>\n",
       "      <td>0</td>\n",
       "      <td>0</td>\n",
       "      <td>1</td>\n",
       "      <td>0</td>\n",
       "      <td>0</td>\n",
       "      <td>1</td>\n",
       "      <td>0</td>\n",
       "      <td>0</td>\n",
       "      <td>0.660407</td>\n",
       "    </tr>\n",
       "    <tr>\n",
       "      <th>9997</th>\n",
       "      <td>0</td>\n",
       "      <td>4999</td>\n",
       "      <td>2020</td>\n",
       "      <td>0</td>\n",
       "      <td>0</td>\n",
       "      <td>0</td>\n",
       "      <td>0</td>\n",
       "      <td>0</td>\n",
       "      <td>0</td>\n",
       "      <td>0</td>\n",
       "      <td>...</td>\n",
       "      <td>1</td>\n",
       "      <td>0</td>\n",
       "      <td>0</td>\n",
       "      <td>1</td>\n",
       "      <td>0</td>\n",
       "      <td>1</td>\n",
       "      <td>1</td>\n",
       "      <td>0</td>\n",
       "      <td>0</td>\n",
       "      <td>0.677665</td>\n",
       "    </tr>\n",
       "    <tr>\n",
       "      <th>9998</th>\n",
       "      <td>0</td>\n",
       "      <td>1999</td>\n",
       "      <td>2017</td>\n",
       "      <td>0</td>\n",
       "      <td>0</td>\n",
       "      <td>0</td>\n",
       "      <td>0</td>\n",
       "      <td>0</td>\n",
       "      <td>0</td>\n",
       "      <td>0</td>\n",
       "      <td>...</td>\n",
       "      <td>1</td>\n",
       "      <td>0</td>\n",
       "      <td>0</td>\n",
       "      <td>1</td>\n",
       "      <td>0</td>\n",
       "      <td>0</td>\n",
       "      <td>1</td>\n",
       "      <td>1</td>\n",
       "      <td>0</td>\n",
       "      <td>0.973799</td>\n",
       "    </tr>\n",
       "    <tr>\n",
       "      <th>9999</th>\n",
       "      <td>0</td>\n",
       "      <td>2499</td>\n",
       "      <td>2019</td>\n",
       "      <td>0</td>\n",
       "      <td>0</td>\n",
       "      <td>0</td>\n",
       "      <td>0</td>\n",
       "      <td>0</td>\n",
       "      <td>0</td>\n",
       "      <td>0</td>\n",
       "      <td>...</td>\n",
       "      <td>0</td>\n",
       "      <td>0</td>\n",
       "      <td>0</td>\n",
       "      <td>0</td>\n",
       "      <td>0</td>\n",
       "      <td>0</td>\n",
       "      <td>1</td>\n",
       "      <td>0</td>\n",
       "      <td>0</td>\n",
       "      <td>0.601449</td>\n",
       "    </tr>\n",
       "  </tbody>\n",
       "</table>\n",
       "<p>10000 rows × 63 columns</p>\n",
       "</div>"
      ],
      "text/plain": [
       "      required_age  price  relase_year  Violent  Simulation  Free to Play  \\\n",
       "0                0   1379         2021        0           1             0   \n",
       "1                0    399         2021        0           0             0   \n",
       "2                0    499         2021        0           1             0   \n",
       "3                0   5999         2022        0           0             0   \n",
       "4                0    799         2021        0           0             0   \n",
       "...            ...    ...          ...      ...         ...           ...   \n",
       "9995             0    599         2017        0           0             0   \n",
       "9996             0   1679         2020        0           0             0   \n",
       "9997             0   4999         2020        0           0             0   \n",
       "9998             0   1999         2017        0           0             0   \n",
       "9999             0   2499         2019        0           0             0   \n",
       "\n",
       "      Early Access  Strategy  Gore  Sexual Content  ...  Steam Cloud  \\\n",
       "0                1         0     0               0  ...            0   \n",
       "1                0         0     0               0  ...            0   \n",
       "2                0         1     0               0  ...            0   \n",
       "3                0         0     0               0  ...            1   \n",
       "4                0         0     0               0  ...            0   \n",
       "...            ...       ...   ...             ...  ...          ...   \n",
       "9995             0         0     0               0  ...            1   \n",
       "9996             1         0     0               0  ...            0   \n",
       "9997             0         0     0               0  ...            1   \n",
       "9998             0         0     0               0  ...            1   \n",
       "9999             0         0     0               0  ...            0   \n",
       "\n",
       "      VR Support  LAN Co-op  Multi-player  Additional High-Quality Audio  \\\n",
       "0              0          0             0                              0   \n",
       "1              0          0             1                              0   \n",
       "2              0          0             1                              0   \n",
       "3              0          0             0                              0   \n",
       "4              0          0             0                              0   \n",
       "...          ...        ...           ...                            ...   \n",
       "9995           0          0             0                              0   \n",
       "9996           0          0             1                              0   \n",
       "9997           0          0             1                              0   \n",
       "9998           0          0             1                              0   \n",
       "9999           0          0             0                              0   \n",
       "\n",
       "      Remote Play on Tablet  windows  mac  linux     score  \n",
       "0                         0        1    0      0  0.955032  \n",
       "1                         0        1    0      0  0.733668  \n",
       "2                         0        1    0      0  0.921053  \n",
       "3                         0        1    0      0  0.953191  \n",
       "4                         0        1    0      0  0.971429  \n",
       "...                     ...      ...  ...    ...       ...  \n",
       "9995                      0        1    1      1  0.921875  \n",
       "9996                      0        1    0      0  0.660407  \n",
       "9997                      1        1    0      0  0.677665  \n",
       "9998                      0        1    1      0  0.973799  \n",
       "9999                      0        1    0      0  0.601449  \n",
       "\n",
       "[10000 rows x 63 columns]"
      ]
     },
     "execution_count": 4,
     "metadata": {},
     "output_type": "execute_result"
    }
   ],
   "source": [
    "df = pd.read_csv(\"clean_data.csv\", index_col=0)\n",
    "df"
   ]
  },
  {
   "cell_type": "markdown",
   "metadata": {},
   "source": [
    "# Fitting linear regression with all variables"
   ]
  },
  {
   "cell_type": "code",
   "execution_count": null,
   "metadata": {},
   "outputs": [],
   "source": []
  },
  {
   "cell_type": "markdown",
   "metadata": {},
   "source": [
    "# check IVs for correlation"
   ]
  },
  {
   "cell_type": "code",
   "execution_count": 7,
   "metadata": {},
   "outputs": [],
   "source": [
    "corr = df.iloc[:,0:-1].corr()\n",
    "#corr.style.background_gradient(cmap='coolwarm')"
   ]
  },
  {
   "cell_type": "code",
   "execution_count": 8,
   "metadata": {},
   "outputs": [],
   "source": [
    "high_corr1, high_corr2 = np.where(np.abs(corr)>0.5)"
   ]
  },
  {
   "cell_type": "code",
   "execution_count": 9,
   "metadata": {},
   "outputs": [],
   "source": [
    "#high_corr1, high_corr2"
   ]
  },
  {
   "cell_type": "markdown",
   "metadata": {},
   "source": [
    "## see which IVs have correlation higher than 0.5"
   ]
  },
  {
   "cell_type": "code",
   "execution_count": 10,
   "metadata": {},
   "outputs": [],
   "source": [
    "# get indicics of highly correlated features in feature matrix\n",
    "A = []\n",
    "for i in range(len(high_corr1)):\n",
    "    if high_corr1[i]!=high_corr2[i]:\n",
    "        A.append((high_corr1[i],high_corr2[i]))\n",
    "    "
   ]
  },
  {
   "cell_type": "code",
   "execution_count": 11,
   "metadata": {},
   "outputs": [],
   "source": [
    "#len(A)"
   ]
  },
  {
   "cell_type": "code",
   "execution_count": 12,
   "metadata": {},
   "outputs": [],
   "source": [
    "# transform indices to names of columns, add to tuple together with correlation of the features\n",
    "B = []\n",
    "for i in range(len(A)):\n",
    "    B.append((df.columns[A[i][0]],df.columns[A[i][1]], round(corr.iloc[A[i][0],A[i][1]],3)))\n",
    "    "
   ]
  },
  {
   "cell_type": "code",
   "execution_count": 13,
   "metadata": {},
   "outputs": [
    {
     "data": {
      "text/plain": [
       "[('Violent', 'Gore', 0.689),\n",
       " ('Gore', 'Violent', 0.689),\n",
       " ('Sexual Content', 'Nudity', 0.572),\n",
       " ('Nudity', 'Sexual Content', 0.572),\n",
       " ('Massively Multiplayer', 'MMO', 0.671),\n",
       " ('Online Co-op', 'Co-op', 0.753),\n",
       " ('Online Co-op', 'Multi-player', 0.515),\n",
       " ('PvP', 'Online PvP', 0.896),\n",
       " ('PvP', 'Shared/Split Screen PvP', 0.57),\n",
       " ('PvP', 'Multi-player', 0.632),\n",
       " ('Co-op', 'Online Co-op', 0.753),\n",
       " ('Co-op', 'Multi-player', 0.654),\n",
       " ('Includes level editor', 'Steam Workshop', 0.507),\n",
       " ('Remote Play Together', 'Shared/Split Screen PvP', 0.641),\n",
       " ('Remote Play Together', 'Shared/Split Screen Co-op', 0.611),\n",
       " ('Remote Play Together', 'Shared/Split Screen', 0.809),\n",
       " ('Online PvP', 'PvP', 0.896),\n",
       " ('Online PvP', 'Multi-player', 0.572),\n",
       " ('VR Only', 'Tracked Controller Support', 0.864),\n",
       " ('Remote Play on Phone', 'Remote Play on Tablet', 0.874),\n",
       " ('LAN PvP', 'LAN Co-op', 0.621),\n",
       " ('Tracked Controller Support', 'VR Only', 0.864),\n",
       " ('Shared/Split Screen PvP', 'PvP', 0.57),\n",
       " ('Shared/Split Screen PvP', 'Remote Play Together', 0.641),\n",
       " ('Shared/Split Screen PvP', 'Shared/Split Screen', 0.596),\n",
       " ('Shared/Split Screen Co-op', 'Remote Play Together', 0.611),\n",
       " ('Shared/Split Screen Co-op', 'Shared/Split Screen', 0.609),\n",
       " ('Shared/Split Screen', 'Remote Play Together', 0.809),\n",
       " ('Shared/Split Screen', 'Shared/Split Screen PvP', 0.596),\n",
       " ('Shared/Split Screen', 'Shared/Split Screen Co-op', 0.609),\n",
       " ('Steam Workshop', 'Includes level editor', 0.507),\n",
       " ('MMO', 'Massively Multiplayer', 0.671),\n",
       " ('LAN Co-op', 'LAN PvP', 0.621),\n",
       " ('Multi-player', 'Online Co-op', 0.515),\n",
       " ('Multi-player', 'PvP', 0.632),\n",
       " ('Multi-player', 'Co-op', 0.654),\n",
       " ('Multi-player', 'Online PvP', 0.572),\n",
       " ('Remote Play on Tablet', 'Remote Play on Phone', 0.874),\n",
       " ('mac', 'linux', 0.654),\n",
       " ('linux', 'mac', 0.654)]"
      ]
     },
     "execution_count": 13,
     "metadata": {},
     "output_type": "execute_result"
    }
   ],
   "source": [
    "B"
   ]
  },
  {
   "cell_type": "code",
   "execution_count": null,
   "metadata": {},
   "outputs": [],
   "source": []
  },
  {
   "cell_type": "markdown",
   "metadata": {},
   "source": [
    "## makes regression more reasonable but slightly reduces predictive performance"
   ]
  },
  {
   "cell_type": "markdown",
   "metadata": {},
   "source": [
    "reduce:\\\n",
    "MMO/Massive Multiplayer,\\\n",
    "Gore/Violent,\\\n",
    "Remote-Play Tablet/Phone,\\\n",
    "Coop/Online coop,\\\n",
    "Online PVP/PVP,\\\n",
    "Remove  Tracked-ControllerSupport/VR.\\\n",
    "Only to one column each\\\n",
    "Remove Shared/Split screen variable as correlation with several variables is very high"
   ]
  },
  {
   "cell_type": "markdown",
   "metadata": {},
   "source": [
    "how to treat Shared/Split Screen [PvP, Co-op]?"
   ]
  },
  {
   "cell_type": "code",
   "execution_count": 14,
   "metadata": {},
   "outputs": [],
   "source": [
    "def join_columns(df, col1, col2):\n",
    "    #integrates column2 into column1. \n",
    "    #Is done when correlation is high and one column is a generalization of the other\n",
    "    \n",
    "    # find out in which rows values of column1 and column 2 differ\n",
    "    idx = np.where(df[col1]!=df[col2])\n",
    "    # convert ot to usable index list such that it can be used as arugment for df.loc\n",
    "    idx = list(df.loc[idx,col1].index)\n",
    "    \n",
    "    #in these rows, change value of column1 to 1. Then remove column 2 from dataframe\n",
    "    df.loc[idx,col1]=1\n",
    "    df.drop(col2, axis=1, inplace=True)\n"
   ]
  },
  {
   "cell_type": "code",
   "execution_count": 15,
   "metadata": {},
   "outputs": [],
   "source": [
    "join_columns(df, \"MMO\", \"Massively Multiplayer\")\n",
    "join_columns(df, \"Violent\", \"Gore\")\n",
    "join_columns(df, \"Remote Play on Phone\", \"Remote Play on Tablet\")\n",
    "join_columns(df, \"PvP\", \"Online PvP\")\n",
    "join_columns(df, \"VR Only\", \"Tracked Controller Support\")\n",
    "join_columns(df, \"Co-op\", \"Online Co-op\")\n",
    "join_columns(df, \"Shared/Split Screen\", \"Shared/Split Screen PvP\")\n",
    "join_columns(df, \"Shared/Split Screen\",'Shared/Split Screen Co-op')"
   ]
  },
  {
   "cell_type": "code",
   "execution_count": 16,
   "metadata": {},
   "outputs": [
    {
     "data": {
      "text/plain": [
       "55"
      ]
     },
     "execution_count": 16,
     "metadata": {},
     "output_type": "execute_result"
    }
   ],
   "source": [
    "len(df.columns)"
   ]
  },
  {
   "cell_type": "code",
   "execution_count": 17,
   "metadata": {},
   "outputs": [],
   "source": [
    "corr = df.iloc[:,0:-1].corr()\n",
    "#corr.style.background_gradient(cmap='coolwarm')"
   ]
  },
  {
   "cell_type": "code",
   "execution_count": 18,
   "metadata": {},
   "outputs": [],
   "source": [
    "high_corr1, high_corr2 = np.where(np.abs(corr)>0.5)"
   ]
  },
  {
   "cell_type": "code",
   "execution_count": 19,
   "metadata": {},
   "outputs": [],
   "source": [
    "#high_corr1, high_corr2"
   ]
  },
  {
   "cell_type": "code",
   "execution_count": 20,
   "metadata": {},
   "outputs": [],
   "source": [
    "A = []\n",
    "for i in range(len(high_corr1)):\n",
    "    #print(high_corr1[i])\n",
    "    if high_corr1[i]!=high_corr2[i]:\n",
    "        A.append((high_corr1[i],high_corr2[i]))\n",
    "    "
   ]
  },
  {
   "cell_type": "code",
   "execution_count": 21,
   "metadata": {},
   "outputs": [],
   "source": [
    "#A"
   ]
  },
  {
   "cell_type": "code",
   "execution_count": 22,
   "metadata": {},
   "outputs": [],
   "source": [
    "#len(df.columns)"
   ]
  },
  {
   "cell_type": "code",
   "execution_count": 23,
   "metadata": {},
   "outputs": [],
   "source": [
    "B = []\n",
    "for i in range(len(A)):\n",
    "    B.append((df.columns[A[i][0]],df.columns[A[i][1]], round(corr.iloc[A[i][0],A[i][1]],3)))\n",
    "    "
   ]
  },
  {
   "cell_type": "code",
   "execution_count": 24,
   "metadata": {},
   "outputs": [
    {
     "data": {
      "text/plain": [
       "[('Sexual Content', 'Nudity', 0.572),\n",
       " ('Nudity', 'Sexual Content', 0.572),\n",
       " ('PvP', 'Multi-player', 0.632),\n",
       " ('Co-op', 'Multi-player', 0.653),\n",
       " ('Includes level editor', 'Steam Workshop', 0.507),\n",
       " ('Remote Play Together', 'Shared/Split Screen', 0.897),\n",
       " ('LAN PvP', 'LAN Co-op', 0.621),\n",
       " ('Shared/Split Screen', 'Remote Play Together', 0.897),\n",
       " ('Shared/Split Screen', 'Multi-player', 0.505),\n",
       " ('Steam Workshop', 'Includes level editor', 0.507),\n",
       " ('LAN Co-op', 'LAN PvP', 0.621),\n",
       " ('Multi-player', 'PvP', 0.632),\n",
       " ('Multi-player', 'Co-op', 0.653),\n",
       " ('Multi-player', 'Shared/Split Screen', 0.505),\n",
       " ('mac', 'linux', 0.654),\n",
       " ('linux', 'mac', 0.654)]"
      ]
     },
     "execution_count": 24,
     "metadata": {},
     "output_type": "execute_result"
    }
   ],
   "source": [
    "B"
   ]
  },
  {
   "cell_type": "code",
   "execution_count": 25,
   "metadata": {},
   "outputs": [],
   "source": [
    "#len(np.where(df[\"Remote Play Together\"]==1)[0]), len(np.where(df[\"Shared/Split Screen\"]==1)[0])"
   ]
  },
  {
   "cell_type": "code",
   "execution_count": 26,
   "metadata": {},
   "outputs": [],
   "source": [
    "df.drop(\"Remote Play Together\", axis=1, inplace=True)"
   ]
  },
  {
   "cell_type": "markdown",
   "metadata": {},
   "source": [
    "Split into train and test set before power transform"
   ]
  },
  {
   "cell_type": "code",
   "execution_count": null,
   "metadata": {},
   "outputs": [],
   "source": []
  },
  {
   "cell_type": "markdown",
   "metadata": {},
   "source": [
    "## normalize score for better predictive results"
   ]
  },
  {
   "cell_type": "code",
   "execution_count": 27,
   "metadata": {},
   "outputs": [],
   "source": [
    "#df_norm = df.copy(deep=True)"
   ]
  },
  {
   "cell_type": "code",
   "execution_count": 28,
   "metadata": {},
   "outputs": [],
   "source": [
    "#df[\"score\"].skew()"
   ]
  },
  {
   "cell_type": "code",
   "execution_count": 29,
   "metadata": {},
   "outputs": [],
   "source": [
    "#box_cox_score = stats.boxcox(df[\"score\"])[0]"
   ]
  },
  {
   "cell_type": "code",
   "execution_count": 30,
   "metadata": {},
   "outputs": [],
   "source": [
    "#df[\"score\"] = box_cox_score"
   ]
  },
  {
   "cell_type": "markdown",
   "metadata": {},
   "source": [
    "## try normalizing other IVs too"
   ]
  },
  {
   "cell_type": "code",
   "execution_count": 31,
   "metadata": {},
   "outputs": [],
   "source": [
    "#df_norm[\"relase_year\"] = power_transform((np.array(df[\"relase_year\"])).reshape(-1,1)).reshape(-1)"
   ]
  },
  {
   "cell_type": "code",
   "execution_count": 32,
   "metadata": {},
   "outputs": [],
   "source": [
    "#df_norm[\"price\"] = power_transform((np.array(df[\"price\"])).reshape(-1,1)).reshape(-1)"
   ]
  },
  {
   "cell_type": "code",
   "execution_count": 33,
   "metadata": {},
   "outputs": [],
   "source": [
    "#df_norm[\"required_age\"] = power_transform((np.array(df[\"required_age\"])).reshape(-1,1)).reshape(-1)"
   ]
  },
  {
   "cell_type": "code",
   "execution_count": 34,
   "metadata": {},
   "outputs": [],
   "source": [
    "from sklearn.compose import TransformedTargetRegressor"
   ]
  },
  {
   "cell_type": "code",
   "execution_count": null,
   "metadata": {},
   "outputs": [],
   "source": []
  },
  {
   "cell_type": "code",
   "execution_count": null,
   "metadata": {},
   "outputs": [],
   "source": []
  },
  {
   "cell_type": "code",
   "execution_count": 35,
   "metadata": {},
   "outputs": [],
   "source": [
    "def find_predictors(df):\n",
    "    \n",
    "    # Sort by absolute correlation\n",
    "    predictors = abs(df.corr()['score']).sort_values(ascending=False).drop(\"score\")\n",
    "\n",
    "    r2_max = 0\n",
    "    i_max = 0\n",
    "\n",
    "    # add variables until model is overfitting\n",
    "    for i, col in enumerate(list(predictors.index)):\n",
    "        trans= PowerTransformer()\n",
    "        reg = LinearRegression()\n",
    "        regression = TransformedTargetRegressor(regressor = reg, transformer = trans)\n",
    "        X = df[predictors.index[:i+1]]\n",
    "        X_train, X_test, y_train, y_test = train_test_split(X, df[\"score\"], test_size=0.3, random_state=42)\n",
    "        regression.fit(X_train, y_train)\n",
    "        y_pred = regression.predict(X_test)\n",
    "        r2 = r2_score(y_test, y_pred)\n",
    "        if r2 > r2_max:\n",
    "            r2_max = r2\n",
    "            i_max = i+1\n",
    "\n",
    "    # return predictors\n",
    "    return predictors[0:i_max] \n"
   ]
  },
  {
   "cell_type": "code",
   "execution_count": 36,
   "metadata": {},
   "outputs": [
    {
     "data": {
      "text/plain": [
       "(39, 0.11576, 0.02131, 0.11576)"
      ]
     },
     "execution_count": 36,
     "metadata": {},
     "output_type": "execute_result"
    }
   ],
   "source": [
    "# train again best model\n",
    "predictors  = find_predictors(df)\n",
    "X_train, X_test, y_train, y_test = train_test_split(df[list(predictors.index)], df[\"score\"], test_size=0.3, random_state=42)\n",
    "reg = LinearRegression().fit(X_train, y_train)\n",
    "y_pred = reg.predict(X_test)\n",
    "r2 = r2_score(y_test, y_pred)\n",
    "explained_var = explained_variance_score(y_test, y_pred)\n",
    "MSE = mean_squared_error(y_test, y_pred)\n",
    "\n",
    "len(predictors), round(r2, 5), round(MSE, 5), round(explained_var,5)"
   ]
  },
  {
   "cell_type": "code",
   "execution_count": 37,
   "metadata": {},
   "outputs": [
    {
     "name": "stdout",
     "output_type": "stream",
     "text": [
      "Downloadable Content & 0.14883 \\\\\n",
      "relase_year & 0.1444 \\\\\n",
      "Indie & 0.13513 \\\\\n",
      "Steam Cloud & 0.12675 \\\\\n",
      "Strategy & 0.12307 \\\\\n",
      "Casual & 0.11005 \\\\\n",
      "Simulation & 0.10549 \\\\\n",
      "Multi-player & 0.09653 \\\\\n",
      "MMO & 0.09137 \\\\\n",
      "Steam Achievements & 0.09123 \\\\\n",
      "Remote Play on Phone & 0.08858 \\\\\n",
      "mac & 0.0844 \\\\\n",
      "Full controller support & 0.07878 \\\\\n",
      "required_age & 0.06895 \\\\\n",
      "linux & 0.06841 \\\\\n",
      "Co-op & 0.05766 \\\\\n",
      "Shared/Split Screen & 0.05605 \\\\\n",
      "Remote Play on TV & 0.05254 \\\\\n",
      "Steam Leaderboards & 0.05252 \\\\\n",
      "Includes level editor & 0.04986 \\\\\n",
      "In-App Purchases & 0.04696 \\\\\n",
      "Adventure & 0.04469 \\\\\n",
      "RPG & 0.04091 \\\\\n",
      "Action & 0.03738 \\\\\n",
      "Single-player & 0.0357 \\\\\n",
      "Cross-Platform Multiplayer & 0.03441 \\\\\n",
      "Free to Play & 0.03351 \\\\\n",
      "PvP & 0.03225 \\\\\n",
      "Violent & 0.03064 \\\\\n",
      "Sports & 0.02638 \\\\\n",
      "Valve Anti-Cheat enabled & 0.02552 \\\\\n",
      "Includes Source SDK & 0.02529 \\\\\n",
      "Commentary available & 0.02513 \\\\\n",
      "Steam Trading Cards & 0.02505 \\\\\n",
      "Additional High-Quality Audio & 0.02281 \\\\\n",
      "Captions available & 0.02037 \\\\\n",
      "Steam Workshop & 0.0202 \\\\\n",
      "LAN Co-op & 0.02012 \\\\\n",
      "Steam Turn Notifications & 0.01593 \\\\\n"
     ]
    }
   ],
   "source": [
    "# table printer\n",
    "for var, corr in predictors.iteritems():\n",
    "    print(var + \" & \"+ str(round(corr, 5)) + \" \\\\\\\\\")\n",
    "    "
   ]
  },
  {
   "cell_type": "markdown",
   "metadata": {},
   "source": [
    "## Linear regression with MLP"
   ]
  },
  {
   "cell_type": "code",
   "execution_count": 38,
   "metadata": {},
   "outputs": [
    {
     "name": "stdout",
     "output_type": "stream",
     "text": [
      "-0.00103 0.02413\n",
      "0.00013\n"
     ]
    },
    {
     "data": {
      "text/plain": [
       "\"\\n# Hyperparameter optimization\\nparam_grid = {\\n    'hidden_layer_sizes': [(150,100,50), (200,150,100,50), (250,200,150,100,50)],\\n    'max_iter': [5000, 7500, 10000],\\n    'activation': ['relu'],\\n    'solver': ['adam'],\\n    'alpha': [0.0001, 0.05],\\n    'learning_rate': ['constant','adaptive'],\\n}\\n\\ngrid = GridSearchCV(reg, param_grid, n_jobs= -1)\\ngrid.fit(X_train, y_train)\\n\\nprint(grid.best_params_) \\n\""
      ]
     },
     "execution_count": 38,
     "metadata": {},
     "output_type": "execute_result"
    }
   ],
   "source": [
    "# Try with MLP\n",
    "X_train, X_test, y_train, y_test = train_test_split(df.drop(\"score\", axis = 1), df[\"score\"], test_size=0.3, random_state=42)\n",
    "reg = MLPRegressor(hidden_layer_sizes=(250,200,150,100,50), activation='logistic' ,random_state=42, max_iter=10000, batch_size = 64).fit(X_train, y_train)\n",
    "y_pred = reg.predict(X_test)\n",
    "r2 = r2_score(y_test, y_pred)\n",
    "explained_var_MLP = explained_variance_score(y_test, y_pred)\n",
    "MSE = mean_squared_error(y_test, y_pred)\n",
    "print(round(r2, 5), round(MSE, 5))\n",
    "print(round(explained_var_MLP,5))\n",
    "\n",
    "'''\n",
    "# Hyperparameter optimization\n",
    "param_grid = {\n",
    "    'hidden_layer_sizes': [(150,100,50), (200,150,100,50), (250,200,150,100,50)],\n",
    "    'max_iter': [5000, 7500, 10000],\n",
    "    'activation': ['relu'],\n",
    "    'solver': ['adam'],\n",
    "    'alpha': [0.0001, 0.05],\n",
    "    'learning_rate': ['constant','adaptive'],\n",
    "}\n",
    "\n",
    "grid = GridSearchCV(reg, param_grid, n_jobs= -1)\n",
    "grid.fit(X_train, y_train)\n",
    "\n",
    "print(grid.best_params_) \n",
    "'''"
   ]
  },
  {
   "cell_type": "code",
   "execution_count": 289,
   "metadata": {},
   "outputs": [],
   "source": [
    "df_test = df.copy(deep=True)\n",
    "df_test[\"score\"] = df[\"score\"]**2"
   ]
  },
  {
   "cell_type": "markdown",
   "metadata": {},
   "source": [
    "# try different approaches to obtaining the best explained variance"
   ]
  },
  {
   "cell_type": "markdown",
   "metadata": {},
   "source": [
    "## try obtaining best fit by sequentially adding variables that improve MSE"
   ]
  },
  {
   "cell_type": "code",
   "execution_count": 290,
   "metadata": {},
   "outputs": [],
   "source": [
    "def find_best_fit_minimize(df, start_index=0):\n",
    "    #functions tries to slowly build up accuracy by adding variables in seeing wheter they add accuracy. Drop if not\n",
    "    previous_good_regressors_indices = [start_index]\n",
    "    good_regessor_indices = [start_index]\n",
    "    previous_full = np.Inf\n",
    "    i=1\n",
    "    reg_rmse_list = []\n",
    "    best_explainded_variance = 0\n",
    "    y_pred_best = np.array(int(0.7*len(df)))\n",
    "    while(df.columns[good_regessor_indices[-1]]!=\"score\"):\n",
    "        #trans= PowerTransformer()\n",
    "        #reg = LinearRegression()\n",
    "        #regression = TransformedTargetRegressor(regressor = reg, transformer = trans)\n",
    "        # consider changing random state later(other possible combination of best predictor variables)\n",
    "        X_train, X_test, y_train, y_test = train_test_split(df.iloc[:, good_regessor_indices],df[\"score\"] , test_size=0.3, random_state=42)\n",
    "        reg = LinearRegression().fit(X_train, y_train)\n",
    "        y_pred = reg.predict(X_test)\n",
    "        new_reg_rmse = mean_squared_error(y_pred, y_test)\n",
    "        explained_var = explained_variance_score(y_test, y_pred)\n",
    "        \n",
    "        print(\"RMS difference: {}\\n\".format(new_reg_rmse - previous_full))\n",
    "        \n",
    "        # check if the error of the model with new variable added is smaller than previous error\n",
    "        if(new_reg_rmse - previous_full<0):\n",
    "            # if yes, keep variable in the model\n",
    "            \n",
    "            #update list of variables that improve prediction\n",
    "            previous_good_regressors_indices = copy.deepcopy(good_regessor_indices)\n",
    "            \n",
    "            #update error s.t. it is error of new and improved model\n",
    "            previous_full = new_reg_rmse\n",
    "            \n",
    "            # update histroy of MSE of helpful variables\n",
    "            reg_rmse_list.append(new_reg_rmse)\n",
    "            \n",
    "            y_pred_best = y_pred\n",
    "            \n",
    "            best_explainded_variance = explained_var\n",
    "            \n",
    "            \n",
    "        else:\n",
    "            # if new variable does not decrease MSE, kick it out of the model\n",
    "            good_regessor_indices = copy.deepcopy(previous_good_regressors_indices)\n",
    "        \n",
    "        #add next variable to see if it improves performance\n",
    "        good_regessor_indices.append(start_index+i)\n",
    "        if(df.columns[good_regessor_indices[-1]]!=\"score\"):\n",
    "            print(\"Try these regressors next: {}\".format(df.columns[good_regessor_indices]))\n",
    "\n",
    "        \n",
    "            \n",
    "        i=i+1\n",
    "        \n",
    "    return reg_rmse_list, previous_good_regressors_indices, y_pred_best, best_explainded_variance\n",
    "        \n",
    "        \n",
    "        \n",
    "        \n",
    "        \n"
   ]
  },
  {
   "cell_type": "code",
   "execution_count": 291,
   "metadata": {},
   "outputs": [
    {
     "name": "stdout",
     "output_type": "stream",
     "text": [
      "RMS difference: -inf\n",
      "\n",
      "Try these regressors next: Index(['required_age', 'price'], dtype='object')\n",
      "RMS difference: 4.905949836229995e-06\n",
      "\n",
      "Try these regressors next: Index(['required_age', 'relase_year'], dtype='object')\n",
      "RMS difference: -0.0009505197542319654\n",
      "\n",
      "Try these regressors next: Index(['required_age', 'relase_year', 'Violent'], dtype='object')\n",
      "RMS difference: -2.862823161774164e-05\n",
      "\n",
      "Try these regressors next: Index(['required_age', 'relase_year', 'Violent', 'Simulation'], dtype='object')\n",
      "RMS difference: -0.0009846201217252812\n",
      "\n",
      "Try these regressors next: Index(['required_age', 'relase_year', 'Violent', 'Simulation', 'Free to Play'], dtype='object')\n",
      "RMS difference: 6.0473722816443976e-05\n",
      "\n",
      "Try these regressors next: Index(['required_age', 'relase_year', 'Violent', 'Simulation', 'Early Access'], dtype='object')\n",
      "RMS difference: 9.099228063712272e-06\n",
      "\n",
      "Try these regressors next: Index(['required_age', 'relase_year', 'Violent', 'Simulation', 'Strategy'], dtype='object')\n",
      "RMS difference: -0.00045657742060631334\n",
      "\n",
      "Try these regressors next: Index(['required_age', 'relase_year', 'Violent', 'Simulation', 'Strategy',\n",
      "       'Sexual Content'],\n",
      "      dtype='object')\n",
      "RMS difference: -1.679186451936099e-05\n",
      "\n",
      "Try these regressors next: Index(['required_age', 'relase_year', 'Violent', 'Simulation', 'Strategy',\n",
      "       'Sexual Content', 'Action'],\n",
      "      dtype='object')\n",
      "RMS difference: -0.00041610320770400777\n",
      "\n",
      "Try these regressors next: Index(['required_age', 'relase_year', 'Violent', 'Simulation', 'Strategy',\n",
      "       'Sexual Content', 'Action', 'RPG'],\n",
      "      dtype='object')\n",
      "RMS difference: -8.549355595468405e-05\n",
      "\n",
      "Try these regressors next: Index(['required_age', 'relase_year', 'Violent', 'Simulation', 'Strategy',\n",
      "       'Sexual Content', 'Action', 'RPG', 'Nudity'],\n",
      "      dtype='object')\n",
      "RMS difference: 4.3335781582241883e-05\n",
      "\n",
      "Try these regressors next: Index(['required_age', 'relase_year', 'Violent', 'Simulation', 'Strategy',\n",
      "       'Sexual Content', 'Action', 'RPG', 'Education'],\n",
      "      dtype='object')\n",
      "RMS difference: 0.0\n",
      "\n",
      "Try these regressors next: Index(['required_age', 'relase_year', 'Violent', 'Simulation', 'Strategy',\n",
      "       'Sexual Content', 'Action', 'RPG', 'Racing'],\n",
      "      dtype='object')\n",
      "RMS difference: -2.306740494641829e-05\n",
      "\n",
      "Try these regressors next: Index(['required_age', 'relase_year', 'Violent', 'Simulation', 'Strategy',\n",
      "       'Sexual Content', 'Action', 'RPG', 'Racing', 'Indie'],\n",
      "      dtype='object')\n",
      "RMS difference: -0.0003963950108000283\n",
      "\n",
      "Try these regressors next: Index(['required_age', 'relase_year', 'Violent', 'Simulation', 'Strategy',\n",
      "       'Sexual Content', 'Action', 'RPG', 'Racing', 'Indie', 'Adventure'],\n",
      "      dtype='object')\n",
      "RMS difference: -6.430306676849518e-05\n",
      "\n",
      "Try these regressors next: Index(['required_age', 'relase_year', 'Violent', 'Simulation', 'Strategy',\n",
      "       'Sexual Content', 'Action', 'RPG', 'Racing', 'Indie', 'Adventure',\n",
      "       'Casual'],\n",
      "      dtype='object')\n",
      "RMS difference: -0.0002902355506961482\n",
      "\n",
      "Try these regressors next: Index(['required_age', 'relase_year', 'Violent', 'Simulation', 'Strategy',\n",
      "       'Sexual Content', 'Action', 'RPG', 'Racing', 'Indie', 'Adventure',\n",
      "       'Casual', 'Sports'],\n",
      "      dtype='object')\n",
      "RMS difference: 5.7116120854121266e-05\n",
      "\n",
      "Try these regressors next: Index(['required_age', 'relase_year', 'Violent', 'Simulation', 'Strategy',\n",
      "       'Sexual Content', 'Action', 'RPG', 'Racing', 'Indie', 'Adventure',\n",
      "       'Casual', 'PvP'],\n",
      "      dtype='object')\n",
      "RMS difference: 5.753594674312579e-05\n",
      "\n",
      "Try these regressors next: Index(['required_age', 'relase_year', 'Violent', 'Simulation', 'Strategy',\n",
      "       'Sexual Content', 'Action', 'RPG', 'Racing', 'Indie', 'Adventure',\n",
      "       'Casual', 'Co-op'],\n",
      "      dtype='object')\n",
      "RMS difference: -0.00010302936304547317\n",
      "\n",
      "Try these regressors next: Index(['required_age', 'relase_year', 'Violent', 'Simulation', 'Strategy',\n",
      "       'Sexual Content', 'Action', 'RPG', 'Racing', 'Indie', 'Adventure',\n",
      "       'Casual', 'Co-op', 'Remote Play on TV'],\n",
      "      dtype='object')\n",
      "RMS difference: -0.00018978649687752258\n",
      "\n",
      "Try these regressors next: Index(['required_age', 'relase_year', 'Violent', 'Simulation', 'Strategy',\n",
      "       'Sexual Content', 'Action', 'RPG', 'Racing', 'Indie', 'Adventure',\n",
      "       'Casual', 'Co-op', 'Remote Play on TV', 'Full controller support'],\n",
      "      dtype='object')\n",
      "RMS difference: -3.616751018487713e-05\n",
      "\n",
      "Try these regressors next: Index(['required_age', 'relase_year', 'Violent', 'Simulation', 'Strategy',\n",
      "       'Sexual Content', 'Action', 'RPG', 'Racing', 'Indie', 'Adventure',\n",
      "       'Casual', 'Co-op', 'Remote Play on TV', 'Full controller support',\n",
      "       'Includes Source SDK'],\n",
      "      dtype='object')\n",
      "RMS difference: -5.921746056367777e-05\n",
      "\n",
      "Try these regressors next: Index(['required_age', 'relase_year', 'Violent', 'Simulation', 'Strategy',\n",
      "       'Sexual Content', 'Action', 'RPG', 'Racing', 'Indie', 'Adventure',\n",
      "       'Casual', 'Co-op', 'Remote Play on TV', 'Full controller support',\n",
      "       'Includes Source SDK', 'Includes level editor'],\n",
      "      dtype='object')\n",
      "RMS difference: -0.00033371670102272377\n",
      "\n",
      "Try these regressors next: Index(['required_age', 'relase_year', 'Violent', 'Simulation', 'Strategy',\n",
      "       'Sexual Content', 'Action', 'RPG', 'Racing', 'Indie', 'Adventure',\n",
      "       'Casual', 'Co-op', 'Remote Play on TV', 'Full controller support',\n",
      "       'Includes Source SDK', 'Includes level editor', 'VR Supported'],\n",
      "      dtype='object')\n",
      "RMS difference: -5.490910685163053e-06\n",
      "\n",
      "Try these regressors next: Index(['required_age', 'relase_year', 'Violent', 'Simulation', 'Strategy',\n",
      "       'Sexual Content', 'Action', 'RPG', 'Racing', 'Indie', 'Adventure',\n",
      "       'Casual', 'Co-op', 'Remote Play on TV', 'Full controller support',\n",
      "       'Includes Source SDK', 'Includes level editor', 'VR Supported',\n",
      "       'VR Only'],\n",
      "      dtype='object')\n",
      "RMS difference: 3.078996330994899e-05\n",
      "\n",
      "Try these regressors next: Index(['required_age', 'relase_year', 'Violent', 'Simulation', 'Strategy',\n",
      "       'Sexual Content', 'Action', 'RPG', 'Racing', 'Indie', 'Adventure',\n",
      "       'Casual', 'Co-op', 'Remote Play on TV', 'Full controller support',\n",
      "       'Includes Source SDK', 'Includes level editor', 'VR Supported',\n",
      "       'Remote Play on Phone'],\n",
      "      dtype='object')\n",
      "RMS difference: -0.0003069884983184501\n",
      "\n",
      "Try these regressors next: Index(['required_age', 'relase_year', 'Violent', 'Simulation', 'Strategy',\n",
      "       'Sexual Content', 'Action', 'RPG', 'Racing', 'Indie', 'Adventure',\n",
      "       'Casual', 'Co-op', 'Remote Play on TV', 'Full controller support',\n",
      "       'Includes Source SDK', 'Includes level editor', 'VR Supported',\n",
      "       'Remote Play on Phone', 'LAN PvP'],\n",
      "      dtype='object')\n",
      "RMS difference: -2.4317372303281348e-05\n",
      "\n",
      "Try these regressors next: Index(['required_age', 'relase_year', 'Violent', 'Simulation', 'Strategy',\n",
      "       'Sexual Content', 'Action', 'RPG', 'Racing', 'Indie', 'Adventure',\n",
      "       'Casual', 'Co-op', 'Remote Play on TV', 'Full controller support',\n",
      "       'Includes Source SDK', 'Includes level editor', 'VR Supported',\n",
      "       'Remote Play on Phone', 'LAN PvP', 'Steam Leaderboards'],\n",
      "      dtype='object')\n",
      "RMS difference: -8.443274901194509e-05\n",
      "\n",
      "Try these regressors next: Index(['required_age', 'relase_year', 'Violent', 'Simulation', 'Strategy',\n",
      "       'Sexual Content', 'Action', 'RPG', 'Racing', 'Indie', 'Adventure',\n",
      "       'Casual', 'Co-op', 'Remote Play on TV', 'Full controller support',\n",
      "       'Includes Source SDK', 'Includes level editor', 'VR Supported',\n",
      "       'Remote Play on Phone', 'LAN PvP', 'Steam Leaderboards',\n",
      "       'Cross-Platform Multiplayer'],\n",
      "      dtype='object')\n",
      "RMS difference: -2.8858912624642186e-05\n",
      "\n",
      "Try these regressors next: Index(['required_age', 'relase_year', 'Violent', 'Simulation', 'Strategy',\n",
      "       'Sexual Content', 'Action', 'RPG', 'Racing', 'Indie', 'Adventure',\n",
      "       'Casual', 'Co-op', 'Remote Play on TV', 'Full controller support',\n",
      "       'Includes Source SDK', 'Includes level editor', 'VR Supported',\n",
      "       'Remote Play on Phone', 'LAN PvP', 'Steam Leaderboards',\n",
      "       'Cross-Platform Multiplayer', 'Single-player'],\n",
      "      dtype='object')\n",
      "RMS difference: -3.247058890221144e-05\n",
      "\n",
      "Try these regressors next: Index(['required_age', 'relase_year', 'Violent', 'Simulation', 'Strategy',\n",
      "       'Sexual Content', 'Action', 'RPG', 'Racing', 'Indie', 'Adventure',\n",
      "       'Casual', 'Co-op', 'Remote Play on TV', 'Full controller support',\n",
      "       'Includes Source SDK', 'Includes level editor', 'VR Supported',\n",
      "       'Remote Play on Phone', 'LAN PvP', 'Steam Leaderboards',\n",
      "       'Cross-Platform Multiplayer', 'Single-player', 'Captions available'],\n",
      "      dtype='object')\n",
      "RMS difference: -8.519399956261053e-06\n",
      "\n",
      "Try these regressors next: Index(['required_age', 'relase_year', 'Violent', 'Simulation', 'Strategy',\n",
      "       'Sexual Content', 'Action', 'RPG', 'Racing', 'Indie', 'Adventure',\n",
      "       'Casual', 'Co-op', 'Remote Play on TV', 'Full controller support',\n",
      "       'Includes Source SDK', 'Includes level editor', 'VR Supported',\n",
      "       'Remote Play on Phone', 'LAN PvP', 'Steam Leaderboards',\n",
      "       'Cross-Platform Multiplayer', 'Single-player', 'Captions available',\n",
      "       'Commentary available'],\n",
      "      dtype='object')\n",
      "RMS difference: 5.185755677997173e-07\n",
      "\n",
      "Try these regressors next: Index(['required_age', 'relase_year', 'Violent', 'Simulation', 'Strategy',\n",
      "       'Sexual Content', 'Action', 'RPG', 'Racing', 'Indie', 'Adventure',\n",
      "       'Casual', 'Co-op', 'Remote Play on TV', 'Full controller support',\n",
      "       'Includes Source SDK', 'Includes level editor', 'VR Supported',\n",
      "       'Remote Play on Phone', 'LAN PvP', 'Steam Leaderboards',\n",
      "       'Cross-Platform Multiplayer', 'Single-player', 'Captions available',\n",
      "       'Partial Controller Support'],\n",
      "      dtype='object')\n",
      "RMS difference: 1.0862513269746521e-05\n",
      "\n",
      "Try these regressors next: Index(['required_age', 'relase_year', 'Violent', 'Simulation', 'Strategy',\n",
      "       'Sexual Content', 'Action', 'RPG', 'Racing', 'Indie', 'Adventure',\n",
      "       'Casual', 'Co-op', 'Remote Play on TV', 'Full controller support',\n",
      "       'Includes Source SDK', 'Includes level editor', 'VR Supported',\n",
      "       'Remote Play on Phone', 'LAN PvP', 'Steam Leaderboards',\n",
      "       'Cross-Platform Multiplayer', 'Single-player', 'Captions available',\n",
      "       'Steam Turn Notifications'],\n",
      "      dtype='object')\n",
      "RMS difference: -1.3981104401407374e-05\n",
      "\n",
      "Try these regressors next: Index(['required_age', 'relase_year', 'Violent', 'Simulation', 'Strategy',\n",
      "       'Sexual Content', 'Action', 'RPG', 'Racing', 'Indie', 'Adventure',\n",
      "       'Casual', 'Co-op', 'Remote Play on TV', 'Full controller support',\n",
      "       'Includes Source SDK', 'Includes level editor', 'VR Supported',\n",
      "       'Remote Play on Phone', 'LAN PvP', 'Steam Leaderboards',\n",
      "       'Cross-Platform Multiplayer', 'Single-player', 'Captions available',\n",
      "       'Steam Turn Notifications', 'SteamVR Collectibles'],\n",
      "      dtype='object')\n",
      "RMS difference: 1.562532088528884e-05\n",
      "\n",
      "Try these regressors next: Index(['required_age', 'relase_year', 'Violent', 'Simulation', 'Strategy',\n",
      "       'Sexual Content', 'Action', 'RPG', 'Racing', 'Indie', 'Adventure',\n",
      "       'Casual', 'Co-op', 'Remote Play on TV', 'Full controller support',\n",
      "       'Includes Source SDK', 'Includes level editor', 'VR Supported',\n",
      "       'Remote Play on Phone', 'LAN PvP', 'Steam Leaderboards',\n",
      "       'Cross-Platform Multiplayer', 'Single-player', 'Captions available',\n",
      "       'Steam Turn Notifications', 'Downloadable Content'],\n",
      "      dtype='object')\n",
      "RMS difference: 4.395300201923136e-06\n",
      "\n",
      "Try these regressors next: Index(['required_age', 'relase_year', 'Violent', 'Simulation', 'Strategy',\n",
      "       'Sexual Content', 'Action', 'RPG', 'Racing', 'Indie', 'Adventure',\n",
      "       'Casual', 'Co-op', 'Remote Play on TV', 'Full controller support',\n",
      "       'Includes Source SDK', 'Includes level editor', 'VR Supported',\n",
      "       'Remote Play on Phone', 'LAN PvP', 'Steam Leaderboards',\n",
      "       'Cross-Platform Multiplayer', 'Single-player', 'Captions available',\n",
      "       'Steam Turn Notifications', 'In-App Purchases'],\n",
      "      dtype='object')\n",
      "RMS difference: -1.5199239278979038e-05\n",
      "\n",
      "Try these regressors next: Index(['required_age', 'relase_year', 'Violent', 'Simulation', 'Strategy',\n",
      "       'Sexual Content', 'Action', 'RPG', 'Racing', 'Indie', 'Adventure',\n",
      "       'Casual', 'Co-op', 'Remote Play on TV', 'Full controller support',\n",
      "       'Includes Source SDK', 'Includes level editor', 'VR Supported',\n",
      "       'Remote Play on Phone', 'LAN PvP', 'Steam Leaderboards',\n",
      "       'Cross-Platform Multiplayer', 'Single-player', 'Captions available',\n",
      "       'Steam Turn Notifications', 'In-App Purchases', 'Stats'],\n",
      "      dtype='object')\n"
     ]
    },
    {
     "name": "stdout",
     "output_type": "stream",
     "text": [
      "RMS difference: 9.636232040165227e-06\n",
      "\n",
      "Try these regressors next: Index(['required_age', 'relase_year', 'Violent', 'Simulation', 'Strategy',\n",
      "       'Sexual Content', 'Action', 'RPG', 'Racing', 'Indie', 'Adventure',\n",
      "       'Casual', 'Co-op', 'Remote Play on TV', 'Full controller support',\n",
      "       'Includes Source SDK', 'Includes level editor', 'VR Supported',\n",
      "       'Remote Play on Phone', 'LAN PvP', 'Steam Leaderboards',\n",
      "       'Cross-Platform Multiplayer', 'Single-player', 'Captions available',\n",
      "       'Steam Turn Notifications', 'In-App Purchases', 'Steam Trading Cards'],\n",
      "      dtype='object')\n",
      "RMS difference: -0.00012164952496283854\n",
      "\n",
      "Try these regressors next: Index(['required_age', 'relase_year', 'Violent', 'Simulation', 'Strategy',\n",
      "       'Sexual Content', 'Action', 'RPG', 'Racing', 'Indie', 'Adventure',\n",
      "       'Casual', 'Co-op', 'Remote Play on TV', 'Full controller support',\n",
      "       'Includes Source SDK', 'Includes level editor', 'VR Supported',\n",
      "       'Remote Play on Phone', 'LAN PvP', 'Steam Leaderboards',\n",
      "       'Cross-Platform Multiplayer', 'Single-player', 'Captions available',\n",
      "       'Steam Turn Notifications', 'In-App Purchases', 'Steam Trading Cards',\n",
      "       'Steam Achievements'],\n",
      "      dtype='object')\n",
      "RMS difference: -3.218027020344266e-05\n",
      "\n",
      "Try these regressors next: Index(['required_age', 'relase_year', 'Violent', 'Simulation', 'Strategy',\n",
      "       'Sexual Content', 'Action', 'RPG', 'Racing', 'Indie', 'Adventure',\n",
      "       'Casual', 'Co-op', 'Remote Play on TV', 'Full controller support',\n",
      "       'Includes Source SDK', 'Includes level editor', 'VR Supported',\n",
      "       'Remote Play on Phone', 'LAN PvP', 'Steam Leaderboards',\n",
      "       'Cross-Platform Multiplayer', 'Single-player', 'Captions available',\n",
      "       'Steam Turn Notifications', 'In-App Purchases', 'Steam Trading Cards',\n",
      "       'Steam Achievements', 'Shared/Split Screen'],\n",
      "      dtype='object')\n",
      "RMS difference: -9.102541868941105e-05\n",
      "\n",
      "Try these regressors next: Index(['required_age', 'relase_year', 'Violent', 'Simulation', 'Strategy',\n",
      "       'Sexual Content', 'Action', 'RPG', 'Racing', 'Indie', 'Adventure',\n",
      "       'Casual', 'Co-op', 'Remote Play on TV', 'Full controller support',\n",
      "       'Includes Source SDK', 'Includes level editor', 'VR Supported',\n",
      "       'Remote Play on Phone', 'LAN PvP', 'Steam Leaderboards',\n",
      "       'Cross-Platform Multiplayer', 'Single-player', 'Captions available',\n",
      "       'Steam Turn Notifications', 'In-App Purchases', 'Steam Trading Cards',\n",
      "       'Steam Achievements', 'Shared/Split Screen',\n",
      "       'Valve Anti-Cheat enabled'],\n",
      "      dtype='object')\n",
      "RMS difference: -0.00018877483557085822\n",
      "\n",
      "Try these regressors next: Index(['required_age', 'relase_year', 'Violent', 'Simulation', 'Strategy',\n",
      "       'Sexual Content', 'Action', 'RPG', 'Racing', 'Indie', 'Adventure',\n",
      "       'Casual', 'Co-op', 'Remote Play on TV', 'Full controller support',\n",
      "       'Includes Source SDK', 'Includes level editor', 'VR Supported',\n",
      "       'Remote Play on Phone', 'LAN PvP', 'Steam Leaderboards',\n",
      "       'Cross-Platform Multiplayer', 'Single-player', 'Captions available',\n",
      "       'Steam Turn Notifications', 'In-App Purchases', 'Steam Trading Cards',\n",
      "       'Steam Achievements', 'Shared/Split Screen', 'Valve Anti-Cheat enabled',\n",
      "       'Steam Workshop'],\n",
      "      dtype='object')\n",
      "RMS difference: -3.563845646096381e-05\n",
      "\n",
      "Try these regressors next: Index(['required_age', 'relase_year', 'Violent', 'Simulation', 'Strategy',\n",
      "       'Sexual Content', 'Action', 'RPG', 'Racing', 'Indie', 'Adventure',\n",
      "       'Casual', 'Co-op', 'Remote Play on TV', 'Full controller support',\n",
      "       'Includes Source SDK', 'Includes level editor', 'VR Supported',\n",
      "       'Remote Play on Phone', 'LAN PvP', 'Steam Leaderboards',\n",
      "       'Cross-Platform Multiplayer', 'Single-player', 'Captions available',\n",
      "       'Steam Turn Notifications', 'In-App Purchases', 'Steam Trading Cards',\n",
      "       'Steam Achievements', 'Shared/Split Screen', 'Valve Anti-Cheat enabled',\n",
      "       'Steam Workshop', 'MMO'],\n",
      "      dtype='object')\n",
      "RMS difference: 6.715036270688035e-05\n",
      "\n",
      "Try these regressors next: Index(['required_age', 'relase_year', 'Violent', 'Simulation', 'Strategy',\n",
      "       'Sexual Content', 'Action', 'RPG', 'Racing', 'Indie', 'Adventure',\n",
      "       'Casual', 'Co-op', 'Remote Play on TV', 'Full controller support',\n",
      "       'Includes Source SDK', 'Includes level editor', 'VR Supported',\n",
      "       'Remote Play on Phone', 'LAN PvP', 'Steam Leaderboards',\n",
      "       'Cross-Platform Multiplayer', 'Single-player', 'Captions available',\n",
      "       'Steam Turn Notifications', 'In-App Purchases', 'Steam Trading Cards',\n",
      "       'Steam Achievements', 'Shared/Split Screen', 'Valve Anti-Cheat enabled',\n",
      "       'Steam Workshop', 'Steam Cloud'],\n",
      "      dtype='object')\n",
      "RMS difference: -2.664183143868265e-05\n",
      "\n",
      "Try these regressors next: Index(['required_age', 'relase_year', 'Violent', 'Simulation', 'Strategy',\n",
      "       'Sexual Content', 'Action', 'RPG', 'Racing', 'Indie', 'Adventure',\n",
      "       'Casual', 'Co-op', 'Remote Play on TV', 'Full controller support',\n",
      "       'Includes Source SDK', 'Includes level editor', 'VR Supported',\n",
      "       'Remote Play on Phone', 'LAN PvP', 'Steam Leaderboards',\n",
      "       'Cross-Platform Multiplayer', 'Single-player', 'Captions available',\n",
      "       'Steam Turn Notifications', 'In-App Purchases', 'Steam Trading Cards',\n",
      "       'Steam Achievements', 'Shared/Split Screen', 'Valve Anti-Cheat enabled',\n",
      "       'Steam Workshop', 'Steam Cloud', 'VR Support'],\n",
      "      dtype='object')\n",
      "RMS difference: -3.2640765930055937e-06\n",
      "\n",
      "Try these regressors next: Index(['required_age', 'relase_year', 'Violent', 'Simulation', 'Strategy',\n",
      "       'Sexual Content', 'Action', 'RPG', 'Racing', 'Indie', 'Adventure',\n",
      "       'Casual', 'Co-op', 'Remote Play on TV', 'Full controller support',\n",
      "       'Includes Source SDK', 'Includes level editor', 'VR Supported',\n",
      "       'Remote Play on Phone', 'LAN PvP', 'Steam Leaderboards',\n",
      "       'Cross-Platform Multiplayer', 'Single-player', 'Captions available',\n",
      "       'Steam Turn Notifications', 'In-App Purchases', 'Steam Trading Cards',\n",
      "       'Steam Achievements', 'Shared/Split Screen', 'Valve Anti-Cheat enabled',\n",
      "       'Steam Workshop', 'Steam Cloud', 'VR Support', 'LAN Co-op'],\n",
      "      dtype='object')\n",
      "RMS difference: 6.671386381058159e-05\n",
      "\n",
      "Try these regressors next: Index(['required_age', 'relase_year', 'Violent', 'Simulation', 'Strategy',\n",
      "       'Sexual Content', 'Action', 'RPG', 'Racing', 'Indie', 'Adventure',\n",
      "       'Casual', 'Co-op', 'Remote Play on TV', 'Full controller support',\n",
      "       'Includes Source SDK', 'Includes level editor', 'VR Supported',\n",
      "       'Remote Play on Phone', 'LAN PvP', 'Steam Leaderboards',\n",
      "       'Cross-Platform Multiplayer', 'Single-player', 'Captions available',\n",
      "       'Steam Turn Notifications', 'In-App Purchases', 'Steam Trading Cards',\n",
      "       'Steam Achievements', 'Shared/Split Screen', 'Valve Anti-Cheat enabled',\n",
      "       'Steam Workshop', 'Steam Cloud', 'VR Support', 'Multi-player'],\n",
      "      dtype='object')\n",
      "RMS difference: -0.00021572193004473078\n",
      "\n",
      "Try these regressors next: Index(['required_age', 'relase_year', 'Violent', 'Simulation', 'Strategy',\n",
      "       'Sexual Content', 'Action', 'RPG', 'Racing', 'Indie', 'Adventure',\n",
      "       'Casual', 'Co-op', 'Remote Play on TV', 'Full controller support',\n",
      "       'Includes Source SDK', 'Includes level editor', 'VR Supported',\n",
      "       'Remote Play on Phone', 'LAN PvP', 'Steam Leaderboards',\n",
      "       'Cross-Platform Multiplayer', 'Single-player', 'Captions available',\n",
      "       'Steam Turn Notifications', 'In-App Purchases', 'Steam Trading Cards',\n",
      "       'Steam Achievements', 'Shared/Split Screen', 'Valve Anti-Cheat enabled',\n",
      "       'Steam Workshop', 'Steam Cloud', 'VR Support', 'Multi-player',\n",
      "       'Additional High-Quality Audio'],\n",
      "      dtype='object')\n",
      "RMS difference: -1.8046094268225898e-06\n",
      "\n",
      "Try these regressors next: Index(['required_age', 'relase_year', 'Violent', 'Simulation', 'Strategy',\n",
      "       'Sexual Content', 'Action', 'RPG', 'Racing', 'Indie', 'Adventure',\n",
      "       'Casual', 'Co-op', 'Remote Play on TV', 'Full controller support',\n",
      "       'Includes Source SDK', 'Includes level editor', 'VR Supported',\n",
      "       'Remote Play on Phone', 'LAN PvP', 'Steam Leaderboards',\n",
      "       'Cross-Platform Multiplayer', 'Single-player', 'Captions available',\n",
      "       'Steam Turn Notifications', 'In-App Purchases', 'Steam Trading Cards',\n",
      "       'Steam Achievements', 'Shared/Split Screen', 'Valve Anti-Cheat enabled',\n",
      "       'Steam Workshop', 'Steam Cloud', 'VR Support', 'Multi-player',\n",
      "       'Additional High-Quality Audio', 'windows'],\n",
      "      dtype='object')\n",
      "RMS difference: -3.4960969073905e-07\n",
      "\n",
      "Try these regressors next: Index(['required_age', 'relase_year', 'Violent', 'Simulation', 'Strategy',\n",
      "       'Sexual Content', 'Action', 'RPG', 'Racing', 'Indie', 'Adventure',\n",
      "       'Casual', 'Co-op', 'Remote Play on TV', 'Full controller support',\n",
      "       'Includes Source SDK', 'Includes level editor', 'VR Supported',\n",
      "       'Remote Play on Phone', 'LAN PvP', 'Steam Leaderboards',\n",
      "       'Cross-Platform Multiplayer', 'Single-player', 'Captions available',\n",
      "       'Steam Turn Notifications', 'In-App Purchases', 'Steam Trading Cards',\n",
      "       'Steam Achievements', 'Shared/Split Screen', 'Valve Anti-Cheat enabled',\n",
      "       'Steam Workshop', 'Steam Cloud', 'VR Support', 'Multi-player',\n",
      "       'Additional High-Quality Audio', 'windows', 'mac'],\n",
      "      dtype='object')\n",
      "RMS difference: -0.0003461953113531105\n",
      "\n",
      "Try these regressors next: Index(['required_age', 'relase_year', 'Violent', 'Simulation', 'Strategy',\n",
      "       'Sexual Content', 'Action', 'RPG', 'Racing', 'Indie', 'Adventure',\n",
      "       'Casual', 'Co-op', 'Remote Play on TV', 'Full controller support',\n",
      "       'Includes Source SDK', 'Includes level editor', 'VR Supported',\n",
      "       'Remote Play on Phone', 'LAN PvP', 'Steam Leaderboards',\n",
      "       'Cross-Platform Multiplayer', 'Single-player', 'Captions available',\n",
      "       'Steam Turn Notifications', 'In-App Purchases', 'Steam Trading Cards',\n",
      "       'Steam Achievements', 'Shared/Split Screen', 'Valve Anti-Cheat enabled',\n",
      "       'Steam Workshop', 'Steam Cloud', 'VR Support', 'Multi-player',\n",
      "       'Additional High-Quality Audio', 'windows', 'mac', 'linux'],\n",
      "      dtype='object')\n",
      "RMS difference: -3.3680948463538085e-05\n",
      "\n"
     ]
    }
   ],
   "source": [
    "best_fit_indices_min = find_best_fit_minimize(df_test)"
   ]
  },
  {
   "cell_type": "code",
   "execution_count": 292,
   "metadata": {},
   "outputs": [],
   "source": [
    "#best_fit_indices_min"
   ]
  },
  {
   "cell_type": "code",
   "execution_count": 293,
   "metadata": {},
   "outputs": [
    {
     "data": {
      "text/plain": [
       "Index(['required_age', 'relase_year', 'Violent', 'Simulation', 'Strategy',\n",
       "       'Sexual Content', 'Action', 'RPG', 'Racing', 'Indie', 'Adventure',\n",
       "       'Casual', 'Co-op', 'Remote Play on TV', 'Full controller support',\n",
       "       'Includes Source SDK', 'Includes level editor', 'VR Supported',\n",
       "       'Remote Play on Phone', 'LAN PvP', 'Steam Leaderboards',\n",
       "       'Cross-Platform Multiplayer', 'Single-player', 'Captions available',\n",
       "       'Steam Turn Notifications', 'In-App Purchases', 'Steam Trading Cards',\n",
       "       'Steam Achievements', 'Shared/Split Screen', 'Valve Anti-Cheat enabled',\n",
       "       'Steam Workshop', 'Steam Cloud', 'VR Support', 'Multi-player',\n",
       "       'Additional High-Quality Audio', 'windows', 'mac', 'linux'],\n",
       "      dtype='object')"
      ]
     },
     "execution_count": 293,
     "metadata": {},
     "output_type": "execute_result"
    }
   ],
   "source": [
    "df.columns[best_fit_indices_min[1]]"
   ]
  },
  {
   "cell_type": "code",
   "execution_count": 294,
   "metadata": {},
   "outputs": [],
   "source": [
    "X_train, X_test, y_train, y_test = train_test_split(df_test[df_test.columns[best_fit_indices_min[1]]],df_test[\"score\"] , test_size=0.3, random_state=42)\n",
    "reg = LinearRegression().fit(X_train, y_train)\n",
    "y_pred = reg.predict(X_test)\n",
    "explained_var = explained_variance_score(y_test, y_pred)\n",
    "MSE = mean_squared_error(y_pred, y_test)"
   ]
  },
  {
   "cell_type": "code",
   "execution_count": 295,
   "metadata": {},
   "outputs": [
    {
     "data": {
      "text/plain": [
       "(0.1313495446048062, 0.041616849090751126)"
      ]
     },
     "execution_count": 295,
     "metadata": {},
     "output_type": "execute_result"
    }
   ],
   "source": [
    "explained_var, MSE"
   ]
  },
  {
   "cell_type": "markdown",
   "metadata": {},
   "source": [
    "### plot distribution of residuals"
   ]
  },
  {
   "cell_type": "code",
   "execution_count": 296,
   "metadata": {},
   "outputs": [
    {
     "data": {
      "text/plain": [
       "[<matplotlib.lines.Line2D at 0x22b22d4d880>]"
      ]
     },
     "execution_count": 296,
     "metadata": {},
     "output_type": "execute_result"
    },
    {
     "data": {
      "image/png": "[encoded data removed]",
      "text/plain": [
       "<Figure size 432x288 with 1 Axes>"
      ]
     },
     "metadata": {
      "needs_background": "light"
     },
     "output_type": "display_data"
    }
   ],
   "source": [
    "plt.plot(y_pred, (y_pred - y_test) ,\".\")"
   ]
  },
  {
   "cell_type": "code",
   "execution_count": 297,
   "metadata": {},
   "outputs": [],
   "source": [
    "# is this distribution normal-distributed?"
   ]
  },
  {
   "cell_type": "markdown",
   "metadata": {},
   "source": [
    "### plot predicted values against actual values"
   ]
  },
  {
   "cell_type": "code",
   "execution_count": 298,
   "metadata": {},
   "outputs": [
    {
     "data": {
      "text/plain": [
       "[<matplotlib.lines.Line2D at 0x22b1ee7ae50>]"
      ]
     },
     "execution_count": 298,
     "metadata": {},
     "output_type": "execute_result"
    },
    {
     "data": {
      "image/png": "[encoded data removed]",
      "text/plain": [
       "<Figure size 432x288 with 1 Axes>"
      ]
     },
     "metadata": {
      "needs_background": "light"
     },
     "output_type": "display_data"
    }
   ],
   "source": [
    "plt.plot(y_pred, y_test ,\".\")"
   ]
  },
  {
   "cell_type": "markdown",
   "metadata": {},
   "source": [
    "#### compare to prediction of values that model was trained on"
   ]
  },
  {
   "cell_type": "code",
   "execution_count": 299,
   "metadata": {},
   "outputs": [],
   "source": [
    "y_pred_train = reg.predict(X_train)"
   ]
  },
  {
   "cell_type": "code",
   "execution_count": 300,
   "metadata": {},
   "outputs": [
    {
     "data": {
      "text/plain": [
       "[<matplotlib.lines.Line2D at 0x22ac9f680d0>]"
      ]
     },
     "execution_count": 300,
     "metadata": {},
     "output_type": "execute_result"
    },
    {
     "data": {
      "image/png": "[encoded data removed]",
      "text/plain": [
       "<Figure size 432x288 with 1 Axes>"
      ]
     },
     "metadata": {
      "needs_background": "light"
     },
     "output_type": "display_data"
    }
   ],
   "source": [
    "plt.plot(y_pred_train, y_pred_train - y_train ,\".\")"
   ]
  },
  {
   "cell_type": "code",
   "execution_count": 301,
   "metadata": {},
   "outputs": [
    {
     "data": {
      "text/plain": [
       "[<matplotlib.lines.Line2D at 0x22b1eab6ee0>]"
      ]
     },
     "execution_count": 301,
     "metadata": {},
     "output_type": "execute_result"
    },
    {
     "data": {
      "image/png": "[encoded data removed]",
      "text/plain": [
       "<Figure size 432x288 with 1 Axes>"
      ]
     },
     "metadata": {
      "needs_background": "light"
     },
     "output_type": "display_data"
    }
   ],
   "source": [
    "plt.plot(y_pred_train, y_train ,\".\")"
   ]
  },
  {
   "cell_type": "markdown",
   "metadata": {},
   "source": [
    "Model overall seems to make better prediction for higher scores, which is unsurprising, as score histograms shows that most score are between 0.7-1.0 -> model is trained on a lot of data with scores in that interval, therefore makes better predictions for data with scores in that interval??"
   ]
  },
  {
   "cell_type": "markdown",
   "metadata": {},
   "source": [
    "## check which variable has biggest effect on MSE"
   ]
  },
  {
   "cell_type": "markdown",
   "metadata": {},
   "source": [
    "## get error when all variables are included"
   ]
  },
  {
   "cell_type": "code",
   "execution_count": 302,
   "metadata": {},
   "outputs": [],
   "source": [
    "#trans= PowerTransformer()\n",
    "#reg = LinearRegression()\n",
    "#regression = TransformedTargetRegressor(regressor = reg, transformer = trans)\n",
    "X_train, X_test, y_train, y_test = train_test_split(df_test.iloc[:,0:-1],df_test[\"score\"] , test_size=0.3, random_state=42)\n",
    "reg = LinearRegression().fit(X_train, y_train)\n",
    "y_pred = reg.predict(X_test)\n",
    "reg_rmse_full = mean_squared_error(y_pred, y_test)\n",
    "explained_var_full = explained_variance_score(y_test, y_pred)"
   ]
  },
  {
   "cell_type": "code",
   "execution_count": 303,
   "metadata": {},
   "outputs": [
    {
     "data": {
      "text/plain": [
       "(0.041616849090751126, 0.12119112135078747)"
      ]
     },
     "execution_count": 303,
     "metadata": {},
     "output_type": "execute_result"
    }
   ],
   "source": [
    "MSE, explained_var_full"
   ]
  },
  {
   "cell_type": "markdown",
   "metadata": {},
   "source": [
    "### get all possible combinations where one variable is missing"
   ]
  },
  {
   "cell_type": "code",
   "execution_count": 304,
   "metadata": {},
   "outputs": [],
   "source": [
    "column_indices = list(range(0,len(df.columns)-1))"
   ]
  },
  {
   "cell_type": "code",
   "execution_count": 305,
   "metadata": {},
   "outputs": [],
   "source": [
    "#df.columns[column_indices]"
   ]
  },
  {
   "cell_type": "code",
   "execution_count": 306,
   "metadata": {},
   "outputs": [],
   "source": [
    "H = np.zeros((len(column_indices),len(column_indices)-1))"
   ]
  },
  {
   "cell_type": "code",
   "execution_count": 307,
   "metadata": {},
   "outputs": [
    {
     "data": {
      "text/plain": [
       "(53, 52)"
      ]
     },
     "execution_count": 307,
     "metadata": {},
     "output_type": "execute_result"
    }
   ],
   "source": [
    "H.shape"
   ]
  },
  {
   "cell_type": "code",
   "execution_count": 308,
   "metadata": {},
   "outputs": [],
   "source": [
    "#column_indices"
   ]
  },
  {
   "cell_type": "code",
   "execution_count": 309,
   "metadata": {},
   "outputs": [],
   "source": [
    "H[:] = np.array(range(0,len(df.columns)-1)).reshape(-1,1)"
   ]
  },
  {
   "cell_type": "code",
   "execution_count": 310,
   "metadata": {},
   "outputs": [],
   "source": [
    "H = H.T"
   ]
  },
  {
   "cell_type": "code",
   "execution_count": 311,
   "metadata": {},
   "outputs": [],
   "source": [
    "# create array of indices where always one variable is missing:\n",
    "H = np.sort(H.reshape(len(column_indices),len(column_indices)-1))"
   ]
  },
  {
   "cell_type": "code",
   "execution_count": 312,
   "metadata": {},
   "outputs": [],
   "source": [
    "#df.columns[18:]"
   ]
  },
  {
   "cell_type": "code",
   "execution_count": 313,
   "metadata": {},
   "outputs": [],
   "source": [
    "#for j in H:\n",
    "#    print(j)"
   ]
  },
  {
   "cell_type": "markdown",
   "metadata": {},
   "source": [
    "### perform regression for all combinations, find out for which variable the difference in MSE is biggest compared to regression with all variables included"
   ]
  },
  {
   "cell_type": "markdown",
   "metadata": {},
   "source": [
    "### correlation plot is better method? check 5 variables of biggest influences"
   ]
  },
  {
   "cell_type": "code",
   "execution_count": 314,
   "metadata": {},
   "outputs": [],
   "source": [
    "Diff = np.ones(H.shape[0])\n",
    "Diff_r2 = np.ones(H.shape[0])"
   ]
  },
  {
   "cell_type": "code",
   "execution_count": 318,
   "metadata": {},
   "outputs": [],
   "source": [
    "max_differece = np.NINF\n",
    "max_idx =0\n",
    "min_difference = np.Inf\n",
    "min_idx = 0\n",
    "#Top5_absolute = np.zeros(5)\n",
    "for idx, indices in enumerate(H):\n",
    "    #print(np.setdiff1d(column_indices, H[idx][-1::-1]))\n",
    "    #print(np.setdiff1d(column_indices, indices))\n",
    "    # do linear regression\n",
    "    #print(indices)\n",
    "    trans= PowerTransformer()\n",
    "    reg = LinearRegression()\n",
    "    regression = TransformedTargetRegressor(regressor = reg, transformer = trans)\n",
    "    X_train, X_test, y_train, y_test = train_test_split(df_test.iloc[:,indices],df_test[\"score\"] , test_size=0.3, random_state=42)\n",
    "    regression.fit(X_train, y_train)\n",
    "    y_pred = regression.predict(X_test)\n",
    "    reg_rmse = mean_squared_error(y_test, y_pred)\n",
    "    #r2 = r2_score(y_test, y_pred)\n",
    "    var_idx = np.setdiff1d(column_indices, indices)[0]\n",
    "    #print(var_idx)\n",
    "    #print(\"MSE: {}, name of missing variable: {}\".format(reg_rmse, df.columns[var_idx]))\n",
    "    #print(r2)\n",
    "    \n",
    "    # caclculate biggest difference in MSE of one missing variables compared to model with all variables.\n",
    "    \n",
    "    # calculate error of model with all variables - model with one missing variable\n",
    "    Diff[idx] = reg_rmse_full- reg_rmse\n",
    "    #Diff_r2[idx] = r2_full - r2\n",
    "    \n",
    "    #if error is positive, full model is worse than model with one variable removed.\n",
    "    if Diff[idx] > max_differece:\n",
    "        max_differece=Diff[idx]\n",
    "        max_idx = var_idx\n",
    "       \n",
    "    \n",
    "    # if error is negative, model with one variable removed is worse compared to full model\n",
    "    if Diff[idx] < min_difference:\n",
    "        min_difference=Diff[idx]\n",
    "        min_idx = var_idx\n",
    "        \n",
    "    #for j in range(len(Top5_absolute)):\n",
    "    #    if np.abs(Diff[idx])>Top5_absolute[j]:\n",
    "            \n",
    "    \n",
    "    \n"
   ]
  },
  {
   "cell_type": "code",
   "execution_count": 319,
   "metadata": {},
   "outputs": [
    {
     "data": {
      "text/plain": [
       "-0.000699606608394153"
      ]
     },
     "execution_count": 319,
     "metadata": {},
     "output_type": "execute_result"
    }
   ],
   "source": [
    "max_differece"
   ]
  },
  {
   "cell_type": "code",
   "execution_count": 320,
   "metadata": {},
   "outputs": [
    {
     "data": {
      "text/plain": [
       "-0.0018486976328165247"
      ]
     },
     "execution_count": 320,
     "metadata": {},
     "output_type": "execute_result"
    }
   ],
   "source": [
    "min_difference"
   ]
  },
  {
   "cell_type": "code",
   "execution_count": 321,
   "metadata": {},
   "outputs": [],
   "source": [
    "# max difference for Casual as price is already included?"
   ]
  },
  {
   "cell_type": "code",
   "execution_count": 322,
   "metadata": {},
   "outputs": [],
   "source": [
    "# Lan Co-op worst variable for prediction?"
   ]
  },
  {
   "cell_type": "code",
   "execution_count": 323,
   "metadata": {},
   "outputs": [
    {
     "data": {
      "text/plain": [
       "'MMO'"
      ]
     },
     "execution_count": 323,
     "metadata": {},
     "output_type": "execute_result"
    }
   ],
   "source": [
    "df.columns[max_idx]"
   ]
  },
  {
   "cell_type": "code",
   "execution_count": 324,
   "metadata": {},
   "outputs": [],
   "source": [
    "#release_year best_variable for prediction"
   ]
  },
  {
   "cell_type": "code",
   "execution_count": 325,
   "metadata": {},
   "outputs": [
    {
     "data": {
      "text/plain": [
       "'relase_year'"
      ]
     },
     "execution_count": 325,
     "metadata": {},
     "output_type": "execute_result"
    }
   ],
   "source": [
    "df.columns[min_idx]"
   ]
  },
  {
   "cell_type": "markdown",
   "metadata": {},
   "source": [
    "## compare histograms conditioned on MMO, Indie and release_year"
   ]
  },
  {
   "cell_type": "markdown",
   "metadata": {},
   "source": []
  },
  {
   "cell_type": "code",
   "execution_count": 93,
   "metadata": {},
   "outputs": [],
   "source": [
    "#df.loc[df['Valve Anti-Cheat enabled'] == 1][\"score\"]"
   ]
  },
  {
   "cell_type": "code",
   "execution_count": 94,
   "metadata": {},
   "outputs": [
    {
     "data": {
      "text/plain": [
       "(array([2.04185809e-03, 2.04185809e-03, 3.26697295e-02, 3.67534456e-02,\n",
       "        4.69627361e-02, 9.39254722e-02, 1.49055641e-01, 1.73557938e-01,\n",
       "        2.53190403e-01, 3.04236856e-01, 5.10464523e-01, 6.55436447e-01,\n",
       "        8.90250128e-01, 1.19244513e+00, 1.61919347e+00, 2.20316488e+00,\n",
       "        2.66870852e+00, 3.15262889e+00, 3.63450740e+00, 2.37876468e+00]),\n",
       " array([0.  , 0.05, 0.1 , 0.15, 0.2 , 0.25, 0.3 , 0.35, 0.4 , 0.45, 0.5 ,\n",
       "        0.55, 0.6 , 0.65, 0.7 , 0.75, 0.8 , 0.85, 0.9 , 0.95, 1.  ]),\n",
       " <BarContainer object of 20 artists>)"
      ]
     },
     "execution_count": 94,
     "metadata": {},
     "output_type": "execute_result"
    },
    {
     "data": {
      "image/png": "[encoded data removed]",
      "text/plain": [
       "<Figure size 1152x360 with 3 Axes>"
      ]
     },
     "metadata": {
      "needs_background": "light"
     },
     "output_type": "display_data"
    }
   ],
   "source": [
    "bins = np.linspace(0,1,21)\n",
    "fig, (ax1, ax2, ax3) = plt.subplots(1, 3,figsize=(16, 5))\n",
    "fig.suptitle('MMO', fontsize=16)\n",
    "ax1.hist(df.loc[df['MMO'] == 1][\"score\"],bins)\n",
    "ax2.hist(df.loc[df[\"MMO\"] == 0][\"score\"],bins)\n",
    "ax1.set_title(\"MMO=1\")\n",
    "ax2.set_title(\"MMO=0\")\n",
    "ax3.hist(df.loc[df['MMO'] == 1][\"score\"],bins, density=True, alpha=0.5)\n",
    "ax3.hist(df.loc[df[\"MMO\"] == 0][\"score\"],bins, density=True, alpha=0.5)"
   ]
  },
  {
   "cell_type": "markdown",
   "metadata": {},
   "source": [
    "eyeballing the plot shows already that MMOs are worse rated than non-MMOs. This goes against our prediction that that MMOs are better rated, as playing togehter is supposedly more fun (explanation could be bugs, toxic gamers etc.)"
   ]
  },
  {
   "cell_type": "markdown",
   "metadata": {},
   "source": [
    "confirm with Whitney U-Test:"
   ]
  },
  {
   "cell_type": "code",
   "execution_count": 95,
   "metadata": {},
   "outputs": [
    {
     "data": {
      "text/plain": [
       "MannwhitneyuResult(statistic=1368567.0, pvalue=1.0)"
      ]
     },
     "execution_count": 95,
     "metadata": {},
     "output_type": "execute_result"
    }
   ],
   "source": [
    "stats.mannwhitneyu(df.loc[df[\"MMO\"] == 0][\"score\"], df.loc[df['MMO'] == 1][\"score\"],alternative=\"less\")"
   ]
  },
  {
   "cell_type": "markdown",
   "metadata": {},
   "source": [
    "whitneyu provides evidence that distribution of MMO=1 is NOT higher than distribution of MMO=0."
   ]
  },
  {
   "cell_type": "code",
   "execution_count": 96,
   "metadata": {},
   "outputs": [
    {
     "data": {
      "text/plain": [
       "(array([2.23588597e-03, 2.23588597e-03, 2.90665176e-02, 2.45947457e-02,\n",
       "        3.13024036e-02, 7.82560089e-02, 1.20737842e-01, 1.38624930e-01,\n",
       "        2.28060369e-01, 2.90665176e-01, 4.38233650e-01, 6.19340414e-01,\n",
       "        9.03297932e-01, 1.20290665e+00, 1.62101733e+00, 2.18893236e+00,\n",
       "        2.70542202e+00, 3.21296814e+00, 3.74734489e+00, 2.41475685e+00]),\n",
       " array([0.  , 0.05, 0.1 , 0.15, 0.2 , 0.25, 0.3 , 0.35, 0.4 , 0.45, 0.5 ,\n",
       "        0.55, 0.6 , 0.65, 0.7 , 0.75, 0.8 , 0.85, 0.9 , 0.95, 1.  ]),\n",
       " <BarContainer object of 20 artists>)"
      ]
     },
     "execution_count": 96,
     "metadata": {},
     "output_type": "execute_result"
    },
    {
     "data": {
      "image/png": "[encoded data removed]",
      "text/plain": [
       "<Figure size 1152x360 with 3 Axes>"
      ]
     },
     "metadata": {
      "needs_background": "light"
     },
     "output_type": "display_data"
    }
   ],
   "source": [
    "bins = np.linspace(0,1,21)\n",
    "fig, (ax1, ax2, ax3) = plt.subplots(1, 3,figsize=(16, 5))\n",
    "fig.suptitle('Downloadable Content', fontsize=16)\n",
    "ax1.hist(df.loc[df['Downloadable Content'] == 1][\"score\"],bins)\n",
    "ax2.hist(df.loc[df['Downloadable Content'] == 0][\"score\"],bins)\n",
    "ax1.set_title(\"Downloadable Content=1\")\n",
    "ax2.set_title(\"Downloadable Content=0\")\n",
    "ax3.hist(df.loc[df['Downloadable Content'] == 1][\"score\"],bins, density=True, alpha=0.5)\n",
    "ax3.hist(df.loc[df['Downloadable Content'] == 0][\"score\"],bins, density=True, alpha=0.5)"
   ]
  },
  {
   "cell_type": "code",
   "execution_count": 97,
   "metadata": {},
   "outputs": [],
   "source": [
    "#stats.mannwhitneyu(df.loc[df['Downloadable Content'] == 0][\"score\"], df.loc[df['Downloadable Content'] == 1][\"score\"],alternative=\"less\")"
   ]
  },
  {
   "cell_type": "code",
   "execution_count": 98,
   "metadata": {},
   "outputs": [
    {
     "data": {
      "text/plain": [
       "(array([0.00516529, 0.00516529, 0.08780992, 0.06198347, 0.08780992,\n",
       "        0.15495868, 0.20144628, 0.25309917, 0.30475207, 0.4803719 ,\n",
       "        0.73863636, 0.79028926, 1.07438017, 1.24483471, 1.70454545,\n",
       "        2.23140496, 2.74793388, 3.01136364, 3.00619835, 1.80785124]),\n",
       " array([0.  , 0.05, 0.1 , 0.15, 0.2 , 0.25, 0.3 , 0.35, 0.4 , 0.45, 0.5 ,\n",
       "        0.55, 0.6 , 0.65, 0.7 , 0.75, 0.8 , 0.85, 0.9 , 0.95, 1.  ]),\n",
       " <BarContainer object of 20 artists>)"
      ]
     },
     "execution_count": 98,
     "metadata": {},
     "output_type": "execute_result"
    },
    {
     "data": {
      "image/png": "[encoded data removed]",
      "text/plain": [
       "<Figure size 1152x360 with 3 Axes>"
      ]
     },
     "metadata": {
      "needs_background": "light"
     },
     "output_type": "display_data"
    }
   ],
   "source": [
    "bins = np.linspace(0,1,21)\n",
    "fig, (ax1, ax2, ax3) = plt.subplots(1, 3,figsize=(16, 5))\n",
    "fig.suptitle('Downloadable Content', fontsize=16)\n",
    "ax1.hist(df.loc[df['Indie'] == 1][\"score\"],bins)\n",
    "ax2.hist(df.loc[df['Indie'] == 0][\"score\"],bins)\n",
    "ax1.set_title('Indie=1')\n",
    "ax2.set_title('Indie=0')\n",
    "ax3.hist(df.loc[df['Indie'] == 1][\"score\"],bins, density=True, alpha=0.5)\n",
    "ax3.hist(df.loc[df['Indie'] == 0][\"score\"],bins, density=True, alpha=0.5)"
   ]
  },
  {
   "cell_type": "code",
   "execution_count": 99,
   "metadata": {},
   "outputs": [
    {
     "data": {
      "text/plain": [
       "MannwhitneyuResult(statistic=10105239.0, pvalue=3.482767775659734e-36)"
      ]
     },
     "execution_count": 99,
     "metadata": {},
     "output_type": "execute_result"
    }
   ],
   "source": [
    "stats.mannwhitneyu(df.loc[df['Indie'] == 0][\"score\"], df.loc[df['Indie'] == 1][\"score\"], alternative=\"less\")"
   ]
  },
  {
   "cell_type": "markdown",
   "metadata": {},
   "source": [
    "Whitneyu provides evidence that Indie games are better than non-indie games"
   ]
  },
  {
   "cell_type": "code",
   "execution_count": 100,
   "metadata": {},
   "outputs": [],
   "source": [
    "#set(df[\"relase_year\"])"
   ]
  },
  {
   "cell_type": "code",
   "execution_count": 101,
   "metadata": {},
   "outputs": [],
   "source": [
    "A = np.zeros(len(set(df[\"relase_year\"])))\n",
    "for i in range(len(set(df[\"relase_year\"]))):\n",
    "    A[i] = np.mean(df.loc[lambda df: df.relase_year == 1998+i,\"score\"])\n",
    "    "
   ]
  },
  {
   "cell_type": "code",
   "execution_count": 102,
   "metadata": {},
   "outputs": [
    {
     "data": {
      "text/plain": [
       "Text(0.5, 1.0, 'average game-score by release year')"
      ]
     },
     "execution_count": 102,
     "metadata": {},
     "output_type": "execute_result"
    },
    {
     "data": {
      "image/png": "[encoded data removed]",
      "text/plain": [
       "<Figure size 432x288 with 1 Axes>"
      ]
     },
     "metadata": {
      "needs_background": "light"
     },
     "output_type": "display_data"
    }
   ],
   "source": [
    "plt.plot(A,\".\")\n",
    "plt.ylabel(\"Score\")\n",
    "plt.xlabel(\"release year\")\n",
    "plt.xticks([2,7,12,17,22],labels=[\"2000\",\"2005\", \"2010\", \"2015\", \"2020\"])\n",
    "plt.title(\"average game-score by release year\")"
   ]
  },
  {
   "cell_type": "markdown",
   "metadata": {},
   "source": [
    "Dem anschein nach scheinen spiele mal besser (bewertet) gewesen zu sein. Der Plot ist Allerdings mit Vorsicht zu genießen,\n",
    "z.B. für die Jahre 1998,1999 sind nur 1-2 Spiele im Datensatz."
   ]
  },
  {
   "cell_type": "markdown",
   "metadata": {},
   "source": [
    "# try comparing all histograms conditioned on all categorical variables:"
   ]
  },
  {
   "cell_type": "code",
   "execution_count": 103,
   "metadata": {},
   "outputs": [],
   "source": [
    "#for idx in range(1, len(df.columns)-1):\n",
    "#    fig, (ax1, ax2) = plt.subplots(1, 2,figsize=(14, 5))\n",
    "#    fig.suptitle(df.columns[idx], fontsize=16)\n",
    "#    ax1.hist(df.loc[df.iloc[:,idx] == 1][\"score\"],bins)\n",
    "#    ax2.hist(df.loc[df.iloc[:,idx] == 0][\"score\"],bins)\n",
    "#    ax1.set_title(df.columns[idx]+\"=1\")\n",
    "#    ax2.set_title(df.columns[idx]+\"=0\")"
   ]
  },
  {
   "cell_type": "markdown",
   "metadata": {},
   "source": [
    "# standardize data before using it as NN input"
   ]
  },
  {
   "cell_type": "code",
   "execution_count": 361,
   "metadata": {},
   "outputs": [],
   "source": [
    "df_stand = df.copy(deep=True)"
   ]
  },
  {
   "cell_type": "code",
   "execution_count": 362,
   "metadata": {},
   "outputs": [],
   "source": [
    "age = df[\"required_age\"]"
   ]
  },
  {
   "cell_type": "code",
   "execution_count": 363,
   "metadata": {},
   "outputs": [],
   "source": [
    "df_stand[\"required_age\"] = (age-np.mean(age))/np.std(age)"
   ]
  },
  {
   "cell_type": "code",
   "execution_count": null,
   "metadata": {},
   "outputs": [],
   "source": []
  },
  {
   "cell_type": "code",
   "execution_count": 364,
   "metadata": {},
   "outputs": [],
   "source": [
    "price = np.array(df[\"price\"]).reshape(-1)"
   ]
  },
  {
   "cell_type": "code",
   "execution_count": 365,
   "metadata": {},
   "outputs": [],
   "source": [
    "df_stand[\"price\"] = (price-np.mean(price))/np.std(price)"
   ]
  },
  {
   "cell_type": "code",
   "execution_count": null,
   "metadata": {},
   "outputs": [],
   "source": []
  },
  {
   "cell_type": "code",
   "execution_count": 366,
   "metadata": {},
   "outputs": [],
   "source": [
    "year = df[\"relase_year\"]"
   ]
  },
  {
   "cell_type": "code",
   "execution_count": 367,
   "metadata": {},
   "outputs": [],
   "source": [
    "df_stand[\"relase_year\"] = (year-np.mean(year))/np.std(year)"
   ]
  },
  {
   "cell_type": "code",
   "execution_count": 368,
   "metadata": {},
   "outputs": [
    {
     "data": {
      "text/plain": [
       "0       0.955032\n",
       "1       0.733668\n",
       "2       0.921053\n",
       "3       0.953191\n",
       "4       0.971429\n",
       "          ...   \n",
       "9995    0.921875\n",
       "9996    0.660407\n",
       "9997    0.677665\n",
       "9998    0.973799\n",
       "9999    0.601449\n",
       "Name: score, Length: 10000, dtype: float64"
      ]
     },
     "execution_count": 368,
     "metadata": {},
     "output_type": "execute_result"
    }
   ],
   "source": [
    "df_stand[\"score\"]"
   ]
  },
  {
   "cell_type": "code",
   "execution_count": 369,
   "metadata": {},
   "outputs": [],
   "source": [
    "#score = df[\"score\"]"
   ]
  },
  {
   "cell_type": "code",
   "execution_count": 370,
   "metadata": {},
   "outputs": [],
   "source": [
    "#df_stand[\"score\"] = (score-np.mean(score))/np.std(score)"
   ]
  },
  {
   "cell_type": "code",
   "execution_count": 371,
   "metadata": {},
   "outputs": [],
   "source": [
    "#df_stand"
   ]
  },
  {
   "cell_type": "markdown",
   "metadata": {},
   "source": [
    "# try achieving less error with NN"
   ]
  },
  {
   "cell_type": "code",
   "execution_count": 372,
   "metadata": {},
   "outputs": [],
   "source": [
    "import torch\n",
    "import torch.nn as nn\n",
    "import torch.nn.functional as F\n",
    "import torch.optim as optim\n",
    "from torch.utils.data import Dataset, DataLoader\n",
    "from torchvision import transforms, utils\n",
    "from skimage import io, transform"
   ]
  },
  {
   "cell_type": "code",
   "execution_count": 373,
   "metadata": {},
   "outputs": [],
   "source": [
    "import datetime"
   ]
  },
  {
   "cell_type": "code",
   "execution_count": 374,
   "metadata": {},
   "outputs": [],
   "source": [
    "device = (torch.device('cuda') if torch.cuda.is_available()\n",
    "else torch.device('cpu'))"
   ]
  },
  {
   "cell_type": "code",
   "execution_count": 375,
   "metadata": {},
   "outputs": [],
   "source": [
    "class SteamData(Dataset):\n",
    "    def __init__(self, df):\n",
    "        super().__init__()\n",
    "        self.df = df\n",
    "        self.data_size = len(self.df)\n",
    "        self.num_variables = len(self.df.columns[0:-1])\n",
    "        self.transform = transform\n",
    "    \n",
    "    def __len__(self):\n",
    "        return len(self.df)\n",
    "    \n",
    "    def __getitem__(self,idx):\n",
    "        IVs = torch.from_numpy(np.array(self.df.iloc[idx,0:-1],dtype=np.double))\n",
    "        target = torch.from_numpy(np.array(self.df.loc[idx,\"score\"], dtype=np.double))\n",
    "        \n",
    "        sample = (IVs,target)\n",
    "        \n",
    "        #if self.transform:\n",
    "        #    sample = self.transform(sample)\n",
    "        return sample"
   ]
  },
  {
   "cell_type": "code",
   "execution_count": 376,
   "metadata": {},
   "outputs": [],
   "source": [
    "Dataloader_steam = SteamData(df_stand)"
   ]
  },
  {
   "cell_type": "code",
   "execution_count": 377,
   "metadata": {},
   "outputs": [],
   "source": [
    "BATCHSIZE = 64"
   ]
  },
  {
   "cell_type": "code",
   "execution_count": 378,
   "metadata": {},
   "outputs": [],
   "source": [
    "generator=torch.Generator().manual_seed(42)"
   ]
  },
  {
   "cell_type": "code",
   "execution_count": 379,
   "metadata": {},
   "outputs": [],
   "source": [
    "train_size = int(0.7 * len(df_stand))\n",
    "test_size = len(df_stand) - train_size\n",
    "train_dataset, test_dataset = torch.utils.data.random_split(Dataloader_steam, [train_size, test_size], generator =generator)"
   ]
  },
  {
   "cell_type": "code",
   "execution_count": 380,
   "metadata": {},
   "outputs": [],
   "source": [
    "SteamData_train_loader = torch.utils.data.DataLoader(train_dataset, batch_size=BATCHSIZE,\n",
    "shuffle=True)\n",
    "\n",
    "SteamData_val_loader = torch.utils.data.DataLoader(test_dataset, batch_size=BATCHSIZE,\n",
    "shuffle=False)"
   ]
  },
  {
   "cell_type": "code",
   "execution_count": null,
   "metadata": {},
   "outputs": [],
   "source": []
  },
  {
   "cell_type": "code",
   "execution_count": 381,
   "metadata": {},
   "outputs": [],
   "source": [
    "#for IVs, score in SteamData_train_loader:\n",
    "#    print(IVs.shape) \n",
    "#    print(score.shape)"
   ]
  },
  {
   "cell_type": "code",
   "execution_count": 382,
   "metadata": {},
   "outputs": [
    {
     "data": {
      "text/plain": [
       "54"
      ]
     },
     "execution_count": 382,
     "metadata": {},
     "output_type": "execute_result"
    }
   ],
   "source": [
    "len(df.columns)"
   ]
  },
  {
   "cell_type": "code",
   "execution_count": 383,
   "metadata": {},
   "outputs": [],
   "source": [
    "class NN(nn.Module):\n",
    "    def __init__(self):\n",
    "        super().__init__()\n",
    "        self.lin1 = nn.Linear(53,128)\n",
    "        self.lin2 = nn.Linear(128,256)\n",
    "        self.lin3 = nn.Linear(256,128)\n",
    "        self.lin4 = nn.Linear(128,1)\n",
    "        \n",
    "    def forward(self,x):\n",
    "        out = F.leaky_relu(self.lin1(x))\n",
    "        out = F.leaky_relu(self.lin2(out))\n",
    "        out = F.leaky_relu(self.lin3(out))\n",
    "        out = F.sigmoid(self.lin4(out))\n",
    "        return out"
   ]
  },
  {
   "cell_type": "code",
   "execution_count": 384,
   "metadata": {},
   "outputs": [],
   "source": [
    "class NN3(nn.Module):\n",
    "    def __init__(self):\n",
    "        super().__init__()\n",
    "        self.lin1 = nn.Linear(53,128)\n",
    "        self.lin2 = nn.Linear(128,256)\n",
    "        self.lin3 = nn.Linear(256,128)\n",
    "        self.lin4 = nn.Linear(128,1)\n",
    "        \n",
    "    def forward(self,x):\n",
    "        out = F.sigmoid(self.lin1(x))\n",
    "        out = F.sigmoid(self.lin2(out))\n",
    "        out = F.sigmoid(self.lin3(out))\n",
    "        out = F.sigmoid(self.lin4(out))\n",
    "        return out"
   ]
  },
  {
   "cell_type": "code",
   "execution_count": 385,
   "metadata": {},
   "outputs": [],
   "source": [
    "class NN2(nn.Module):\n",
    "    def __init__(self):\n",
    "        super().__init__()\n",
    "        self.lin1 = nn.Linear(53,256)\n",
    "        self.lin2 = nn.Linear(256,256)\n",
    "        self.lin3 = nn.Linear(256,256)\n",
    "        self.lin4 = nn.Linear(256,1)\n",
    "        \n",
    "    def forward(self,x):\n",
    "        out = F.tanh(self.lin1(x))\n",
    "        out = F.tanh(self.lin2(out))\n",
    "        out = F.tanh(self.lin3(out))\n",
    "        out = F.tanh(self.lin4(out))\n",
    "        return out"
   ]
  },
  {
   "cell_type": "code",
   "execution_count": 386,
   "metadata": {},
   "outputs": [],
   "source": [
    "class NN3(nn.Module):\n",
    "    def __init__(self):\n",
    "        super().__init__()\n",
    "        self.lin1 = nn.Linear(53,128)\n",
    "        self.lin2 = nn.Linear(128,256)\n",
    "        self.lin3 = nn.Linear(256,128)\n",
    "        self.lin4 = nn.Linear(128,1)\n",
    "        \n",
    "    def forward(self,x):\n",
    "        out = F.tanh(self.lin1(x))\n",
    "        out = F.tanh(self.lin2(out))\n",
    "        out = F.tanh(self.lin3(out))\n",
    "        out = F.tanh(self.lin4(out))\n",
    "        return out"
   ]
  },
  {
   "cell_type": "code",
   "execution_count": 391,
   "metadata": {},
   "outputs": [],
   "source": [
    "model = NN()"
   ]
  },
  {
   "cell_type": "code",
   "execution_count": 392,
   "metadata": {},
   "outputs": [],
   "source": [
    "model = model.to(device=device)\n",
    "model = model.double()\n",
    "optimizer = torch.optim.Adam(model.parameters(), lr=1e-4)\n",
    "loss_fn = nn.MSELoss()\n",
    "model.train()\n",
    "n_epochs = 20"
   ]
  },
  {
   "cell_type": "code",
   "execution_count": null,
   "metadata": {},
   "outputs": [],
   "source": []
  },
  {
   "cell_type": "code",
   "execution_count": 393,
   "metadata": {},
   "outputs": [],
   "source": [
    "def training_loop(n_epochs, optimizer, model, loss_fn, train_loader, val_loader):\n",
    "    loss_train = np.array(n_epochs)\n",
    "    loss_val = np.array(n_epochs)\n",
    "    for epoch in range(1,n_epochs+1):\n",
    "        model.train()\n",
    "        total_loss_train = 0\n",
    "        total_loss_val = 0\n",
    "        for IV, score in train_loader:\n",
    "            IV = IV.to(device=device)\n",
    "            score = score.to(device=device)\n",
    "            #print(score)\n",
    "            outputs = model(IV)\n",
    "            #print(outputs)\n",
    "            #print(outputs.shape)\n",
    "            loss_train = loss_fn(outputs.flatten(), score)\n",
    "            optimizer.zero_grad()\n",
    "            loss_train.backward()\n",
    "            optimizer.step()\n",
    "            \n",
    "            total_loss_train+=loss_train\n",
    "        \n",
    "        for IV, score in val_loader:\n",
    "            model.eval()\n",
    "            with torch.no_grad():\n",
    "                IV = IV.to(device=device)\n",
    "                score = score.to(device=device)\n",
    "                outputs = model(IV)\n",
    "                #print(outputs)\n",
    "                loss_val = loss_fn(outputs.flatten(), score)\n",
    "                \n",
    "                total_loss_val+=loss_val\n",
    "       \n",
    "            \n",
    "            \n",
    "\n",
    "        if epoch ==1 or epoch % 1 == 0:\n",
    "            print(\"{} Epoch {}, Training loss {}, Validation Loss: {}\".format(\n",
    "            datetime.datetime.now(), epoch,\n",
    "            total_loss_train/ len(train_loader), total_loss_val/len(val_loader)))"
   ]
  },
  {
   "cell_type": "code",
   "execution_count": 394,
   "metadata": {},
   "outputs": [
    {
     "name": "stderr",
     "output_type": "stream",
     "text": [
      "C:\\Users\\Marco\\anaconda3\\lib\\site-packages\\torch\\nn\\functional.py:1806: UserWarning: nn.functional.sigmoid is deprecated. Use torch.sigmoid instead.\n",
      "  warnings.warn(\"nn.functional.sigmoid is deprecated. Use torch.sigmoid instead.\")\n"
     ]
    },
    {
     "name": "stdout",
     "output_type": "stream",
     "text": [
      "2023-01-27 17:41:45.873686 Epoch 1, Training loss 0.061748960867782914, Validation Loss: 0.025326012901554243\n",
      "2023-01-27 17:41:48.582411 Epoch 2, Training loss 0.024216764205516085, Validation Loss: 0.023372078734407588\n",
      "2023-01-27 17:41:51.155385 Epoch 3, Training loss 0.022687218185443597, Validation Loss: 0.022414028724833456\n",
      "2023-01-27 17:41:53.649102 Epoch 4, Training loss 0.02192177071100071, Validation Loss: 0.02181533442262494\n",
      "2023-01-27 17:41:56.089336 Epoch 5, Training loss 0.021227665951823103, Validation Loss: 0.021365788219348408\n",
      "2023-01-27 17:41:58.640584 Epoch 6, Training loss 0.020757355353865716, Validation Loss: 0.02100640561444677\n",
      "2023-01-27 17:42:01.127019 Epoch 7, Training loss 0.0203806899753596, Validation Loss: 0.02080571918549711\n",
      "2023-01-27 17:42:03.726410 Epoch 8, Training loss 0.02005404111702443, Validation Loss: 0.020712521709268968\n",
      "2023-01-27 17:42:06.166586 Epoch 9, Training loss 0.019884125073109347, Validation Loss: 0.02059524019423685\n",
      "2023-01-27 17:42:08.658396 Epoch 10, Training loss 0.01962886233139861, Validation Loss: 0.02052673537209701\n",
      "2023-01-27 17:42:11.130754 Epoch 11, Training loss 0.019499108506928178, Validation Loss: 0.020504098746777156\n",
      "2023-01-27 17:42:13.575205 Epoch 12, Training loss 0.0192552560077171, Validation Loss: 0.02047371495230369\n",
      "2023-01-27 17:42:16.025600 Epoch 13, Training loss 0.01909060863376633, Validation Loss: 0.0204113613857691\n",
      "2023-01-27 17:42:18.674404 Epoch 14, Training loss 0.01900110662615663, Validation Loss: 0.020308639951937883\n",
      "2023-01-27 17:42:21.140440 Epoch 15, Training loss 0.018854644875423387, Validation Loss: 0.020312019366563783\n",
      "2023-01-27 17:42:23.575110 Epoch 16, Training loss 0.018699583842487873, Validation Loss: 0.02038516151773336\n",
      "2023-01-27 17:42:26.050145 Epoch 17, Training loss 0.018632934078190125, Validation Loss: 0.02027778444180404\n",
      "2023-01-27 17:42:28.522982 Epoch 18, Training loss 0.01841341057292477, Validation Loss: 0.020300224529093365\n",
      "2023-01-27 17:42:30.975897 Epoch 19, Training loss 0.018339081294117147, Validation Loss: 0.020285496558379214\n",
      "2023-01-27 17:42:33.470738 Epoch 20, Training loss 0.018115863332961214, Validation Loss: 0.02029069238762092\n"
     ]
    }
   ],
   "source": [
    "training_loop(n_epochs, optimizer, model, loss_fn, SteamData_train_loader, SteamData_val_loader)"
   ]
  },
  {
   "cell_type": "code",
   "execution_count": 395,
   "metadata": {},
   "outputs": [
    {
     "data": {
      "text/plain": [
       "54"
      ]
     },
     "execution_count": 395,
     "metadata": {},
     "output_type": "execute_result"
    }
   ],
   "source": [
    "len(df.columns)"
   ]
  },
  {
   "cell_type": "markdown",
   "metadata": {},
   "source": [
    "## check residual plot for NN"
   ]
  },
  {
   "cell_type": "code",
   "execution_count": 396,
   "metadata": {},
   "outputs": [],
   "source": [
    "test_samples = np.zeros((len(SteamData_val_loader.dataset),53))"
   ]
  },
  {
   "cell_type": "code",
   "execution_count": 397,
   "metadata": {},
   "outputs": [],
   "source": [
    "test_samples_score = np.zeros(len(SteamData_val_loader.dataset))"
   ]
  },
  {
   "cell_type": "code",
   "execution_count": 398,
   "metadata": {},
   "outputs": [],
   "source": [
    "idx=0\n",
    "for IV,score in SteamData_val_loader:\n",
    "    #print(IV.shape[0])\n",
    "    #IV.shape[0]\n",
    "    test_samples[idx:idx+IV.shape[0]] = IV\n",
    "    test_samples_score[idx:idx+IV.shape[0]] = score\n",
    "    idx=idx+IV.shape[0]"
   ]
  },
  {
   "cell_type": "code",
   "execution_count": 399,
   "metadata": {},
   "outputs": [],
   "source": [
    "test_samples = (torch.from_numpy(test_samples)).to(device)"
   ]
  },
  {
   "cell_type": "code",
   "execution_count": 400,
   "metadata": {},
   "outputs": [
    {
     "name": "stderr",
     "output_type": "stream",
     "text": [
      "C:\\Users\\Marco\\anaconda3\\lib\\site-packages\\torch\\nn\\functional.py:1806: UserWarning: nn.functional.sigmoid is deprecated. Use torch.sigmoid instead.\n",
      "  warnings.warn(\"nn.functional.sigmoid is deprecated. Use torch.sigmoid instead.\")\n"
     ]
    }
   ],
   "source": [
    "with torch.no_grad():\n",
    "    y_pred_NN = model(test_samples)"
   ]
  },
  {
   "cell_type": "code",
   "execution_count": 401,
   "metadata": {},
   "outputs": [],
   "source": [
    "#y_pred_NN[:100]"
   ]
  },
  {
   "cell_type": "code",
   "execution_count": 402,
   "metadata": {},
   "outputs": [
    {
     "data": {
      "text/plain": [
       "array([0.88461538, 0.78181818, 0.79049296, ..., 0.92041522, 0.84759456,\n",
       "       0.83950617])"
      ]
     },
     "execution_count": 402,
     "metadata": {},
     "output_type": "execute_result"
    }
   ],
   "source": [
    "test_samples_score"
   ]
  },
  {
   "cell_type": "code",
   "execution_count": 403,
   "metadata": {},
   "outputs": [
    {
     "data": {
      "text/plain": [
       "tensor([[0.8361],\n",
       "        [0.6914],\n",
       "        [0.8036],\n",
       "        ...,\n",
       "        [0.8297],\n",
       "        [0.8246],\n",
       "        [0.8930]], device='cuda:0', dtype=torch.float64)"
      ]
     },
     "execution_count": 403,
     "metadata": {},
     "output_type": "execute_result"
    }
   ],
   "source": [
    "y_pred_NN "
   ]
  },
  {
   "cell_type": "code",
   "execution_count": 404,
   "metadata": {},
   "outputs": [
    {
     "data": {
      "text/plain": [
       "0.16647645455064763"
      ]
     },
     "execution_count": 404,
     "metadata": {},
     "output_type": "execute_result"
    }
   ],
   "source": [
    "explained_variance_score(test_samples_score,y_pred_NN.cpu().numpy())"
   ]
  },
  {
   "cell_type": "code",
   "execution_count": 405,
   "metadata": {},
   "outputs": [
    {
     "data": {
      "text/plain": [
       "array([0.83610838, 0.69138183, 0.80360951, ..., 0.82970871, 0.82460898,\n",
       "       0.89304716])"
      ]
     },
     "execution_count": 405,
     "metadata": {},
     "output_type": "execute_result"
    }
   ],
   "source": [
    "y_pred_NN.cpu().numpy().reshape(-1)"
   ]
  },
  {
   "cell_type": "code",
   "execution_count": 406,
   "metadata": {},
   "outputs": [
    {
     "data": {
      "text/plain": [
       "(3000,)"
      ]
     },
     "execution_count": 406,
     "metadata": {},
     "output_type": "execute_result"
    }
   ],
   "source": [
    "(y_pred_NN.cpu().numpy().reshape(-1)- test_samples_score).shape"
   ]
  },
  {
   "cell_type": "code",
   "execution_count": 407,
   "metadata": {},
   "outputs": [
    {
     "data": {
      "text/plain": [
       "[<matplotlib.lines.Line2D at 0x22b1f1705b0>]"
      ]
     },
     "execution_count": 407,
     "metadata": {},
     "output_type": "execute_result"
    },
    {
     "data": {
      "image/png": "[encoded data removed]",
      "text/plain": [
       "<Figure size 432x288 with 1 Axes>"
      ]
     },
     "metadata": {
      "needs_background": "light"
     },
     "output_type": "display_data"
    }
   ],
   "source": [
    "plt.plot(y_pred_NN.cpu().numpy().reshape(-1) ,y_pred_NN.cpu().numpy().reshape(-1)- test_samples_score,\".\")"
   ]
  },
  {
   "cell_type": "markdown",
   "metadata": {},
   "source": [
    "### predicted vs actual values"
   ]
  },
  {
   "cell_type": "code",
   "execution_count": 408,
   "metadata": {},
   "outputs": [
    {
     "data": {
      "text/plain": [
       "[<matplotlib.lines.Line2D at 0x22b14c12ca0>]"
      ]
     },
     "execution_count": 408,
     "metadata": {},
     "output_type": "execute_result"
    },
    {
     "data": {
      "image/png": "[encoded data removed]",
      "text/plain": [
       "<Figure size 432x288 with 1 Axes>"
      ]
     },
     "metadata": {
      "needs_background": "light"
     },
     "output_type": "display_data"
    }
   ],
   "source": [
    "plt.plot(y_pred_NN.cpu().numpy(),test_samples_score,\".\")"
   ]
  },
  {
   "cell_type": "markdown",
   "metadata": {},
   "source": [
    "# plot difference between regression and NN"
   ]
  },
  {
   "cell_type": "code",
   "execution_count": 409,
   "metadata": {},
   "outputs": [],
   "source": [
    "X_train, X_test, y_train, y_test = train_test_split(df[df.columns[best_fit_indices_min[1]]],df[\"score\"] , test_size=0.3, random_state=42)\n",
    "reg = LinearRegression().fit(X_train, y_train)\n",
    "y_pred = reg.predict(X_test)\n",
    "explained_var = explained_variance_score(y_test, y_pred)\n",
    "MSE = mean_squared_error(y_pred, y_test)"
   ]
  },
  {
   "cell_type": "code",
   "execution_count": 410,
   "metadata": {},
   "outputs": [
    {
     "data": {
      "text/plain": [
       "(0.12119583473834483, 0.021182211904347804)"
      ]
     },
     "execution_count": 410,
     "metadata": {},
     "output_type": "execute_result"
    }
   ],
   "source": [
    "explained_var, MSE"
   ]
  },
  {
   "cell_type": "code",
   "execution_count": 425,
   "metadata": {},
   "outputs": [
    {
     "data": {
      "text/plain": [
       "Text(0.5, 0, 'residuals/erros')"
      ]
     },
     "execution_count": 425,
     "metadata": {},
     "output_type": "execute_result"
    },
    {
     "data": {
      "image/png": "[encoded data removed]",
      "text/plain": [
       "<Figure size 1152x360 with 2 Axes>"
      ]
     },
     "metadata": {
      "needs_background": "light"
     },
     "output_type": "display_data"
    }
   ],
   "source": [
    "bins = np.linspace(0.4,1,21)\n",
    "bins2 = np.linspace(-0.5,0.75,30)\n",
    "fig, (ax1, ax2) = plt.subplots(1, 2,figsize=(16, 5))\n",
    "ax1.hist(y_pred, bins, alpha=0.5, label=\"linear regression\")\n",
    "ax1.hist(y_pred_NN.cpu().numpy().reshape(-1), bins, alpha=0.5, label=\"NN\")\n",
    "ax1.legend()\n",
    "ax1.set_title(\"predicted scores\")\n",
    "ax1.set_xlabel(\"score\")\n",
    "ax2.hist(y_pred-y_test, bins2, alpha=0.5, label=\"linear regression\")\n",
    "ax2.hist(y_pred_NN.cpu().numpy().reshape(-1)- test_samples_score, bins2, alpha=0.5, label=\"NN\")\n",
    "ax2.legend()\n",
    "ax2.set_title(\"residuals of predictions\")\n",
    "ax2.set_xlabel(\"residuals/erros\")"
   ]
  },
  {
   "cell_type": "code",
   "execution_count": null,
   "metadata": {},
   "outputs": [],
   "source": []
  }
 ],
 "metadata": {
  "kernelspec": {
   "display_name": "Python 3 (ipykernel)",
   "language": "python",
   "name": "python3"
  },
  "language_info": {
   "codemirror_mode": {
    "name": "ipython",
    "version": 3
   },
   "file_extension": ".py",
   "mimetype": "text/x-python",
   "name": "python",
   "nbconvert_exporter": "python",
   "pygments_lexer": "ipython3",
   "version": "3.8.5"
  },
  "toc": {
   "base_numbering": 1,
   "nav_menu": {},
   "number_sections": true,
   "sideBar": false,
   "skip_h1_title": false,
   "title_cell": "Table of Contents",
   "title_sidebar": "Contents",
   "toc_cell": false,
   "toc_position": {},
   "toc_section_display": true,
   "toc_window_display": false
  },
  "varInspector": {
   "cols": {
    "lenName": 16,
    "lenType": 16,
    "lenVar": 40
   },
   "kernels_config": {
    "python": {
     "delete_cmd_postfix": "",
     "delete_cmd_prefix": "del ",
     "library": "var_list.py",
     "varRefreshCmd": "print(var_dic_list())"
    },
    "r": {
     "delete_cmd_postfix": ") ",
     "delete_cmd_prefix": "rm(",
     "library": "var_list.r",
     "varRefreshCmd": "cat(var_dic_list()) "
    }
   },
   "types_to_exclude": [
    "module",
    "function",
    "builtin_function_or_method",
    "instance",
    "_Feature"
   ],
   "window_display": false
  },
  "vscode": {
   "interpreter": {
    "hash": "0e9a04e0a5c422eb7d17f089ac60eed9f8e8db0d5bb014daab27a4ac46018303"
   }
  }
 },
 "nbformat": 4,
 "nbformat_minor": 2
}
