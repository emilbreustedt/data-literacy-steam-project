{
 "cells": [
  {
   "cell_type": "code",
   "execution_count": 511,
   "metadata": {},
   "outputs": [],
   "source": [
    "import pandas as pd\n",
    "import matplotlib.pyplot as plt\n",
    "import numpy as np\n",
    "import copy\n",
    "from scipy import stats\n",
    "from sklearn.preprocessing import PowerTransformer\n",
    "\n",
    "from sklearn.linear_model import LinearRegression\n",
    "from sklearn.model_selection import train_test_split\n",
    "from sklearn.metrics import mean_squared_error\n",
    "from sklearn.metrics import r2_score\n",
    "from sklearn.metrics import explained_variance_score\n",
    "from sklearn.neural_network import MLPRegressor\n",
    "from sklearn.model_selection import GridSearchCV\n",
    "from sklearn.compose import TransformedTargetRegressor"
   ]
  },
  {
   "cell_type": "code",
   "execution_count": 512,
   "metadata": {},
   "outputs": [
    {
     "data": {
      "text/html": [
       "<div>\n",
       "<style scoped>\n",
       "    .dataframe tbody tr th:only-of-type {\n",
       "        vertical-align: middle;\n",
       "    }\n",
       "\n",
       "    .dataframe tbody tr th {\n",
       "        vertical-align: top;\n",
       "    }\n",
       "\n",
       "    .dataframe thead th {\n",
       "        text-align: right;\n",
       "    }\n",
       "</style>\n",
       "<table border=\"1\" class=\"dataframe\">\n",
       "  <thead>\n",
       "    <tr style=\"text-align: right;\">\n",
       "      <th></th>\n",
       "      <th>required_age</th>\n",
       "      <th>price</th>\n",
       "      <th>relase_year</th>\n",
       "      <th>Violent</th>\n",
       "      <th>Adventure</th>\n",
       "      <th>RPG</th>\n",
       "      <th>Action</th>\n",
       "      <th>Sports</th>\n",
       "      <th>Simulation</th>\n",
       "      <th>Racing</th>\n",
       "      <th>...</th>\n",
       "      <th>Includes level editor</th>\n",
       "      <th>Co-op</th>\n",
       "      <th>Commentary available</th>\n",
       "      <th>Additional High-Quality Audio</th>\n",
       "      <th>Steam Cloud</th>\n",
       "      <th>Steam Workshop</th>\n",
       "      <th>mac</th>\n",
       "      <th>linux</th>\n",
       "      <th>windows</th>\n",
       "      <th>score</th>\n",
       "    </tr>\n",
       "  </thead>\n",
       "  <tbody>\n",
       "    <tr>\n",
       "      <th>0</th>\n",
       "      <td>0</td>\n",
       "      <td>1379</td>\n",
       "      <td>2021</td>\n",
       "      <td>0</td>\n",
       "      <td>0</td>\n",
       "      <td>0</td>\n",
       "      <td>0</td>\n",
       "      <td>1</td>\n",
       "      <td>1</td>\n",
       "      <td>0</td>\n",
       "      <td>...</td>\n",
       "      <td>0</td>\n",
       "      <td>0</td>\n",
       "      <td>0</td>\n",
       "      <td>0</td>\n",
       "      <td>0</td>\n",
       "      <td>0</td>\n",
       "      <td>0</td>\n",
       "      <td>0</td>\n",
       "      <td>1</td>\n",
       "      <td>0.955032</td>\n",
       "    </tr>\n",
       "    <tr>\n",
       "      <th>1</th>\n",
       "      <td>0</td>\n",
       "      <td>399</td>\n",
       "      <td>2021</td>\n",
       "      <td>0</td>\n",
       "      <td>1</td>\n",
       "      <td>0</td>\n",
       "      <td>1</td>\n",
       "      <td>0</td>\n",
       "      <td>0</td>\n",
       "      <td>0</td>\n",
       "      <td>...</td>\n",
       "      <td>0</td>\n",
       "      <td>1</td>\n",
       "      <td>0</td>\n",
       "      <td>0</td>\n",
       "      <td>0</td>\n",
       "      <td>0</td>\n",
       "      <td>0</td>\n",
       "      <td>0</td>\n",
       "      <td>1</td>\n",
       "      <td>0.733668</td>\n",
       "    </tr>\n",
       "    <tr>\n",
       "      <th>2</th>\n",
       "      <td>0</td>\n",
       "      <td>499</td>\n",
       "      <td>2021</td>\n",
       "      <td>0</td>\n",
       "      <td>0</td>\n",
       "      <td>0</td>\n",
       "      <td>1</td>\n",
       "      <td>0</td>\n",
       "      <td>1</td>\n",
       "      <td>0</td>\n",
       "      <td>...</td>\n",
       "      <td>0</td>\n",
       "      <td>0</td>\n",
       "      <td>0</td>\n",
       "      <td>0</td>\n",
       "      <td>0</td>\n",
       "      <td>0</td>\n",
       "      <td>0</td>\n",
       "      <td>0</td>\n",
       "      <td>1</td>\n",
       "      <td>0.921053</td>\n",
       "    </tr>\n",
       "    <tr>\n",
       "      <th>3</th>\n",
       "      <td>0</td>\n",
       "      <td>5999</td>\n",
       "      <td>2022</td>\n",
       "      <td>0</td>\n",
       "      <td>0</td>\n",
       "      <td>1</td>\n",
       "      <td>1</td>\n",
       "      <td>0</td>\n",
       "      <td>0</td>\n",
       "      <td>0</td>\n",
       "      <td>...</td>\n",
       "      <td>0</td>\n",
       "      <td>0</td>\n",
       "      <td>0</td>\n",
       "      <td>0</td>\n",
       "      <td>1</td>\n",
       "      <td>0</td>\n",
       "      <td>0</td>\n",
       "      <td>0</td>\n",
       "      <td>1</td>\n",
       "      <td>0.953191</td>\n",
       "    </tr>\n",
       "    <tr>\n",
       "      <th>4</th>\n",
       "      <td>0</td>\n",
       "      <td>799</td>\n",
       "      <td>2021</td>\n",
       "      <td>0</td>\n",
       "      <td>1</td>\n",
       "      <td>0</td>\n",
       "      <td>1</td>\n",
       "      <td>0</td>\n",
       "      <td>0</td>\n",
       "      <td>0</td>\n",
       "      <td>...</td>\n",
       "      <td>0</td>\n",
       "      <td>0</td>\n",
       "      <td>0</td>\n",
       "      <td>0</td>\n",
       "      <td>0</td>\n",
       "      <td>0</td>\n",
       "      <td>0</td>\n",
       "      <td>0</td>\n",
       "      <td>1</td>\n",
       "      <td>0.971429</td>\n",
       "    </tr>\n",
       "    <tr>\n",
       "      <th>...</th>\n",
       "      <td>...</td>\n",
       "      <td>...</td>\n",
       "      <td>...</td>\n",
       "      <td>...</td>\n",
       "      <td>...</td>\n",
       "      <td>...</td>\n",
       "      <td>...</td>\n",
       "      <td>...</td>\n",
       "      <td>...</td>\n",
       "      <td>...</td>\n",
       "      <td>...</td>\n",
       "      <td>...</td>\n",
       "      <td>...</td>\n",
       "      <td>...</td>\n",
       "      <td>...</td>\n",
       "      <td>...</td>\n",
       "      <td>...</td>\n",
       "      <td>...</td>\n",
       "      <td>...</td>\n",
       "      <td>...</td>\n",
       "      <td>...</td>\n",
       "    </tr>\n",
       "    <tr>\n",
       "      <th>9995</th>\n",
       "      <td>0</td>\n",
       "      <td>599</td>\n",
       "      <td>2017</td>\n",
       "      <td>0</td>\n",
       "      <td>0</td>\n",
       "      <td>1</td>\n",
       "      <td>1</td>\n",
       "      <td>0</td>\n",
       "      <td>0</td>\n",
       "      <td>0</td>\n",
       "      <td>...</td>\n",
       "      <td>0</td>\n",
       "      <td>0</td>\n",
       "      <td>0</td>\n",
       "      <td>0</td>\n",
       "      <td>1</td>\n",
       "      <td>0</td>\n",
       "      <td>1</td>\n",
       "      <td>1</td>\n",
       "      <td>1</td>\n",
       "      <td>0.921875</td>\n",
       "    </tr>\n",
       "    <tr>\n",
       "      <th>9996</th>\n",
       "      <td>0</td>\n",
       "      <td>1679</td>\n",
       "      <td>2020</td>\n",
       "      <td>0</td>\n",
       "      <td>1</td>\n",
       "      <td>1</td>\n",
       "      <td>1</td>\n",
       "      <td>0</td>\n",
       "      <td>0</td>\n",
       "      <td>0</td>\n",
       "      <td>...</td>\n",
       "      <td>0</td>\n",
       "      <td>1</td>\n",
       "      <td>0</td>\n",
       "      <td>0</td>\n",
       "      <td>0</td>\n",
       "      <td>0</td>\n",
       "      <td>0</td>\n",
       "      <td>0</td>\n",
       "      <td>1</td>\n",
       "      <td>0.660407</td>\n",
       "    </tr>\n",
       "    <tr>\n",
       "      <th>9997</th>\n",
       "      <td>0</td>\n",
       "      <td>4999</td>\n",
       "      <td>2020</td>\n",
       "      <td>0</td>\n",
       "      <td>0</td>\n",
       "      <td>1</td>\n",
       "      <td>1</td>\n",
       "      <td>1</td>\n",
       "      <td>0</td>\n",
       "      <td>0</td>\n",
       "      <td>...</td>\n",
       "      <td>0</td>\n",
       "      <td>1</td>\n",
       "      <td>1</td>\n",
       "      <td>0</td>\n",
       "      <td>1</td>\n",
       "      <td>0</td>\n",
       "      <td>0</td>\n",
       "      <td>0</td>\n",
       "      <td>1</td>\n",
       "      <td>0.677665</td>\n",
       "    </tr>\n",
       "    <tr>\n",
       "      <th>9998</th>\n",
       "      <td>0</td>\n",
       "      <td>1999</td>\n",
       "      <td>2017</td>\n",
       "      <td>0</td>\n",
       "      <td>1</td>\n",
       "      <td>1</td>\n",
       "      <td>1</td>\n",
       "      <td>0</td>\n",
       "      <td>0</td>\n",
       "      <td>0</td>\n",
       "      <td>...</td>\n",
       "      <td>0</td>\n",
       "      <td>0</td>\n",
       "      <td>0</td>\n",
       "      <td>0</td>\n",
       "      <td>1</td>\n",
       "      <td>0</td>\n",
       "      <td>1</td>\n",
       "      <td>0</td>\n",
       "      <td>1</td>\n",
       "      <td>0.973799</td>\n",
       "    </tr>\n",
       "    <tr>\n",
       "      <th>9999</th>\n",
       "      <td>0</td>\n",
       "      <td>2499</td>\n",
       "      <td>2019</td>\n",
       "      <td>0</td>\n",
       "      <td>1</td>\n",
       "      <td>0</td>\n",
       "      <td>0</td>\n",
       "      <td>0</td>\n",
       "      <td>0</td>\n",
       "      <td>0</td>\n",
       "      <td>...</td>\n",
       "      <td>0</td>\n",
       "      <td>0</td>\n",
       "      <td>0</td>\n",
       "      <td>0</td>\n",
       "      <td>0</td>\n",
       "      <td>0</td>\n",
       "      <td>0</td>\n",
       "      <td>0</td>\n",
       "      <td>1</td>\n",
       "      <td>0.601449</td>\n",
       "    </tr>\n",
       "  </tbody>\n",
       "</table>\n",
       "<p>10000 rows × 55 columns</p>\n",
       "</div>"
      ],
      "text/plain": [
       "      required_age  price  relase_year  Violent  Adventure  RPG  Action  \\\n",
       "0                0   1379         2021        0          0    0       0   \n",
       "1                0    399         2021        0          1    0       1   \n",
       "2                0    499         2021        0          0    0       1   \n",
       "3                0   5999         2022        0          0    1       1   \n",
       "4                0    799         2021        0          1    0       1   \n",
       "...            ...    ...          ...      ...        ...  ...     ...   \n",
       "9995             0    599         2017        0          0    1       1   \n",
       "9996             0   1679         2020        0          1    1       1   \n",
       "9997             0   4999         2020        0          0    1       1   \n",
       "9998             0   1999         2017        0          1    1       1   \n",
       "9999             0   2499         2019        0          1    0       0   \n",
       "\n",
       "      Sports  Simulation  Racing  ...  Includes level editor  Co-op  \\\n",
       "0          1           1       0  ...                      0      0   \n",
       "1          0           0       0  ...                      0      1   \n",
       "2          0           1       0  ...                      0      0   \n",
       "3          0           0       0  ...                      0      0   \n",
       "4          0           0       0  ...                      0      0   \n",
       "...      ...         ...     ...  ...                    ...    ...   \n",
       "9995       0           0       0  ...                      0      0   \n",
       "9996       0           0       0  ...                      0      1   \n",
       "9997       1           0       0  ...                      0      1   \n",
       "9998       0           0       0  ...                      0      0   \n",
       "9999       0           0       0  ...                      0      0   \n",
       "\n",
       "      Commentary available  Additional High-Quality Audio  Steam Cloud  \\\n",
       "0                        0                              0            0   \n",
       "1                        0                              0            0   \n",
       "2                        0                              0            0   \n",
       "3                        0                              0            1   \n",
       "4                        0                              0            0   \n",
       "...                    ...                            ...          ...   \n",
       "9995                     0                              0            1   \n",
       "9996                     0                              0            0   \n",
       "9997                     1                              0            1   \n",
       "9998                     0                              0            1   \n",
       "9999                     0                              0            0   \n",
       "\n",
       "      Steam Workshop  mac  linux  windows     score  \n",
       "0                  0    0      0        1  0.955032  \n",
       "1                  0    0      0        1  0.733668  \n",
       "2                  0    0      0        1  0.921053  \n",
       "3                  0    0      0        1  0.953191  \n",
       "4                  0    0      0        1  0.971429  \n",
       "...              ...  ...    ...      ...       ...  \n",
       "9995               0    1      1        1  0.921875  \n",
       "9996               0    0      0        1  0.660407  \n",
       "9997               0    0      0        1  0.677665  \n",
       "9998               0    1      0        1  0.973799  \n",
       "9999               0    0      0        1  0.601449  \n",
       "\n",
       "[10000 rows x 55 columns]"
      ]
     },
     "execution_count": 512,
     "metadata": {},
     "output_type": "execute_result"
    }
   ],
   "source": [
    "df = pd.read_csv(\"clean_data.csv\", index_col=0)\n",
    "df"
   ]
  },
  {
   "attachments": {},
   "cell_type": "markdown",
   "metadata": {},
   "source": [
    "# Correlation Distribution"
   ]
  },
  {
   "cell_type": "code",
   "execution_count": 513,
   "metadata": {},
   "outputs": [
    {
     "data": {
      "image/png": "[encoded data removed]",
      "text/plain": [
       "<Figure size 720x216 with 1 Axes>"
      ]
     },
     "metadata": {
      "needs_background": "light"
     },
     "output_type": "display_data"
    }
   ],
   "source": [
    "df.drop(\"Remote Play Together\", axis=1, inplace=True)\n",
    "plt.figure(figsize=(10,3))\n",
    "plt.axhline(0)\n",
    "for i in [-0.15, -0.1, -0.05, 0.05, 0.1, 0.15]:\n",
    "    plt.axhline(i, color = \"black\", linestyle=':', linewidth = 1)\n",
    "\n",
    "plt.xlabel(\"Predictor\")\n",
    "plt.ylabel(\"corr(Predictor, score)\")\n",
    "bars = bars = df.corr()['score'][df.corr()['score'].abs().sort_values(ascending=False).index][range(1,11)].plot(kind='bar')\n",
    "plt.savefig('corr_dist.png', dpi=300, bbox_inches=\"tight\")"
   ]
  },
  {
   "attachments": {},
   "cell_type": "markdown",
   "metadata": {},
   "source": [
    "# MLR"
   ]
  },
  {
   "cell_type": "code",
   "execution_count": 514,
   "metadata": {},
   "outputs": [],
   "source": [
    "def find_predictors(df):\n",
    "    \n",
    "    # Sort by absolute correlation\n",
    "    predictors = abs(df.corr()['score']).sort_values(ascending=False).drop(\"score\")\n",
    "\n",
    "    r2_max = 0\n",
    "    i_max = 0\n",
    "\n",
    "    # add variables until model is overfitting\n",
    "    for i, col in enumerate(list(predictors.index)):\n",
    "        trans= PowerTransformer()\n",
    "        reg = LinearRegression()\n",
    "        regression = TransformedTargetRegressor(regressor = reg, transformer = trans)\n",
    "        X = df[predictors.index[:i+1]]\n",
    "        X_train, X_test, y_train, y_test = train_test_split(X, df[\"score\"], test_size=0.3, random_state=42)\n",
    "        regression.fit(X_train, y_train)\n",
    "        y_pred = regression.predict(X_test)\n",
    "        r2 = r2_score(y_test, y_pred)\n",
    "        if r2 > r2_max:\n",
    "            r2_max = r2\n",
    "            i_max = i+1\n",
    "\n",
    "    # return predictors\n",
    "    return predictors[0:i_max] \n"
   ]
  },
  {
   "cell_type": "code",
   "execution_count": 518,
   "metadata": {},
   "outputs": [
    {
     "data": {
      "text/plain": [
       "(39, 0.11576, 0.02131, 0.11576)"
      ]
     },
     "execution_count": 518,
     "metadata": {},
     "output_type": "execute_result"
    }
   ],
   "source": [
    "# train again best model\n",
    "predictors  = find_predictors(df)\n",
    "X_train, X_test, y_train, y_test = train_test_split(df[list(predictors.index)], df[\"score\"], test_size=0.3, random_state=42)\n",
    "reg = LinearRegression().fit(X_train, y_train)\n",
    "y_pred = reg.predict(X_test)\n",
    "r2 = r2_score(y_test, y_pred)\n",
    "explained_var = explained_variance_score(y_test, y_pred)\n",
    "MSE = mean_squared_error(y_test, y_pred)\n",
    "\n",
    "len(predictors), round(r2, 5), round(MSE, 5), round(explained_var,5)"
   ]
  },
  {
   "cell_type": "markdown",
   "metadata": {},
   "source": [
    "## see which IVs have correlation higher than 0.5"
   ]
  },
  {
   "cell_type": "code",
   "execution_count": 515,
   "metadata": {},
   "outputs": [],
   "source": [
    "corr = df.iloc[:,0:-1].corr()\n",
    "high_corr1, high_corr2 = np.where(np.abs(corr)>0.5)\n",
    "# get indicics of highly correlated features in feature matrix\n",
    "A = []\n",
    "for i in range(len(high_corr1)):\n",
    "    if high_corr1[i]!=high_corr2[i]:\n",
    "        A.append((high_corr1[i],high_corr2[i]))\n",
    "        \n",
    "# transform indices to names of columns, add to tuple together with correlation of the features\n",
    "B = []\n",
    "for i in range(len(A)):\n",
    "    B.append((df.columns[A[i][0]],df.columns[A[i][1]], round(corr.iloc[A[i][0],A[i][1]],3)))\n",
    "    "
   ]
  },
  {
   "cell_type": "code",
   "execution_count": 516,
   "metadata": {},
   "outputs": [],
   "source": [
    "# transform indices to names of columns, add to tuple together with correlation of the features\n",
    "B = []\n",
    "for i in range(len(A)):\n",
    "    B.append((df.columns[A[i][0]],df.columns[A[i][1]], round(corr.iloc[A[i][0],A[i][1]],3)))\n",
    "    "
   ]
  },
  {
   "cell_type": "code",
   "execution_count": 517,
   "metadata": {},
   "outputs": [
    {
     "data": {
      "text/plain": [
       "[('Nudity', 'Sexual Content', 0.572),\n",
       " ('Sexual Content', 'Nudity', 0.572),\n",
       " ('Multi-player', 'PvP', 0.632),\n",
       " ('Multi-player', 'Shared/Split Screen', 0.505),\n",
       " ('Multi-player', 'Co-op', 0.653),\n",
       " ('LAN Co-op', 'LAN PvP', 0.621),\n",
       " ('PvP', 'Multi-player', 0.632),\n",
       " ('LAN PvP', 'LAN Co-op', 0.621),\n",
       " ('Shared/Split Screen', 'Multi-player', 0.505),\n",
       " ('Includes level editor', 'Steam Workshop', 0.507),\n",
       " ('Co-op', 'Multi-player', 0.653),\n",
       " ('Steam Workshop', 'Includes level editor', 0.507),\n",
       " ('mac', 'linux', 0.654),\n",
       " ('linux', 'mac', 0.654)]"
      ]
     },
     "execution_count": 517,
     "metadata": {},
     "output_type": "execute_result"
    }
   ],
   "source": [
    "B"
   ]
  },
  {
   "attachments": {},
   "cell_type": "markdown",
   "metadata": {},
   "source": [
    "## Histograms conditioned on MMO, Indie and release_year"
   ]
  },
  {
   "cell_type": "code",
   "execution_count": 519,
   "metadata": {},
   "outputs": [
    {
     "data": {
      "text/plain": [
       "(array([2.04185809e-03, 2.04185809e-03, 3.26697295e-02, 3.67534456e-02,\n",
       "        4.69627361e-02, 9.39254722e-02, 1.49055641e-01, 1.73557938e-01,\n",
       "        2.53190403e-01, 3.04236856e-01, 5.10464523e-01, 6.55436447e-01,\n",
       "        8.90250128e-01, 1.19244513e+00, 1.61919347e+00, 2.20316488e+00,\n",
       "        2.66870852e+00, 3.15262889e+00, 3.63450740e+00, 2.37876468e+00]),\n",
       " array([0.  , 0.05, 0.1 , 0.15, 0.2 , 0.25, 0.3 , 0.35, 0.4 , 0.45, 0.5 ,\n",
       "        0.55, 0.6 , 0.65, 0.7 , 0.75, 0.8 , 0.85, 0.9 , 0.95, 1.  ]),\n",
       " <BarContainer object of 20 artists>)"
      ]
     },
     "execution_count": 519,
     "metadata": {},
     "output_type": "execute_result"
    },
    {
     "data": {
      "image/png": "[encoded data removed]",
      "text/plain": [
       "<Figure size 1152x360 with 3 Axes>"
      ]
     },
     "metadata": {
      "needs_background": "light"
     },
     "output_type": "display_data"
    }
   ],
   "source": [
    "bins = np.linspace(0,1,21)\n",
    "fig, (ax1, ax2, ax3) = plt.subplots(1, 3,figsize=(16, 5))\n",
    "fig.suptitle('MMO', fontsize=16)\n",
    "ax1.hist(df.loc[df['MMO'] == 1][\"score\"],bins)\n",
    "ax2.hist(df.loc[df[\"MMO\"] == 0][\"score\"],bins)\n",
    "ax1.set_title(\"MMO=1\")\n",
    "ax2.set_title(\"MMO=0\")\n",
    "ax3.hist(df.loc[df['MMO'] == 1][\"score\"],bins, density=True, alpha=0.5)\n",
    "ax3.hist(df.loc[df[\"MMO\"] == 0][\"score\"],bins, density=True, alpha=0.5)"
   ]
  },
  {
   "cell_type": "markdown",
   "metadata": {},
   "source": [
    "eyeballing the plot shows already that MMOs are worse rated than non-MMOs. This goes against our prediction that that MMOs are better rated, as playing togehter is supposedly more fun (explanation could be bugs, toxic gamers etc.)"
   ]
  },
  {
   "cell_type": "markdown",
   "metadata": {},
   "source": [
    "confirm with Whitney U-Test:"
   ]
  },
  {
   "cell_type": "code",
   "execution_count": 520,
   "metadata": {},
   "outputs": [
    {
     "data": {
      "text/plain": [
       "MannwhitneyuResult(statistic=1368567.0, pvalue=1.0)"
      ]
     },
     "execution_count": 520,
     "metadata": {},
     "output_type": "execute_result"
    }
   ],
   "source": [
    "stats.mannwhitneyu(df.loc[df[\"MMO\"] == 0][\"score\"], df.loc[df['MMO'] == 1][\"score\"],alternative=\"less\")"
   ]
  },
  {
   "cell_type": "markdown",
   "metadata": {},
   "source": [
    "whitneyu provides evidence that distribution of MMO=1 is NOT higher than distribution of MMO=0."
   ]
  },
  {
   "cell_type": "code",
   "execution_count": 521,
   "metadata": {},
   "outputs": [
    {
     "data": {
      "text/plain": [
       "(array([2.23588597e-03, 2.23588597e-03, 2.90665176e-02, 2.45947457e-02,\n",
       "        3.13024036e-02, 7.82560089e-02, 1.20737842e-01, 1.38624930e-01,\n",
       "        2.28060369e-01, 2.90665176e-01, 4.38233650e-01, 6.19340414e-01,\n",
       "        9.03297932e-01, 1.20290665e+00, 1.62101733e+00, 2.18893236e+00,\n",
       "        2.70542202e+00, 3.21296814e+00, 3.74734489e+00, 2.41475685e+00]),\n",
       " array([0.  , 0.05, 0.1 , 0.15, 0.2 , 0.25, 0.3 , 0.35, 0.4 , 0.45, 0.5 ,\n",
       "        0.55, 0.6 , 0.65, 0.7 , 0.75, 0.8 , 0.85, 0.9 , 0.95, 1.  ]),\n",
       " <BarContainer object of 20 artists>)"
      ]
     },
     "execution_count": 521,
     "metadata": {},
     "output_type": "execute_result"
    },
    {
     "data": {
      "image/png": "[encoded data removed]",
      "text/plain": [
       "<Figure size 1152x360 with 3 Axes>"
      ]
     },
     "metadata": {
      "needs_background": "light"
     },
     "output_type": "display_data"
    }
   ],
   "source": [
    "bins = np.linspace(0,1,21)\n",
    "fig, (ax1, ax2, ax3) = plt.subplots(1, 3,figsize=(16, 5))\n",
    "fig.suptitle('Downloadable Content', fontsize=16)\n",
    "ax1.hist(df.loc[df['Downloadable Content'] == 1][\"score\"],bins)\n",
    "ax2.hist(df.loc[df['Downloadable Content'] == 0][\"score\"],bins)\n",
    "ax1.set_title(\"Downloadable Content=1\")\n",
    "ax2.set_title(\"Downloadable Content=0\")\n",
    "ax3.hist(df.loc[df['Downloadable Content'] == 1][\"score\"],bins, density=True, alpha=0.5)\n",
    "ax3.hist(df.loc[df['Downloadable Content'] == 0][\"score\"],bins, density=True, alpha=0.5)"
   ]
  },
  {
   "cell_type": "code",
   "execution_count": 522,
   "metadata": {},
   "outputs": [],
   "source": [
    "#stats.mannwhitneyu(df.loc[df['Downloadable Content'] == 0][\"score\"], df.loc[df['Downloadable Content'] == 1][\"score\"],alternative=\"less\")"
   ]
  },
  {
   "cell_type": "code",
   "execution_count": 523,
   "metadata": {},
   "outputs": [
    {
     "data": {
      "text/plain": [
       "(array([0.00516529, 0.00516529, 0.08780992, 0.06198347, 0.08780992,\n",
       "        0.15495868, 0.20144628, 0.25309917, 0.30475207, 0.4803719 ,\n",
       "        0.73863636, 0.79028926, 1.07438017, 1.24483471, 1.70454545,\n",
       "        2.23140496, 2.74793388, 3.01136364, 3.00619835, 1.80785124]),\n",
       " array([0.  , 0.05, 0.1 , 0.15, 0.2 , 0.25, 0.3 , 0.35, 0.4 , 0.45, 0.5 ,\n",
       "        0.55, 0.6 , 0.65, 0.7 , 0.75, 0.8 , 0.85, 0.9 , 0.95, 1.  ]),\n",
       " <BarContainer object of 20 artists>)"
      ]
     },
     "execution_count": 523,
     "metadata": {},
     "output_type": "execute_result"
    },
    {
     "data": {
      "image/png": "[encoded data removed]",
      "text/plain": [
       "<Figure size 1152x360 with 3 Axes>"
      ]
     },
     "metadata": {
      "needs_background": "light"
     },
     "output_type": "display_data"
    }
   ],
   "source": [
    "bins = np.linspace(0,1,21)\n",
    "fig, (ax1, ax2, ax3) = plt.subplots(1, 3,figsize=(16, 5))\n",
    "fig.suptitle('Downloadable Content', fontsize=16)\n",
    "ax1.hist(df.loc[df['Indie'] == 1][\"score\"],bins)\n",
    "ax2.hist(df.loc[df['Indie'] == 0][\"score\"],bins)\n",
    "ax1.set_title('Indie=1')\n",
    "ax2.set_title('Indie=0')\n",
    "ax3.hist(df.loc[df['Indie'] == 1][\"score\"],bins, density=True, alpha=0.5)\n",
    "ax3.hist(df.loc[df['Indie'] == 0][\"score\"],bins, density=True, alpha=0.5)"
   ]
  },
  {
   "cell_type": "code",
   "execution_count": 524,
   "metadata": {},
   "outputs": [
    {
     "data": {
      "text/plain": [
       "MannwhitneyuResult(statistic=10105239.0, pvalue=3.482767775659832e-36)"
      ]
     },
     "execution_count": 524,
     "metadata": {},
     "output_type": "execute_result"
    }
   ],
   "source": [
    "stats.mannwhitneyu(df.loc[df['Indie'] == 0][\"score\"], df.loc[df['Indie'] == 1][\"score\"], alternative=\"less\")"
   ]
  },
  {
   "cell_type": "markdown",
   "metadata": {},
   "source": [
    "Whitneyu provides evidence that Indie games are better than non-indie games"
   ]
  },
  {
   "cell_type": "code",
   "execution_count": 525,
   "metadata": {},
   "outputs": [],
   "source": [
    "#set(df[\"relase_year\"])"
   ]
  },
  {
   "cell_type": "code",
   "execution_count": 526,
   "metadata": {},
   "outputs": [],
   "source": [
    "A = np.zeros(len(set(df[\"relase_year\"])))\n",
    "for i in range(len(set(df[\"relase_year\"]))):\n",
    "    A[i] = np.mean(df.loc[lambda df: df.relase_year == 1998+i,\"score\"])\n",
    "    "
   ]
  },
  {
   "cell_type": "code",
   "execution_count": 527,
   "metadata": {},
   "outputs": [
    {
     "data": {
      "text/plain": [
       "Text(0.5, 1.0, 'average game-score by release year')"
      ]
     },
     "execution_count": 527,
     "metadata": {},
     "output_type": "execute_result"
    },
    {
     "data": {
      "image/png": "[encoded data removed]",
      "text/plain": [
       "<Figure size 432x288 with 1 Axes>"
      ]
     },
     "metadata": {
      "needs_background": "light"
     },
     "output_type": "display_data"
    }
   ],
   "source": [
    "plt.plot(A,\".\")\n",
    "plt.ylabel(\"Score\")\n",
    "plt.xlabel(\"release year\")\n",
    "plt.xticks([2,7,12,17,22],labels=[\"2000\",\"2005\", \"2010\", \"2015\", \"2020\"])\n",
    "plt.title(\"average game-score by release year\")"
   ]
  },
  {
   "cell_type": "markdown",
   "metadata": {},
   "source": [
    "Dem anschein nach scheinen spiele mal besser (bewertet) gewesen zu sein. Der Plot ist Allerdings mit Vorsicht zu genießen,\n",
    "z.B. für die Jahre 1998,1999 sind nur 1-2 Spiele im Datensatz."
   ]
  },
  {
   "cell_type": "markdown",
   "metadata": {},
   "source": [
    "# try comparing all histograms conditioned on all categorical variables:"
   ]
  },
  {
   "cell_type": "code",
   "execution_count": 528,
   "metadata": {},
   "outputs": [],
   "source": [
    "#for idx in range(1, len(df.columns)-1):\n",
    "#    fig, (ax1, ax2) = plt.subplots(1, 2,figsize=(14, 5))\n",
    "#    fig.suptitle(df.columns[idx], fontsize=16)\n",
    "#    ax1.hist(df.loc[df.iloc[:,idx] == 1][\"score\"],bins)\n",
    "#    ax2.hist(df.loc[df.iloc[:,idx] == 0][\"score\"],bins)\n",
    "#    ax1.set_title(df.columns[idx]+\"=1\")\n",
    "#    ax2.set_title(df.columns[idx]+\"=0\")"
   ]
  },
  {
   "cell_type": "markdown",
   "metadata": {},
   "source": [
    "# standardize data before using it as NN input"
   ]
  },
  {
   "cell_type": "code",
   "execution_count": 529,
   "metadata": {},
   "outputs": [],
   "source": [
    "df_stand = df.copy(deep=True)"
   ]
  },
  {
   "cell_type": "code",
   "execution_count": 530,
   "metadata": {},
   "outputs": [],
   "source": [
    "age = df[\"required_age\"]"
   ]
  },
  {
   "cell_type": "code",
   "execution_count": 531,
   "metadata": {},
   "outputs": [],
   "source": [
    "df_stand[\"required_age\"] = (age-np.mean(age))/np.std(age)"
   ]
  },
  {
   "cell_type": "code",
   "execution_count": 532,
   "metadata": {},
   "outputs": [],
   "source": [
    "price = np.array(df[\"price\"]).reshape(-1)"
   ]
  },
  {
   "cell_type": "code",
   "execution_count": 533,
   "metadata": {},
   "outputs": [],
   "source": [
    "df_stand[\"price\"] = (price-np.mean(price))/np.std(price)"
   ]
  },
  {
   "cell_type": "code",
   "execution_count": 534,
   "metadata": {},
   "outputs": [],
   "source": [
    "year = df[\"relase_year\"]"
   ]
  },
  {
   "cell_type": "code",
   "execution_count": 535,
   "metadata": {},
   "outputs": [],
   "source": [
    "df_stand[\"relase_year\"] = (year-np.mean(year))/np.std(year)"
   ]
  },
  {
   "cell_type": "code",
   "execution_count": 536,
   "metadata": {},
   "outputs": [
    {
     "data": {
      "text/plain": [
       "0       0.955032\n",
       "1       0.733668\n",
       "2       0.921053\n",
       "3       0.953191\n",
       "4       0.971429\n",
       "          ...   \n",
       "9995    0.921875\n",
       "9996    0.660407\n",
       "9997    0.677665\n",
       "9998    0.973799\n",
       "9999    0.601449\n",
       "Name: score, Length: 10000, dtype: float64"
      ]
     },
     "execution_count": 536,
     "metadata": {},
     "output_type": "execute_result"
    }
   ],
   "source": [
    "df_stand[\"score\"]"
   ]
  },
  {
   "cell_type": "code",
   "execution_count": 537,
   "metadata": {},
   "outputs": [],
   "source": [
    "#score = df[\"score\"]"
   ]
  },
  {
   "cell_type": "code",
   "execution_count": 538,
   "metadata": {},
   "outputs": [],
   "source": [
    "#df_stand[\"score\"] = (score-np.mean(score))/np.std(score)"
   ]
  },
  {
   "cell_type": "code",
   "execution_count": 539,
   "metadata": {},
   "outputs": [],
   "source": [
    "#df_stand"
   ]
  },
  {
   "cell_type": "markdown",
   "metadata": {},
   "source": [
    "# try achieving less error with NN"
   ]
  },
  {
   "cell_type": "code",
   "execution_count": 540,
   "metadata": {},
   "outputs": [
    {
     "ename": "ModuleNotFoundError",
     "evalue": "No module named 'torchvision'",
     "output_type": "error",
     "traceback": [
      "\u001b[0;31m---------------------------------------------------------------------------\u001b[0m",
      "\u001b[0;31mModuleNotFoundError\u001b[0m                       Traceback (most recent call last)",
      "\u001b[0;32m<ipython-input-540-efda8c5fd0b2>\u001b[0m in \u001b[0;36m<module>\u001b[0;34m\u001b[0m\n\u001b[1;32m      4\u001b[0m \u001b[0;32mimport\u001b[0m \u001b[0mtorch\u001b[0m\u001b[0;34m.\u001b[0m\u001b[0moptim\u001b[0m \u001b[0;32mas\u001b[0m \u001b[0moptim\u001b[0m\u001b[0;34m\u001b[0m\u001b[0;34m\u001b[0m\u001b[0m\n\u001b[1;32m      5\u001b[0m \u001b[0;32mfrom\u001b[0m \u001b[0mtorch\u001b[0m\u001b[0;34m.\u001b[0m\u001b[0mutils\u001b[0m\u001b[0;34m.\u001b[0m\u001b[0mdata\u001b[0m \u001b[0;32mimport\u001b[0m \u001b[0mDataset\u001b[0m\u001b[0;34m,\u001b[0m \u001b[0mDataLoader\u001b[0m\u001b[0;34m\u001b[0m\u001b[0;34m\u001b[0m\u001b[0m\n\u001b[0;32m----> 6\u001b[0;31m \u001b[0;32mfrom\u001b[0m \u001b[0mtorchvision\u001b[0m \u001b[0;32mimport\u001b[0m \u001b[0mtransforms\u001b[0m\u001b[0;34m,\u001b[0m \u001b[0mutils\u001b[0m\u001b[0;34m\u001b[0m\u001b[0;34m\u001b[0m\u001b[0m\n\u001b[0m\u001b[1;32m      7\u001b[0m \u001b[0;32mfrom\u001b[0m \u001b[0mskimage\u001b[0m \u001b[0;32mimport\u001b[0m \u001b[0mio\u001b[0m\u001b[0;34m,\u001b[0m \u001b[0mtransform\u001b[0m\u001b[0;34m\u001b[0m\u001b[0;34m\u001b[0m\u001b[0m\n",
      "\u001b[0;31mModuleNotFoundError\u001b[0m: No module named 'torchvision'"
     ]
    }
   ],
   "source": [
    "import torch\n",
    "import torch.nn as nn\n",
    "import torch.nn.functional as F\n",
    "import torch.optim as optim\n",
    "from torch.utils.data import Dataset, DataLoader\n",
    "from torchvision import transforms, utils\n",
    "from skimage import io, transform"
   ]
  },
  {
   "cell_type": "code",
   "execution_count": null,
   "metadata": {},
   "outputs": [],
   "source": [
    "import datetime"
   ]
  },
  {
   "cell_type": "code",
   "execution_count": null,
   "metadata": {},
   "outputs": [],
   "source": [
    "device = (torch.device('cuda') if torch.cuda.is_available()\n",
    "else torch.device('cpu'))"
   ]
  },
  {
   "cell_type": "code",
   "execution_count": null,
   "metadata": {},
   "outputs": [],
   "source": [
    "class SteamData(Dataset):\n",
    "    def __init__(self, df):\n",
    "        super().__init__()\n",
    "        self.df = df\n",
    "        self.data_size = len(self.df)\n",
    "        self.num_variables = len(self.df.columns[0:-1])\n",
    "        self.transform = transform\n",
    "    \n",
    "    def __len__(self):\n",
    "        return len(self.df)\n",
    "    \n",
    "    def __getitem__(self,idx):\n",
    "        IVs = torch.from_numpy(np.array(self.df.iloc[idx,0:-1],dtype=np.double))\n",
    "        target = torch.from_numpy(np.array(self.df.loc[idx,\"score\"], dtype=np.double))\n",
    "        \n",
    "        sample = (IVs,target)\n",
    "        \n",
    "        #if self.transform:\n",
    "        #    sample = self.transform(sample)\n",
    "        return sample"
   ]
  },
  {
   "cell_type": "code",
   "execution_count": null,
   "metadata": {},
   "outputs": [],
   "source": [
    "Dataloader_steam = SteamData(df_stand)"
   ]
  },
  {
   "cell_type": "code",
   "execution_count": null,
   "metadata": {},
   "outputs": [],
   "source": [
    "BATCHSIZE = 64"
   ]
  },
  {
   "cell_type": "code",
   "execution_count": null,
   "metadata": {},
   "outputs": [],
   "source": [
    "generator=torch.Generator().manual_seed(42)"
   ]
  },
  {
   "cell_type": "code",
   "execution_count": null,
   "metadata": {},
   "outputs": [],
   "source": [
    "train_size = int(0.7 * len(df_stand))\n",
    "test_size = len(df_stand) - train_size\n",
    "train_dataset, test_dataset = torch.utils.data.random_split(Dataloader_steam, [train_size, test_size], generator =generator)"
   ]
  },
  {
   "cell_type": "code",
   "execution_count": null,
   "metadata": {},
   "outputs": [],
   "source": [
    "SteamData_train_loader = torch.utils.data.DataLoader(train_dataset, batch_size=BATCHSIZE,\n",
    "shuffle=True)\n",
    "\n",
    "SteamData_val_loader = torch.utils.data.DataLoader(test_dataset, batch_size=BATCHSIZE,\n",
    "shuffle=False)"
   ]
  },
  {
   "cell_type": "code",
   "execution_count": null,
   "metadata": {},
   "outputs": [],
   "source": [
    "#for IVs, score in SteamData_train_loader:\n",
    "#    print(IVs.shape) \n",
    "#    print(score.shape)"
   ]
  },
  {
   "cell_type": "code",
   "execution_count": null,
   "metadata": {},
   "outputs": [
    {
     "data": {
      "text/plain": [
       "54"
      ]
     },
     "execution_count": 382,
     "metadata": {},
     "output_type": "execute_result"
    }
   ],
   "source": [
    "len(df.columns)"
   ]
  },
  {
   "cell_type": "code",
   "execution_count": null,
   "metadata": {},
   "outputs": [],
   "source": [
    "class NN(nn.Module):\n",
    "    def __init__(self):\n",
    "        super().__init__()\n",
    "        self.lin1 = nn.Linear(53,128)\n",
    "        self.lin2 = nn.Linear(128,256)\n",
    "        self.lin3 = nn.Linear(256,128)\n",
    "        self.lin4 = nn.Linear(128,1)\n",
    "        \n",
    "    def forward(self,x):\n",
    "        out = F.leaky_relu(self.lin1(x))\n",
    "        out = F.leaky_relu(self.lin2(out))\n",
    "        out = F.leaky_relu(self.lin3(out))\n",
    "        out = F.sigmoid(self.lin4(out))\n",
    "        return out"
   ]
  },
  {
   "cell_type": "code",
   "execution_count": null,
   "metadata": {},
   "outputs": [],
   "source": [
    "class NN3(nn.Module):\n",
    "    def __init__(self):\n",
    "        super().__init__()\n",
    "        self.lin1 = nn.Linear(53,128)\n",
    "        self.lin2 = nn.Linear(128,256)\n",
    "        self.lin3 = nn.Linear(256,128)\n",
    "        self.lin4 = nn.Linear(128,1)\n",
    "        \n",
    "    def forward(self,x):\n",
    "        out = F.sigmoid(self.lin1(x))\n",
    "        out = F.sigmoid(self.lin2(out))\n",
    "        out = F.sigmoid(self.lin3(out))\n",
    "        out = F.sigmoid(self.lin4(out))\n",
    "        return out"
   ]
  },
  {
   "cell_type": "code",
   "execution_count": null,
   "metadata": {},
   "outputs": [],
   "source": [
    "class NN2(nn.Module):\n",
    "    def __init__(self):\n",
    "        super().__init__()\n",
    "        self.lin1 = nn.Linear(53,256)\n",
    "        self.lin2 = nn.Linear(256,256)\n",
    "        self.lin3 = nn.Linear(256,256)\n",
    "        self.lin4 = nn.Linear(256,1)\n",
    "        \n",
    "    def forward(self,x):\n",
    "        out = F.tanh(self.lin1(x))\n",
    "        out = F.tanh(self.lin2(out))\n",
    "        out = F.tanh(self.lin3(out))\n",
    "        out = F.tanh(self.lin4(out))\n",
    "        return out"
   ]
  },
  {
   "cell_type": "code",
   "execution_count": null,
   "metadata": {},
   "outputs": [],
   "source": [
    "class NN3(nn.Module):\n",
    "    def __init__(self):\n",
    "        super().__init__()\n",
    "        self.lin1 = nn.Linear(53,128)\n",
    "        self.lin2 = nn.Linear(128,256)\n",
    "        self.lin3 = nn.Linear(256,128)\n",
    "        self.lin4 = nn.Linear(128,1)\n",
    "        \n",
    "    def forward(self,x):\n",
    "        out = F.tanh(self.lin1(x))\n",
    "        out = F.tanh(self.lin2(out))\n",
    "        out = F.tanh(self.lin3(out))\n",
    "        out = F.tanh(self.lin4(out))\n",
    "        return out"
   ]
  },
  {
   "cell_type": "code",
   "execution_count": null,
   "metadata": {},
   "outputs": [],
   "source": [
    "model = NN()"
   ]
  },
  {
   "cell_type": "code",
   "execution_count": null,
   "metadata": {},
   "outputs": [],
   "source": [
    "model = model.to(device=device)\n",
    "model = model.double()\n",
    "optimizer = torch.optim.Adam(model.parameters(), lr=1e-4)\n",
    "loss_fn = nn.MSELoss()\n",
    "model.train()\n",
    "n_epochs = 20"
   ]
  },
  {
   "cell_type": "code",
   "execution_count": null,
   "metadata": {},
   "outputs": [],
   "source": [
    "def training_loop(n_epochs, optimizer, model, loss_fn, train_loader, val_loader):\n",
    "    loss_train = np.array(n_epochs)\n",
    "    loss_val = np.array(n_epochs)\n",
    "    for epoch in range(1,n_epochs+1):\n",
    "        model.train()\n",
    "        total_loss_train = 0\n",
    "        total_loss_val = 0\n",
    "        for IV, score in train_loader:\n",
    "            IV = IV.to(device=device)\n",
    "            score = score.to(device=device)\n",
    "            #print(score)\n",
    "            outputs = model(IV)\n",
    "            #print(outputs)\n",
    "            #print(outputs.shape)\n",
    "            loss_train = loss_fn(outputs.flatten(), score)\n",
    "            optimizer.zero_grad()\n",
    "            loss_train.backward()\n",
    "            optimizer.step()\n",
    "            \n",
    "            total_loss_train+=loss_train\n",
    "        \n",
    "        for IV, score in val_loader:\n",
    "            model.eval()\n",
    "            with torch.no_grad():\n",
    "                IV = IV.to(device=device)\n",
    "                score = score.to(device=device)\n",
    "                outputs = model(IV)\n",
    "                #print(outputs)\n",
    "                loss_val = loss_fn(outputs.flatten(), score)\n",
    "                \n",
    "                total_loss_val+=loss_val\n",
    "       \n",
    "            \n",
    "            \n",
    "\n",
    "        if epoch ==1 or epoch % 1 == 0:\n",
    "            print(\"{} Epoch {}, Training loss {}, Validation Loss: {}\".format(\n",
    "            datetime.datetime.now(), epoch,\n",
    "            total_loss_train/ len(train_loader), total_loss_val/len(val_loader)))"
   ]
  },
  {
   "cell_type": "code",
   "execution_count": null,
   "metadata": {},
   "outputs": [
    {
     "name": "stderr",
     "output_type": "stream",
     "text": [
      "C:\\Users\\Marco\\anaconda3\\lib\\site-packages\\torch\\nn\\functional.py:1806: UserWarning: nn.functional.sigmoid is deprecated. Use torch.sigmoid instead.\n",
      "  warnings.warn(\"nn.functional.sigmoid is deprecated. Use torch.sigmoid instead.\")\n"
     ]
    },
    {
     "name": "stdout",
     "output_type": "stream",
     "text": [
      "2023-01-27 17:41:45.873686 Epoch 1, Training loss 0.061748960867782914, Validation Loss: 0.025326012901554243\n",
      "2023-01-27 17:41:48.582411 Epoch 2, Training loss 0.024216764205516085, Validation Loss: 0.023372078734407588\n",
      "2023-01-27 17:41:51.155385 Epoch 3, Training loss 0.022687218185443597, Validation Loss: 0.022414028724833456\n",
      "2023-01-27 17:41:53.649102 Epoch 4, Training loss 0.02192177071100071, Validation Loss: 0.02181533442262494\n",
      "2023-01-27 17:41:56.089336 Epoch 5, Training loss 0.021227665951823103, Validation Loss: 0.021365788219348408\n",
      "2023-01-27 17:41:58.640584 Epoch 6, Training loss 0.020757355353865716, Validation Loss: 0.02100640561444677\n",
      "2023-01-27 17:42:01.127019 Epoch 7, Training loss 0.0203806899753596, Validation Loss: 0.02080571918549711\n",
      "2023-01-27 17:42:03.726410 Epoch 8, Training loss 0.02005404111702443, Validation Loss: 0.020712521709268968\n",
      "2023-01-27 17:42:06.166586 Epoch 9, Training loss 0.019884125073109347, Validation Loss: 0.02059524019423685\n",
      "2023-01-27 17:42:08.658396 Epoch 10, Training loss 0.01962886233139861, Validation Loss: 0.02052673537209701\n",
      "2023-01-27 17:42:11.130754 Epoch 11, Training loss 0.019499108506928178, Validation Loss: 0.020504098746777156\n",
      "2023-01-27 17:42:13.575205 Epoch 12, Training loss 0.0192552560077171, Validation Loss: 0.02047371495230369\n",
      "2023-01-27 17:42:16.025600 Epoch 13, Training loss 0.01909060863376633, Validation Loss: 0.0204113613857691\n",
      "2023-01-27 17:42:18.674404 Epoch 14, Training loss 0.01900110662615663, Validation Loss: 0.020308639951937883\n",
      "2023-01-27 17:42:21.140440 Epoch 15, Training loss 0.018854644875423387, Validation Loss: 0.020312019366563783\n",
      "2023-01-27 17:42:23.575110 Epoch 16, Training loss 0.018699583842487873, Validation Loss: 0.02038516151773336\n",
      "2023-01-27 17:42:26.050145 Epoch 17, Training loss 0.018632934078190125, Validation Loss: 0.02027778444180404\n",
      "2023-01-27 17:42:28.522982 Epoch 18, Training loss 0.01841341057292477, Validation Loss: 0.020300224529093365\n",
      "2023-01-27 17:42:30.975897 Epoch 19, Training loss 0.018339081294117147, Validation Loss: 0.020285496558379214\n",
      "2023-01-27 17:42:33.470738 Epoch 20, Training loss 0.018115863332961214, Validation Loss: 0.02029069238762092\n"
     ]
    }
   ],
   "source": [
    "training_loop(n_epochs, optimizer, model, loss_fn, SteamData_train_loader, SteamData_val_loader)"
   ]
  },
  {
   "cell_type": "code",
   "execution_count": null,
   "metadata": {},
   "outputs": [
    {
     "data": {
      "text/plain": [
       "54"
      ]
     },
     "execution_count": 395,
     "metadata": {},
     "output_type": "execute_result"
    }
   ],
   "source": [
    "len(df.columns)"
   ]
  },
  {
   "cell_type": "markdown",
   "metadata": {},
   "source": [
    "## check residual plot for NN"
   ]
  },
  {
   "cell_type": "code",
   "execution_count": null,
   "metadata": {},
   "outputs": [],
   "source": [
    "test_samples = np.zeros((len(SteamData_val_loader.dataset),53))"
   ]
  },
  {
   "cell_type": "code",
   "execution_count": null,
   "metadata": {},
   "outputs": [],
   "source": [
    "test_samples_score = np.zeros(len(SteamData_val_loader.dataset))"
   ]
  },
  {
   "cell_type": "code",
   "execution_count": null,
   "metadata": {},
   "outputs": [],
   "source": [
    "idx=0\n",
    "for IV,score in SteamData_val_loader:\n",
    "    #print(IV.shape[0])\n",
    "    #IV.shape[0]\n",
    "    test_samples[idx:idx+IV.shape[0]] = IV\n",
    "    test_samples_score[idx:idx+IV.shape[0]] = score\n",
    "    idx=idx+IV.shape[0]"
   ]
  },
  {
   "cell_type": "code",
   "execution_count": null,
   "metadata": {},
   "outputs": [],
   "source": [
    "test_samples = (torch.from_numpy(test_samples)).to(device)"
   ]
  },
  {
   "cell_type": "code",
   "execution_count": null,
   "metadata": {},
   "outputs": [
    {
     "name": "stderr",
     "output_type": "stream",
     "text": [
      "C:\\Users\\Marco\\anaconda3\\lib\\site-packages\\torch\\nn\\functional.py:1806: UserWarning: nn.functional.sigmoid is deprecated. Use torch.sigmoid instead.\n",
      "  warnings.warn(\"nn.functional.sigmoid is deprecated. Use torch.sigmoid instead.\")\n"
     ]
    }
   ],
   "source": [
    "with torch.no_grad():\n",
    "    y_pred_NN = model(test_samples)"
   ]
  },
  {
   "cell_type": "code",
   "execution_count": null,
   "metadata": {},
   "outputs": [],
   "source": [
    "#y_pred_NN[:100]"
   ]
  },
  {
   "cell_type": "code",
   "execution_count": null,
   "metadata": {},
   "outputs": [
    {
     "data": {
      "text/plain": [
       "array([0.88461538, 0.78181818, 0.79049296, ..., 0.92041522, 0.84759456,\n",
       "       0.83950617])"
      ]
     },
     "execution_count": 402,
     "metadata": {},
     "output_type": "execute_result"
    }
   ],
   "source": [
    "test_samples_score"
   ]
  },
  {
   "cell_type": "code",
   "execution_count": null,
   "metadata": {},
   "outputs": [
    {
     "data": {
      "text/plain": [
       "tensor([[0.8361],\n",
       "        [0.6914],\n",
       "        [0.8036],\n",
       "        ...,\n",
       "        [0.8297],\n",
       "        [0.8246],\n",
       "        [0.8930]], device='cuda:0', dtype=torch.float64)"
      ]
     },
     "execution_count": 403,
     "metadata": {},
     "output_type": "execute_result"
    }
   ],
   "source": [
    "y_pred_NN "
   ]
  },
  {
   "cell_type": "code",
   "execution_count": null,
   "metadata": {},
   "outputs": [
    {
     "data": {
      "text/plain": [
       "0.16647645455064763"
      ]
     },
     "execution_count": 404,
     "metadata": {},
     "output_type": "execute_result"
    }
   ],
   "source": [
    "explained_variance_score(test_samples_score,y_pred_NN.cpu().numpy())"
   ]
  },
  {
   "cell_type": "code",
   "execution_count": null,
   "metadata": {},
   "outputs": [
    {
     "data": {
      "text/plain": [
       "array([0.83610838, 0.69138183, 0.80360951, ..., 0.82970871, 0.82460898,\n",
       "       0.89304716])"
      ]
     },
     "execution_count": 405,
     "metadata": {},
     "output_type": "execute_result"
    }
   ],
   "source": [
    "y_pred_NN.cpu().numpy().reshape(-1)"
   ]
  },
  {
   "cell_type": "code",
   "execution_count": null,
   "metadata": {},
   "outputs": [
    {
     "data": {
      "text/plain": [
       "(3000,)"
      ]
     },
     "execution_count": 406,
     "metadata": {},
     "output_type": "execute_result"
    }
   ],
   "source": [
    "(y_pred_NN.cpu().numpy().reshape(-1)- test_samples_score).shape"
   ]
  },
  {
   "cell_type": "code",
   "execution_count": null,
   "metadata": {},
   "outputs": [
    {
     "data": {
      "text/plain": [
       "[<matplotlib.lines.Line2D at 0x22b1f1705b0>]"
      ]
     },
     "execution_count": 407,
     "metadata": {},
     "output_type": "execute_result"
    },
    {
     "data": {
      "image/png": "[encoded data removed]",
      "text/plain": [
       "<Figure size 432x288 with 1 Axes>"
      ]
     },
     "metadata": {
      "needs_background": "light"
     },
     "output_type": "display_data"
    }
   ],
   "source": [
    "plt.plot(y_pred_NN.cpu().numpy().reshape(-1) ,y_pred_NN.cpu().numpy().reshape(-1)- test_samples_score,\".\")"
   ]
  },
  {
   "cell_type": "markdown",
   "metadata": {},
   "source": [
    "### predicted vs actual values"
   ]
  },
  {
   "cell_type": "code",
   "execution_count": null,
   "metadata": {},
   "outputs": [
    {
     "data": {
      "text/plain": [
       "[<matplotlib.lines.Line2D at 0x22b14c12ca0>]"
      ]
     },
     "execution_count": 408,
     "metadata": {},
     "output_type": "execute_result"
    },
    {
     "data": {
      "image/png": "[encoded data removed]",
      "text/plain": [
       "<Figure size 432x288 with 1 Axes>"
      ]
     },
     "metadata": {
      "needs_background": "light"
     },
     "output_type": "display_data"
    }
   ],
   "source": [
    "plt.plot(y_pred_NN.cpu().numpy(),test_samples_score,\".\")"
   ]
  },
  {
   "cell_type": "markdown",
   "metadata": {},
   "source": [
    "# plot difference between regression and NN"
   ]
  },
  {
   "cell_type": "code",
   "execution_count": null,
   "metadata": {},
   "outputs": [],
   "source": [
    "X_train, X_test, y_train, y_test = train_test_split(df[df.columns[best_fit_indices_min[1]]],df[\"score\"] , test_size=0.3, random_state=42)\n",
    "reg = LinearRegression().fit(X_train, y_train)\n",
    "y_pred = reg.predict(X_test)\n",
    "explained_var = explained_variance_score(y_test, y_pred)\n",
    "MSE = mean_squared_error(y_pred, y_test)"
   ]
  },
  {
   "cell_type": "code",
   "execution_count": null,
   "metadata": {},
   "outputs": [
    {
     "data": {
      "text/plain": [
       "(0.12119583473834483, 0.021182211904347804)"
      ]
     },
     "execution_count": 410,
     "metadata": {},
     "output_type": "execute_result"
    }
   ],
   "source": [
    "explained_var, MSE"
   ]
  },
  {
   "cell_type": "code",
   "execution_count": null,
   "metadata": {},
   "outputs": [
    {
     "data": {
      "text/plain": [
       "Text(0.5, 0, 'residuals/erros')"
      ]
     },
     "execution_count": 425,
     "metadata": {},
     "output_type": "execute_result"
    },
    {
     "data": {
      "image/png": "[encoded data removed]",
      "text/plain": [
       "<Figure size 1152x360 with 2 Axes>"
      ]
     },
     "metadata": {
      "needs_background": "light"
     },
     "output_type": "display_data"
    }
   ],
   "source": [
    "bins = np.linspace(0.4,1,21)\n",
    "bins2 = np.linspace(-0.5,0.75,30)\n",
    "fig, (ax1, ax2) = plt.subplots(1, 2,figsize=(16, 5))\n",
    "ax1.hist(y_pred, bins, alpha=0.5, label=\"linear regression\")\n",
    "ax1.hist(y_pred_NN.cpu().numpy().reshape(-1), bins, alpha=0.5, label=\"NN\")\n",
    "ax1.legend()\n",
    "ax1.set_title(\"predicted scores\")\n",
    "ax1.set_xlabel(\"score\")\n",
    "ax2.hist(y_pred-y_test, bins2, alpha=0.5, label=\"linear regression\")\n",
    "ax2.hist(y_pred_NN.cpu().numpy().reshape(-1)- test_samples_score, bins2, alpha=0.5, label=\"NN\")\n",
    "ax2.legend()\n",
    "ax2.set_title(\"residuals of predictions\")\n",
    "ax2.set_xlabel(\"residuals/erros\")"
   ]
  }
 ],
 "metadata": {
  "kernelspec": {
   "display_name": "Python 3 (ipykernel)",
   "language": "python",
   "name": "python3"
  },
  "language_info": {
   "codemirror_mode": {
    "name": "ipython",
    "version": 3
   },
   "file_extension": ".py",
   "mimetype": "text/x-python",
   "name": "python",
   "nbconvert_exporter": "python",
   "pygments_lexer": "ipython3",
   "version": "3.8.8"
  },
  "toc": {
   "base_numbering": 1,
   "nav_menu": {},
   "number_sections": true,
   "sideBar": false,
   "skip_h1_title": false,
   "title_cell": "Table of Contents",
   "title_sidebar": "Contents",
   "toc_cell": false,
   "toc_position": {},
   "toc_section_display": true,
   "toc_window_display": false
  },
  "varInspector": {
   "cols": {
    "lenName": 16,
    "lenType": 16,
    "lenVar": 40
   },
   "kernels_config": {
    "python": {
     "delete_cmd_postfix": "",
     "delete_cmd_prefix": "del ",
     "library": "var_list.py",
     "varRefreshCmd": "print(var_dic_list())"
    },
    "r": {
     "delete_cmd_postfix": ") ",
     "delete_cmd_prefix": "rm(",
     "library": "var_list.r",
     "varRefreshCmd": "cat(var_dic_list()) "
    }
   },
   "types_to_exclude": [
    "module",
    "function",
    "builtin_function_or_method",
    "instance",
    "_Feature"
   ],
   "window_display": false
  },
  "vscode": {
   "interpreter": {
    "hash": "0e9a04e0a5c422eb7d17f089ac60eed9f8e8db0d5bb014daab27a4ac46018303"
   }
  }
 },
 "nbformat": 4,
 "nbformat_minor": 2
}
